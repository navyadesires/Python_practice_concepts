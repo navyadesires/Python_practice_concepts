{
 "cells": [
  {
   "cell_type": "code",
   "execution_count": 1,
   "id": "2df8df48",
   "metadata": {},
   "outputs": [],
   "source": [
    "a =[56,34,34,34,20]"
   ]
  },
  {
   "cell_type": "code",
   "execution_count": 2,
   "id": "758fa20d",
   "metadata": {},
   "outputs": [],
   "source": [
    "a.sort()"
   ]
  },
  {
   "cell_type": "code",
   "execution_count": 3,
   "id": "f34627a0",
   "metadata": {},
   "outputs": [
    {
     "data": {
      "text/plain": [
       "[20, 34, 34, 34, 56]"
      ]
     },
     "execution_count": 3,
     "metadata": {},
     "output_type": "execute_result"
    }
   ],
   "source": [
    "a"
   ]
  },
  {
   "cell_type": "code",
   "execution_count": 4,
   "id": "a8ddf604",
   "metadata": {},
   "outputs": [],
   "source": [
    "b = [[5,6],[1,8],[9,2],[0,11],[4,6]]"
   ]
  },
  {
   "cell_type": "code",
   "execution_count": 5,
   "id": "aae07968",
   "metadata": {},
   "outputs": [
    {
     "data": {
      "text/plain": [
       "[[0, 11], [1, 8], [4, 6], [5, 6], [9, 2]]"
      ]
     },
     "execution_count": 5,
     "metadata": {},
     "output_type": "execute_result"
    }
   ],
   "source": [
    "b.sort()\n",
    "b"
   ]
  },
  {
   "cell_type": "code",
   "execution_count": 9,
   "id": "2befb9d5",
   "metadata": {},
   "outputs": [],
   "source": [
    "def mySort(l):\n",
    "    return l[1]"
   ]
  },
  {
   "cell_type": "code",
   "execution_count": 10,
   "id": "89f94449",
   "metadata": {},
   "outputs": [
    {
     "data": {
      "text/plain": [
       "[[9, 2], [4, 6], [5, 6], [1, 8], [0, 11]]"
      ]
     },
     "execution_count": 10,
     "metadata": {},
     "output_type": "execute_result"
    }
   ],
   "source": [
    "b.sort(key = mySort)\n",
    "b"
   ]
  },
  {
   "cell_type": "code",
   "execution_count": 14,
   "id": "9f52900c",
   "metadata": {},
   "outputs": [
    {
     "data": {
      "text/plain": [
       "[[9, 2], [4, 6], [5, 6], [1, 8], [0, 11]]"
      ]
     },
     "execution_count": 14,
     "metadata": {},
     "output_type": "execute_result"
    }
   ],
   "source": [
    "b.sort(key = lambda x:x[1])\n",
    "b"
   ]
  },
  {
   "cell_type": "code",
   "execution_count": 15,
   "id": "afd433aa",
   "metadata": {},
   "outputs": [
    {
     "data": {
      "text/plain": [
       "[20, 34, 34, 34, 56]"
      ]
     },
     "execution_count": 15,
     "metadata": {},
     "output_type": "execute_result"
    }
   ],
   "source": [
    "a"
   ]
  },
  {
   "cell_type": "code",
   "execution_count": 16,
   "id": "48a0e712",
   "metadata": {},
   "outputs": [],
   "source": [
    "a =[56,34,34,34,20]"
   ]
  },
  {
   "cell_type": "code",
   "execution_count": 18,
   "id": "821f985f",
   "metadata": {},
   "outputs": [
    {
     "data": {
      "text/plain": [
       "[20, 34, 34, 34, 56]"
      ]
     },
     "execution_count": 18,
     "metadata": {},
     "output_type": "execute_result"
    }
   ],
   "source": [
    "sorted(a)"
   ]
  },
  {
   "cell_type": "code",
   "execution_count": 19,
   "id": "378f5fad",
   "metadata": {},
   "outputs": [
    {
     "data": {
      "text/plain": [
       "[[0, 11], [1, 8], [4, 6], [5, 6], [9, 2]]"
      ]
     },
     "execution_count": 19,
     "metadata": {},
     "output_type": "execute_result"
    }
   ],
   "source": [
    "sorted(b, key=lambda x:x[0])"
   ]
  },
  {
   "cell_type": "code",
   "execution_count": 27,
   "id": "5ffb52b0",
   "metadata": {},
   "outputs": [
    {
     "data": {
      "text/plain": [
       "[0, 1, 2, 3, 4]"
      ]
     },
     "execution_count": 27,
     "metadata": {},
     "output_type": "execute_result"
    }
   ],
   "source": [
    "#i = sorted(range(len(b)), key = lambda x:b[1])\n",
    "#i"
   ]
  },
  {
   "cell_type": "code",
   "execution_count": 28,
   "id": "8753a326",
   "metadata": {},
   "outputs": [],
   "source": [
    "# writing list and the loop in a single line"
   ]
  },
  {
   "cell_type": "code",
   "execution_count": 29,
   "id": "ec0704a1",
   "metadata": {},
   "outputs": [
    {
     "data": {
      "text/plain": [
       "[1, 2, 3, 4, 5, 6, 7, 8, 9]"
      ]
     },
     "execution_count": 29,
     "metadata": {},
     "output_type": "execute_result"
    }
   ],
   "source": [
    "[i for i in range(1,10)]"
   ]
  },
  {
   "cell_type": "code",
   "execution_count": 31,
   "id": "4a92a1cf",
   "metadata": {},
   "outputs": [
    {
     "data": {
      "text/plain": [
       "[1, 2, 3, 4, 5, 6, 7, 8, 9]"
      ]
     },
     "execution_count": 31,
     "metadata": {},
     "output_type": "execute_result"
    }
   ],
   "source": [
    "c=[]\n",
    "for i in range(1,10):\n",
    "    c.append(i)\n",
    "c"
   ]
  },
  {
   "cell_type": "code",
   "execution_count": 32,
   "id": "c6b8480d",
   "metadata": {},
   "outputs": [],
   "source": [
    "# even number using compahension"
   ]
  },
  {
   "cell_type": "code",
   "execution_count": 34,
   "id": "fab80434",
   "metadata": {},
   "outputs": [
    {
     "data": {
      "text/plain": [
       "[2, 4, 6, 8, 10, 12, 14, 16, 18]"
      ]
     },
     "execution_count": 34,
     "metadata": {},
     "output_type": "execute_result"
    }
   ],
   "source": [
    "[j for j in range(1,20) if j%2 ==0]"
   ]
  },
  {
   "cell_type": "code",
   "execution_count": 39,
   "id": "541359e4",
   "metadata": {},
   "outputs": [
    {
     "data": {
      "text/plain": [
       "[6, 9, 6, 4, 5]"
      ]
     },
     "execution_count": 39,
     "metadata": {},
     "output_type": "execute_result"
    }
   ],
   "source": [
    "name = ['Yogesh', 'Abhishesh', 'Soniya', 'Poja','Ramya']\n",
    "[len(i) for i in name]"
   ]
  },
  {
   "cell_type": "code",
   "execution_count": 41,
   "id": "f1b00609",
   "metadata": {},
   "outputs": [
    {
     "data": {
      "text/plain": [
       "['YOGESH', 'ABHISHESH', 'SONIYA', 'POJA', 'RAMYA']"
      ]
     },
     "execution_count": 41,
     "metadata": {},
     "output_type": "execute_result"
    }
   ],
   "source": [
    "[i.upper() for i in name]"
   ]
  },
  {
   "cell_type": "code",
   "execution_count": 43,
   "id": "2a577230",
   "metadata": {},
   "outputs": [
    {
     "name": "stdout",
     "output_type": "stream",
     "text": [
      "4 3 7\n",
      "3\n",
      "7\n"
     ]
    }
   ],
   "source": [
    "d = [input() for i in range(3)]"
   ]
  },
  {
   "cell_type": "code",
   "execution_count": 44,
   "id": "dd13706b",
   "metadata": {},
   "outputs": [
    {
     "name": "stdout",
     "output_type": "stream",
     "text": [
      "3\n",
      "4\n",
      "5\n"
     ]
    }
   ],
   "source": [
    "e = [input() for i in range(3)]"
   ]
  },
  {
   "cell_type": "code",
   "execution_count": 45,
   "id": "10c13216",
   "metadata": {},
   "outputs": [
    {
     "data": {
      "text/plain": [
       "['3', '4', '5']"
      ]
     },
     "execution_count": 45,
     "metadata": {},
     "output_type": "execute_result"
    }
   ],
   "source": [
    "e"
   ]
  },
  {
   "cell_type": "code",
   "execution_count": 52,
   "id": "f0823746",
   "metadata": {},
   "outputs": [],
   "source": [
    "#above cell is\n",
    "f=[i for i in input().split(\" \")]"
   ]
  },
  {
   "cell_type": "code",
   "execution_count": 47,
   "id": "87ca4f77",
   "metadata": {},
   "outputs": [
    {
     "data": {
      "text/plain": [
       "['4', '5', '6', '7', '8']"
      ]
     },
     "execution_count": 47,
     "metadata": {},
     "output_type": "execute_result"
    }
   ],
   "source": [
    "f"
   ]
  },
  {
   "cell_type": "code",
   "execution_count": 50,
   "id": "3bf8b07e",
   "metadata": {},
   "outputs": [
    {
     "name": "stdout",
     "output_type": "stream",
     "text": [
      "3 4 5 7\n"
     ]
    }
   ],
   "source": [
    "g=[int(i) for i in input().split(\" \")]"
   ]
  },
  {
   "cell_type": "code",
   "execution_count": 51,
   "id": "d12a401a",
   "metadata": {},
   "outputs": [
    {
     "data": {
      "text/plain": [
       "[3, 4, 5, 7]"
      ]
     },
     "execution_count": 51,
     "metadata": {},
     "output_type": "execute_result"
    }
   ],
   "source": [
    "g"
   ]
  },
  {
   "cell_type": "code",
   "execution_count": 53,
   "id": "5ef53184",
   "metadata": {},
   "outputs": [],
   "source": [
    "# above cell is tacking input in a single line"
   ]
  },
  {
   "cell_type": "code",
   "execution_count": 55,
   "id": "10614e28",
   "metadata": {},
   "outputs": [
    {
     "data": {
      "text/plain": [
       "[('4', 3), ('5', 4), ('6', 5), ('7', 7)]"
      ]
     },
     "execution_count": 55,
     "metadata": {},
     "output_type": "execute_result"
    }
   ],
   "source": [
    "[i for i in zip(f, g)]"
   ]
  },
  {
   "cell_type": "code",
   "execution_count": 56,
   "id": "c6fd6690",
   "metadata": {},
   "outputs": [
    {
     "data": {
      "text/plain": [
       "[(4, 3), (5, 4), (6, 5), (7, 7)]"
      ]
     },
     "execution_count": 56,
     "metadata": {},
     "output_type": "execute_result"
    }
   ],
   "source": [
    "[(int(p),q) for p,q in zip(f,g)]"
   ]
  },
  {
   "cell_type": "code",
   "execution_count": 57,
   "id": "54a0da7e",
   "metadata": {},
   "outputs": [],
   "source": [
    "# wap using list comprehension  generate list of your name characters"
   ]
  },
  {
   "cell_type": "code",
   "execution_count": 58,
   "id": "9f4ca28a",
   "metadata": {},
   "outputs": [
    {
     "data": {
      "text/plain": [
       "['R', 'a', 'm', 'y', 'a']"
      ]
     },
     "execution_count": 58,
     "metadata": {},
     "output_type": "execute_result"
    }
   ],
   "source": [
    "[i for i in \"Ramya\"]"
   ]
  },
  {
   "cell_type": "code",
   "execution_count": 59,
   "id": "09bc7c8d",
   "metadata": {},
   "outputs": [
    {
     "data": {
      "text/plain": [
       "['even', 'odd', 'even', 'odd', 'even', 'odd', 'even', 'odd', 'even', 'odd']"
      ]
     },
     "execution_count": 59,
     "metadata": {},
     "output_type": "execute_result"
    }
   ],
   "source": [
    "['even' if i%2==0 else 'odd' for i in range(10)]"
   ]
  },
  {
   "cell_type": "code",
   "execution_count": 62,
   "id": "efc065f3",
   "metadata": {},
   "outputs": [
    {
     "data": {
      "text/plain": [
       "[0, 14, 28, 42, 56, 70, 84, 98]"
      ]
     },
     "execution_count": 62,
     "metadata": {},
     "output_type": "execute_result"
    }
   ],
   "source": [
    "[i for i in range(100) if i%2==0 and i%7 == 0]"
   ]
  },
  {
   "cell_type": "code",
   "execution_count": 63,
   "id": "fad27924",
   "metadata": {},
   "outputs": [],
   "source": [
    "#problem1"
   ]
  },
  {
   "cell_type": "code",
   "execution_count": 70,
   "id": "fd459c76",
   "metadata": {},
   "outputs": [
    {
     "name": "stdout",
     "output_type": "stream",
     "text": [
      "5\n",
      "2\n",
      "3\n",
      "2\n",
      "2\n",
      "0\n",
      "1\n",
      "1!\n"
     ]
    },
    {
     "ename": "ValueError",
     "evalue": "invalid literal for int() with base 10: '1!'",
     "output_type": "error",
     "traceback": [
      "\u001b[1;31m---------------------------------------------------------------------------\u001b[0m",
      "\u001b[1;31mValueError\u001b[0m                                Traceback (most recent call last)",
      "Input \u001b[1;32mIn [70]\u001b[0m, in \u001b[0;36m<cell line: 2>\u001b[1;34m()\u001b[0m\n\u001b[0;32m      1\u001b[0m p \u001b[38;5;241m=\u001b[39m [\u001b[38;5;28mint\u001b[39m(\u001b[38;5;28minput\u001b[39m()) \u001b[38;5;28;01mfor\u001b[39;00m i \u001b[38;5;129;01min\u001b[39;00m \u001b[38;5;28mrange\u001b[39m(\u001b[38;5;241m5\u001b[39m)] \n\u001b[1;32m----> 2\u001b[0m q \u001b[38;5;241m=\u001b[39m [\u001b[38;5;28mint\u001b[39m(\u001b[38;5;28minput\u001b[39m()) \u001b[38;5;28;01mfor\u001b[39;00m i \u001b[38;5;129;01min\u001b[39;00m \u001b[38;5;28mrange\u001b[39m(\u001b[38;5;241m5\u001b[39m)]\n",
      "Input \u001b[1;32mIn [70]\u001b[0m, in \u001b[0;36m<listcomp>\u001b[1;34m(.0)\u001b[0m\n\u001b[0;32m      1\u001b[0m p \u001b[38;5;241m=\u001b[39m [\u001b[38;5;28mint\u001b[39m(\u001b[38;5;28minput\u001b[39m()) \u001b[38;5;28;01mfor\u001b[39;00m i \u001b[38;5;129;01min\u001b[39;00m \u001b[38;5;28mrange\u001b[39m(\u001b[38;5;241m5\u001b[39m)] \n\u001b[1;32m----> 2\u001b[0m q \u001b[38;5;241m=\u001b[39m [\u001b[38;5;28;43mint\u001b[39;49m\u001b[43m(\u001b[49m\u001b[38;5;28;43minput\u001b[39;49m\u001b[43m(\u001b[49m\u001b[43m)\u001b[49m\u001b[43m)\u001b[49m \u001b[38;5;28;01mfor\u001b[39;00m i \u001b[38;5;129;01min\u001b[39;00m \u001b[38;5;28mrange\u001b[39m(\u001b[38;5;241m5\u001b[39m)]\n",
      "\u001b[1;31mValueError\u001b[0m: invalid literal for int() with base 10: '1!'"
     ]
    }
   ],
   "source": [
    "p = [int(input()) for i in range(5)] \n",
    "q = [int(input()) for i in range(5)] "
   ]
  },
  {
   "cell_type": "code",
   "execution_count": 71,
   "id": "5230fb35",
   "metadata": {},
   "outputs": [
    {
     "data": {
      "text/plain": [
       "([5, 2, 3, 2, 2], [1, 1, 1, 1, 1])"
      ]
     },
     "execution_count": 71,
     "metadata": {},
     "output_type": "execute_result"
    }
   ],
   "source": [
    "p,q"
   ]
  },
  {
   "cell_type": "code",
   "execution_count": 76,
   "id": "13dcfa75",
   "metadata": {},
   "outputs": [
    {
     "name": "stdout",
     "output_type": "stream",
     "text": [
      "compatable\n"
     ]
    }
   ],
   "source": [
    "if len(p)==len(q):\n",
    "    if all([True if i>=j else False for i,j in zip(p,q)]):\n",
    "        print(\"compatable\")\n",
    "    else:\n",
    "        print(\"Incompatile\")\n",
    "else:\n",
    "    print(\"Incompatible\")"
   ]
  },
  {
   "cell_type": "code",
   "execution_count": 77,
   "id": "3fc795d9",
   "metadata": {},
   "outputs": [],
   "source": [
    "#problem2"
   ]
  },
  {
   "cell_type": "code",
   "execution_count": 90,
   "id": "c142e008",
   "metadata": {},
   "outputs": [
    {
     "name": "stdout",
     "output_type": "stream",
     "text": [
      "6\n",
      "7 6 8 16 12 3\n"
     ]
    }
   ],
   "source": [
    "n = int(input())\n",
    "a = [int(i) for i in input().split(' ')]"
   ]
  },
  {
   "cell_type": "code",
   "execution_count": 93,
   "id": "f4685426",
   "metadata": {},
   "outputs": [
    {
     "data": {
      "text/plain": [
       "[7, 6, 8, 16, 12, 3]"
      ]
     },
     "execution_count": 93,
     "metadata": {},
     "output_type": "execute_result"
    }
   ],
   "source": [
    "a"
   ]
  },
  {
   "cell_type": "code",
   "execution_count": 94,
   "id": "2aaed169",
   "metadata": {},
   "outputs": [
    {
     "name": "stdout",
     "output_type": "stream",
     "text": [
      "[2, 5, 1, 7, 9, 3]\n"
     ]
    }
   ],
   "source": [
    "for i in range(len(a)-1, 0, -1):\n",
    "    a[i-1] = a[i-1]-a[i]\n",
    "print(a)"
   ]
  },
  {
   "cell_type": "code",
   "execution_count": 95,
   "id": "b147f59c",
   "metadata": {},
   "outputs": [
    {
     "data": {
      "text/plain": [
       "(2, 27)"
      ]
     },
     "execution_count": 95,
     "metadata": {},
     "output_type": "execute_result"
    }
   ],
   "source": [
    "a[0],sum(a)"
   ]
  },
  {
   "cell_type": "code",
   "execution_count": 97,
   "id": "1b11fcd0",
   "metadata": {},
   "outputs": [],
   "source": [
    "#Dictionary comprehension"
   ]
  },
  {
   "cell_type": "code",
   "execution_count": 98,
   "id": "67d4b275",
   "metadata": {},
   "outputs": [
    {
     "data": {
      "text/plain": [
       "{1: 1, 2: 8, 3: 27, 4: 64, 5: 125, 6: 216, 7: 343, 8: 512}"
      ]
     },
     "execution_count": 98,
     "metadata": {},
     "output_type": "execute_result"
    }
   ],
   "source": [
    "{i:i**3 for i in range(1,9)}"
   ]
  },
  {
   "cell_type": "code",
   "execution_count": 99,
   "id": "69246ccb",
   "metadata": {},
   "outputs": [],
   "source": [
    "product = ['paneer', 'Milk', 'Curd', 'chese']\n",
    "price =[1000, '70', '85', '200']"
   ]
  },
  {
   "cell_type": "code",
   "execution_count": 101,
   "id": "21809ec7",
   "metadata": {},
   "outputs": [
    {
     "data": {
      "text/plain": [
       "{'paneer': 1000, 'Milk': '70', 'Curd': '85', 'chese': '200'}"
      ]
     },
     "execution_count": 101,
     "metadata": {},
     "output_type": "execute_result"
    }
   ],
   "source": [
    "{i:j for i,j in zip(product, price)}"
   ]
  },
  {
   "cell_type": "code",
   "execution_count": 106,
   "id": "8f3e0dd9",
   "metadata": {},
   "outputs": [],
   "source": [
    "#{i:round(j/82,2) for i,j in zip(product,price)}"
   ]
  },
  {
   "cell_type": "code",
   "execution_count": 108,
   "id": "3747cc1d",
   "metadata": {},
   "outputs": [],
   "source": [
    "#nested loop comprehension"
   ]
  },
  {
   "cell_type": "code",
   "execution_count": 110,
   "id": "bd333d0d",
   "metadata": {},
   "outputs": [
    {
     "data": {
      "text/plain": [
       "[[1], [1], [1], [2], [2], [2], [3], [3], [3]]"
      ]
     },
     "execution_count": 110,
     "metadata": {},
     "output_type": "execute_result"
    }
   ],
   "source": [
    "[[x] for x in [1,2,3] for y in [4,5,6]]"
   ]
  },
  {
   "cell_type": "code",
   "execution_count": 114,
   "id": "2efcdedd",
   "metadata": {},
   "outputs": [
    {
     "data": {
      "text/plain": [
       "120"
      ]
     },
     "execution_count": 114,
     "metadata": {},
     "output_type": "execute_result"
    }
   ],
   "source": [
    "eval(\"*\".join(str(i) for i in range(1,6)))"
   ]
  },
  {
   "cell_type": "code",
   "execution_count": 117,
   "id": "4a25d01a",
   "metadata": {},
   "outputs": [
    {
     "data": {
      "text/plain": [
       "120"
      ]
     },
     "execution_count": 117,
     "metadata": {},
     "output_type": "execute_result"
    }
   ],
   "source": [
    "eval(\"1*2*3*4*5\")"
   ]
  },
  {
   "cell_type": "code",
   "execution_count": 118,
   "id": "d4e92839",
   "metadata": {},
   "outputs": [],
   "source": [
    "b=[[5,6],[1,8],[9,2],[0,11],[4,6]]"
   ]
  },
  {
   "cell_type": "code",
   "execution_count": 122,
   "id": "2f1d3c31",
   "metadata": {},
   "outputs": [],
   "source": [
    "f = sorted(range(len(b)),key=b.__getitem__)"
   ]
  },
  {
   "cell_type": "code",
   "execution_count": 123,
   "id": "2d6933b4",
   "metadata": {},
   "outputs": [
    {
     "data": {
      "text/plain": [
       "[3, 1, 4, 0, 2]"
      ]
     },
     "execution_count": 123,
     "metadata": {},
     "output_type": "execute_result"
    }
   ],
   "source": [
    "f"
   ]
  },
  {
   "cell_type": "code",
   "execution_count": 125,
   "id": "570b7eb9",
   "metadata": {},
   "outputs": [
    {
     "name": "stdout",
     "output_type": "stream",
     "text": [
      "[0, 11]\n",
      "[1, 8]\n",
      "[4, 6]\n",
      "[5, 6]\n",
      "[9, 2]\n"
     ]
    }
   ],
   "source": [
    "for i in f:\n",
    "    print(b[i])"
   ]
  },
  {
   "cell_type": "code",
   "execution_count": 131,
   "id": "dcbcdc0e",
   "metadata": {},
   "outputs": [
    {
     "data": {
      "text/plain": [
       "[0, 1, 2, 3, 4]"
      ]
     },
     "execution_count": 131,
     "metadata": {},
     "output_type": "execute_result"
    }
   ],
   "source": [
    "g = sorted(range(len(b)),key=lambda x:b[0])\n",
    "g"
   ]
  },
  {
   "cell_type": "code",
   "execution_count": 144,
   "id": "ff0c47b9",
   "metadata": {},
   "outputs": [
    {
     "ename": "NameError",
     "evalue": "name 'operator' is not defined",
     "output_type": "error",
     "traceback": [
      "\u001b[1;31m---------------------------------------------------------------------------\u001b[0m",
      "\u001b[1;31mNameError\u001b[0m                                 Traceback (most recent call last)",
      "Input \u001b[1;32mIn [144]\u001b[0m, in \u001b[0;36m<cell line: 1>\u001b[1;34m()\u001b[0m\n\u001b[1;32m----> 1\u001b[0m g\u001b[38;5;241m=\u001b[39m\u001b[38;5;28msorted\u001b[39m(\u001b[38;5;28menumerate\u001b[39m(b), key\u001b[38;5;241m=\u001b[39m\u001b[43moperator\u001b[49m\u001b[38;5;241m.\u001b[39mitemgetter(\u001b[38;5;241m1\u001b[39m))\n\u001b[0;32m      2\u001b[0m g\n",
      "\u001b[1;31mNameError\u001b[0m: name 'operator' is not defined"
     ]
    }
   ],
   "source": [
    "#g=sorted(enumerate(b), key=operator.itemgetter(1))\n",
    "#g"
   ]
  },
  {
   "cell_type": "code",
   "execution_count": 139,
   "id": "ab6dde78",
   "metadata": {},
   "outputs": [
    {
     "data": {
      "text/plain": [
       "[(0, [5, 6]), (1, [1, 8]), (2, [9, 2]), (3, [0, 11]), (4, [4, 6])]"
      ]
     },
     "execution_count": 139,
     "metadata": {},
     "output_type": "execute_result"
    }
   ],
   "source": [
    "g"
   ]
  },
  {
   "cell_type": "code",
   "execution_count": 145,
   "id": "85f8cd0a",
   "metadata": {},
   "outputs": [],
   "source": [
    "#Map and filter function"
   ]
  },
  {
   "cell_type": "code",
   "execution_count": 146,
   "id": "0ed0d2a5",
   "metadata": {},
   "outputs": [],
   "source": [
    "#without using loop pointing to each and every element of the list"
   ]
  },
  {
   "cell_type": "code",
   "execution_count": 147,
   "id": "2cb6267e",
   "metadata": {},
   "outputs": [],
   "source": [
    "#using function on lambda to achieve the above"
   ]
  },
  {
   "cell_type": "code",
   "execution_count": 151,
   "id": "1c255cda",
   "metadata": {},
   "outputs": [],
   "source": [
    "b = list(range(1,20))"
   ]
  },
  {
   "cell_type": "code",
   "execution_count": 152,
   "id": "accf4729",
   "metadata": {},
   "outputs": [
    {
     "data": {
      "text/plain": [
       "[1, 2, 3, 4, 5, 6, 7, 8, 9, 10, 11, 12, 13, 14, 15, 16, 17, 18, 19]"
      ]
     },
     "execution_count": 152,
     "metadata": {},
     "output_type": "execute_result"
    }
   ],
   "source": [
    "b"
   ]
  },
  {
   "cell_type": "code",
   "execution_count": 153,
   "id": "5c4e635c",
   "metadata": {},
   "outputs": [
    {
     "data": {
      "text/plain": [
       "[1,\n",
       " 4,\n",
       " 9,\n",
       " 16,\n",
       " 25,\n",
       " 36,\n",
       " 49,\n",
       " 64,\n",
       " 81,\n",
       " 100,\n",
       " 121,\n",
       " 144,\n",
       " 169,\n",
       " 196,\n",
       " 225,\n",
       " 256,\n",
       " 289,\n",
       " 324,\n",
       " 361]"
      ]
     },
     "execution_count": 153,
     "metadata": {},
     "output_type": "execute_result"
    }
   ],
   "source": [
    "#[i**2 for i in b]"
   ]
  },
  {
   "cell_type": "code",
   "execution_count": 154,
   "id": "e306ec1c",
   "metadata": {},
   "outputs": [],
   "source": [
    "def mysql(i):\n",
    "    return i*i"
   ]
  },
  {
   "cell_type": "code",
   "execution_count": 157,
   "id": "7d40dc8c",
   "metadata": {},
   "outputs": [
    {
     "data": {
      "text/plain": [
       "[1,\n",
       " 4,\n",
       " 9,\n",
       " 16,\n",
       " 25,\n",
       " 36,\n",
       " 49,\n",
       " 64,\n",
       " 81,\n",
       " 100,\n",
       " 121,\n",
       " 144,\n",
       " 169,\n",
       " 196,\n",
       " 225,\n",
       " 256,\n",
       " 289,\n",
       " 324,\n",
       " 361]"
      ]
     },
     "execution_count": 157,
     "metadata": {},
     "output_type": "execute_result"
    }
   ],
   "source": [
    "list(map(mysql,b))"
   ]
  },
  {
   "cell_type": "code",
   "execution_count": 158,
   "id": "6c3d38e4",
   "metadata": {},
   "outputs": [
    {
     "data": {
      "text/plain": [
       "<map at 0x20705fa4a60>"
      ]
     },
     "execution_count": 158,
     "metadata": {},
     "output_type": "execute_result"
    }
   ],
   "source": [
    "map(lambda i:i*i,b)"
   ]
  },
  {
   "cell_type": "code",
   "execution_count": 159,
   "id": "ed9146ce",
   "metadata": {},
   "outputs": [
    {
     "data": {
      "text/plain": [
       "['Yogesh', 'Abhishesh', 'Soniya', 'Poja', 'Ramya']"
      ]
     },
     "execution_count": 159,
     "metadata": {},
     "output_type": "execute_result"
    }
   ],
   "source": [
    "name"
   ]
  },
  {
   "cell_type": "code",
   "execution_count": 162,
   "id": "869a4c84",
   "metadata": {},
   "outputs": [
    {
     "data": {
      "text/plain": [
       "[6, 9, 6, 4, 5]"
      ]
     },
     "execution_count": 162,
     "metadata": {},
     "output_type": "execute_result"
    }
   ],
   "source": [
    "list(map(len, name))"
   ]
  },
  {
   "cell_type": "code",
   "execution_count": 164,
   "id": "1653f999",
   "metadata": {},
   "outputs": [
    {
     "name": "stdout",
     "output_type": "stream",
     "text": [
      "Yogesh MOhan Ramya \n"
     ]
    }
   ],
   "source": [
    "hello = list(map(str, input().split(\" \")))"
   ]
  },
  {
   "cell_type": "code",
   "execution_count": 166,
   "id": "8bd6257e",
   "metadata": {},
   "outputs": [
    {
     "data": {
      "text/plain": [
       "['Yogesh', 'MOhan', 'Ramya', '']"
      ]
     },
     "execution_count": 166,
     "metadata": {},
     "output_type": "execute_result"
    }
   ],
   "source": [
    "hello"
   ]
  },
  {
   "cell_type": "code",
   "execution_count": 167,
   "id": "675ab97a",
   "metadata": {},
   "outputs": [
    {
     "name": "stdout",
     "output_type": "stream",
     "text": [
      "1 2 3 4\n"
     ]
    }
   ],
   "source": [
    "Hello = list(map(int, input().split(\" \")))"
   ]
  },
  {
   "cell_type": "code",
   "execution_count": 168,
   "id": "c8eb3208",
   "metadata": {},
   "outputs": [],
   "source": [
    "# using map generate tuple of uppercase and length of the name"
   ]
  },
  {
   "cell_type": "code",
   "execution_count": 170,
   "id": "2967938f",
   "metadata": {},
   "outputs": [
    {
     "data": {
      "text/plain": [
       "[('YOGESH', 6), ('ABHISHESH', 9), ('SONIYA', 6), ('POJA', 4), ('RAMYA', 5)]"
      ]
     },
     "execution_count": 170,
     "metadata": {},
     "output_type": "execute_result"
    }
   ],
   "source": [
    "def u_l(i):\n",
    "    return i.upper(), len(i)\n",
    "list(map(u_l, name))"
   ]
  },
  {
   "cell_type": "code",
   "execution_count": 171,
   "id": "80982023",
   "metadata": {},
   "outputs": [
    {
     "data": {
      "text/plain": [
       "[('YOGESH', 6), ('ABHISHESH', 9), ('SONIYA', 6), ('POJA', 4), ('RAMYA', 5)]"
      ]
     },
     "execution_count": 171,
     "metadata": {},
     "output_type": "execute_result"
    }
   ],
   "source": [
    "list(map(lambda i:(i.upper(),len(i)), name))"
   ]
  },
  {
   "cell_type": "code",
   "execution_count": 172,
   "id": "6928f891",
   "metadata": {},
   "outputs": [],
   "source": [
    "d = {'YOGESH': 6, 'ABHISHEK':8, 'SONIYA':6, 'POOJA':5, 'RAMYA':5}"
   ]
  },
  {
   "cell_type": "code",
   "execution_count": 173,
   "id": "8b766259",
   "metadata": {},
   "outputs": [
    {
     "data": {
      "text/plain": [
       "[6, 8, 6, 5, 5]"
      ]
     },
     "execution_count": 173,
     "metadata": {},
     "output_type": "execute_result"
    }
   ],
   "source": [
    "list(map(len,d))"
   ]
  },
  {
   "cell_type": "code",
   "execution_count": 175,
   "id": "66817d4b",
   "metadata": {},
   "outputs": [
    {
     "data": {
      "text/plain": [
       "[36, 64, 36, 25, 25]"
      ]
     },
     "execution_count": 175,
     "metadata": {},
     "output_type": "execute_result"
    }
   ],
   "source": [
    "list(map(lambda i:i**2, d.values()))"
   ]
  },
  {
   "cell_type": "code",
   "execution_count": 176,
   "id": "d83c6bea",
   "metadata": {},
   "outputs": [
    {
     "data": {
      "text/plain": [
       "[1, 2, 3, 4, 5, 6, 7, 8, 9, 10, 11, 12, 13, 14, 15, 16, 17, 18, 19]"
      ]
     },
     "execution_count": 176,
     "metadata": {},
     "output_type": "execute_result"
    }
   ],
   "source": [
    "b"
   ]
  },
  {
   "cell_type": "code",
   "execution_count": 178,
   "id": "1bf73e50",
   "metadata": {},
   "outputs": [
    {
     "data": {
      "text/plain": [
       "[2, 4, 6, 8, 10, 12, 14, 16, 18]"
      ]
     },
     "execution_count": 178,
     "metadata": {},
     "output_type": "execute_result"
    }
   ],
   "source": [
    "list(filter(lambda i:i%2 ==0, b))"
   ]
  },
  {
   "cell_type": "markdown",
   "id": "c17ce2be",
   "metadata": {},
   "source": [
    "name"
   ]
  },
  {
   "cell_type": "code",
   "execution_count": 179,
   "id": "e794f09a",
   "metadata": {},
   "outputs": [
    {
     "data": {
      "text/plain": [
       "['Yogesh', 'Abhishesh', 'Soniya', 'Poja', 'Ramya']"
      ]
     },
     "execution_count": 179,
     "metadata": {},
     "output_type": "execute_result"
    }
   ],
   "source": [
    "name"
   ]
  },
  {
   "cell_type": "code",
   "execution_count": 181,
   "id": "a0e49bc9",
   "metadata": {},
   "outputs": [],
   "source": [
    "def lenovo(i):\n",
    "    return 's' not in i"
   ]
  },
  {
   "cell_type": "code",
   "execution_count": 182,
   "id": "7a853c14",
   "metadata": {},
   "outputs": [
    {
     "data": {
      "text/plain": [
       "['Soniya', 'Poja', 'Ramya']"
      ]
     },
     "execution_count": 182,
     "metadata": {},
     "output_type": "execute_result"
    }
   ],
   "source": [
    "list(filter(lenovo, name))"
   ]
  },
  {
   "cell_type": "code",
   "execution_count": 184,
   "id": "5fc96dfe",
   "metadata": {},
   "outputs": [
    {
     "data": {
      "text/plain": [
       "['Soniya', 'Poja', 'Ramya']"
      ]
     },
     "execution_count": 184,
     "metadata": {},
     "output_type": "execute_result"
    }
   ],
   "source": [
    "list(filter(lambda i:'s' not in i, name))"
   ]
  },
  {
   "cell_type": "code",
   "execution_count": 187,
   "id": "b02152a7",
   "metadata": {},
   "outputs": [],
   "source": [
    "#filter is taken at the boolean function"
   ]
  },
  {
   "cell_type": "code",
   "execution_count": 189,
   "id": "4a02205c",
   "metadata": {},
   "outputs": [],
   "source": [
    "##t = int(input())\n",
    "#for i in range(t):\n",
    " #   n,m = list(map(int, input().split(' ')))\n",
    "  #  print(n*m)"
   ]
  },
  {
   "cell_type": "markdown",
   "id": "02017995",
   "metadata": {},
   "source": [
    "# \n"
   ]
  },
  {
   "cell_type": "code",
   "execution_count": 194,
   "id": "2a60cb33",
   "metadata": {},
   "outputs": [
    {
     "name": "stdout",
     "output_type": "stream",
     "text": [
      "2748 134 398 2322\n"
     ]
    },
    {
     "ename": "ValueError",
     "evalue": "invalid literal for int() with base 10: '2748 134 398 2322'",
     "output_type": "error",
     "traceback": [
      "\u001b[1;31m---------------------------------------------------------------------------\u001b[0m",
      "\u001b[1;31mValueError\u001b[0m                                Traceback (most recent call last)",
      "Input \u001b[1;32mIn [194]\u001b[0m, in \u001b[0;36m<cell line: 1>\u001b[1;34m()\u001b[0m\n\u001b[1;32m----> 1\u001b[0m t \u001b[38;5;241m=\u001b[39m \u001b[38;5;28;43mint\u001b[39;49m\u001b[43m(\u001b[49m\u001b[38;5;28;43minput\u001b[39;49m\u001b[43m(\u001b[49m\u001b[43m)\u001b[49m\u001b[43m)\u001b[49m\n\u001b[0;32m      2\u001b[0m \u001b[38;5;28;01mfor\u001b[39;00m i \u001b[38;5;129;01min\u001b[39;00m \u001b[38;5;28mrange\u001b[39m(t):\n\u001b[0;32m      3\u001b[0m     u \u001b[38;5;241m=\u001b[39m \u001b[38;5;28mlist\u001b[39m(\u001b[38;5;28mmap\u001b[39m(\u001b[38;5;28mint\u001b[39m,\u001b[38;5;28minput\u001b[39m()\u001b[38;5;241m.\u001b[39msplit(\u001b[38;5;124m'\u001b[39m\u001b[38;5;124m'\u001b[39m)))\n",
      "\u001b[1;31mValueError\u001b[0m: invalid literal for int() with base 10: '2748 134 398 2322'"
     ]
    }
   ],
   "source": [
    "# t = int(input())\n",
    "# for i in range(t):\n",
    "#     u = list(map(int,input().split('')))\n",
    "#     u.sort()\n",
    "#     print(u[-2])"
   ]
  },
  {
   "cell_type": "code",
   "execution_count": 195,
   "id": "50929bb9",
   "metadata": {},
   "outputs": [
    {
     "ename": "IndentationError",
     "evalue": "expected an indented block (551589975.py, line 3)",
     "output_type": "error",
     "traceback": [
      "\u001b[1;36m  Input \u001b[1;32mIn [195]\u001b[1;36m\u001b[0m\n\u001b[1;33m    s,c = list(map(int, input().split(' ')))\u001b[0m\n\u001b[1;37m    ^\u001b[0m\n\u001b[1;31mIndentationError\u001b[0m\u001b[1;31m:\u001b[0m expected an indented block\n"
     ]
    }
   ],
   "source": [
    "t = int(input())\n",
    "for i in range(t):\n",
    "s,c = list(map(int, input().split(' ')))\n"
   ]
  },
  {
   "cell_type": "code",
   "execution_count": null,
   "id": "2c7d14e9",
   "metadata": {},
   "outputs": [],
   "source": []
  }
 ],
 "metadata": {
  "kernelspec": {
   "display_name": "Python 3 (ipykernel)",
   "language": "python",
   "name": "python3"
  },
  "language_info": {
   "codemirror_mode": {
    "name": "ipython",
    "version": 3
   },
   "file_extension": ".py",
   "mimetype": "text/x-python",
   "name": "python",
   "nbconvert_exporter": "python",
   "pygments_lexer": "ipython3",
   "version": "3.9.12"
  }
 },
 "nbformat": 4,
 "nbformat_minor": 5
}
