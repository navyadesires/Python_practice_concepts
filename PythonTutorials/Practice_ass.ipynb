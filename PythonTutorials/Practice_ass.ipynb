{
 "cells": [
  {
   "cell_type": "code",
   "execution_count": 3,
   "id": "7fbd44b4",
   "metadata": {},
   "outputs": [
    {
     "name": "stdout",
     "output_type": "stream",
     "text": [
      "[0, 1, 2, 3, 4]\n"
     ]
    }
   ],
   "source": [
    "def f(x):\n",
    "    for i in range(5):\n",
    "        yield i\n",
    "g=f(8)\n",
    "print(list(g))"
   ]
  },
  {
   "cell_type": "code",
   "execution_count": null,
   "id": "ae00573b",
   "metadata": {},
   "outputs": [
    {
     "name": "stdout",
     "output_type": "stream",
     "text": [
      "Enter file namea\n",
      "Input file not found\n",
      "Input file not found\n",
      "Input file not found\n",
      "Input file not found\n",
      "Enter file namea\n",
      "Input file not found\n",
      "Enter file nameg\n",
      "Input file not found\n",
      "Input file not found\n"
     ]
    }
   ],
   "source": [
    "a = False\n",
    "while not a:\n",
    "    try:\n",
    "        f_n = input(\"Enter file name\")\n",
    "        i_f = open(f_n,'r')\n",
    "    except:\n",
    "            print(\"Input file not found\")"
   ]
  },
  {
   "cell_type": "code",
   "execution_count": null,
   "id": "4b197913",
   "metadata": {},
   "outputs": [],
   "source": [
    "g = (i for i in range(5))\n",
    "type(g)"
   ]
  },
  {
   "cell_type": "code",
   "execution_count": null,
   "id": "e988d255",
   "metadata": {},
   "outputs": [],
   "source": [
    "def __init__(self):\n",
    "pass\n",
    "\n",
    "def test(self):\n",
    "print(__name__)\n",
    "\n",
    "obj = Demo()\n",
    "obj.test()"
   ]
  },
  {
   "cell_type": "code",
   "execution_count": null,
   "id": "95899c3a",
   "metadata": {},
   "outputs": [],
   "source": []
  }
 ],
 "metadata": {
  "kernelspec": {
   "display_name": "Python 3 (ipykernel)",
   "language": "python",
   "name": "python3"
  },
  "language_info": {
   "codemirror_mode": {
    "name": "ipython",
    "version": 3
   },
   "file_extension": ".py",
   "mimetype": "text/x-python",
   "name": "python",
   "nbconvert_exporter": "python",
   "pygments_lexer": "ipython3",
   "version": "3.9.12"
  }
 },
 "nbformat": 4,
 "nbformat_minor": 5
}
