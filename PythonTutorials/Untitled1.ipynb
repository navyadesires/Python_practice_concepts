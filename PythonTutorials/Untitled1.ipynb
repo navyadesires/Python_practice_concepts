{
 "cells": [
  {
   "cell_type": "code",
   "execution_count": 3,
   "id": "23f94979",
   "metadata": {},
   "outputs": [],
   "source": [
    "import Ramya.tramya as ram"
   ]
  },
  {
   "cell_type": "code",
   "execution_count": 4,
   "id": "e48f2498",
   "metadata": {},
   "outputs": [
    {
     "name": "stdout",
     "output_type": "stream",
     "text": [
      "nohtyP\n"
     ]
    }
   ],
   "source": [
    "ram.f2(\"Python\")"
   ]
  },
  {
   "cell_type": "code",
   "execution_count": null,
   "id": "c78ebf5c",
   "metadata": {},
   "outputs": [],
   "source": []
  }
 ],
 "metadata": {
  "kernelspec": {
   "display_name": "Python 3 (ipykernel)",
   "language": "python",
   "name": "python3"
  },
  "language_info": {
   "codemirror_mode": {
    "name": "ipython",
    "version": 3
   },
   "file_extension": ".py",
   "mimetype": "text/x-python",
   "name": "python",
   "nbconvert_exporter": "python",
   "pygments_lexer": "ipython3",
   "version": "3.9.12"
  }
 },
 "nbformat": 4,
 "nbformat_minor": 5
}
