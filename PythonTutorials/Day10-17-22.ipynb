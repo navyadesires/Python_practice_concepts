{
 "cells": [
  {
   "cell_type": "code",
   "execution_count": 1,
   "id": "f2fa6df9",
   "metadata": {},
   "outputs": [],
   "source": [
    "#Predefined Module in Python"
   ]
  },
  {
   "cell_type": "code",
   "execution_count": 2,
   "id": "1a0a017b",
   "metadata": {},
   "outputs": [],
   "source": [
    "#os Module"
   ]
  },
  {
   "cell_type": "code",
   "execution_count": 3,
   "id": "35e52fa3",
   "metadata": {},
   "outputs": [],
   "source": [
    "import os"
   ]
  },
  {
   "cell_type": "code",
   "execution_count": 4,
   "id": "5f9fa28c",
   "metadata": {},
   "outputs": [
    {
     "name": "stderr",
     "output_type": "stream",
     "text": [
      "ERROR: Could not find a version that satisfies the requirement os (from versions: none)\n",
      "ERROR: No matching distribution found for os\n"
     ]
    }
   ],
   "source": [
    "#!pip install os"
   ]
  },
  {
   "cell_type": "code",
   "execution_count": 5,
   "id": "2956332e",
   "metadata": {},
   "outputs": [
    {
     "data": {
      "text/plain": [
       "'nt'"
      ]
     },
     "execution_count": 5,
     "metadata": {},
     "output_type": "execute_result"
    }
   ],
   "source": [
    "os.name"
   ]
  },
  {
   "cell_type": "code",
   "execution_count": 8,
   "id": "74874b4a",
   "metadata": {},
   "outputs": [
    {
     "name": "stdout",
     "output_type": "stream",
     "text": [
      "You are using Windows operating system.\n"
     ]
    }
   ],
   "source": [
    "if os.name== 'nt':\n",
    "    print(\"You are using Windows operating system.\")\n",
    "else:\n",
    "    print(\"It is Not Windows\")"
   ]
  },
  {
   "cell_type": "code",
   "execution_count": 9,
   "id": "e6af07ea",
   "metadata": {},
   "outputs": [],
   "source": [
    "import sys"
   ]
  },
  {
   "cell_type": "code",
   "execution_count": 10,
   "id": "57bfac68",
   "metadata": {},
   "outputs": [
    {
     "data": {
      "text/plain": [
       "'win32'"
      ]
     },
     "execution_count": 10,
     "metadata": {},
     "output_type": "execute_result"
    }
   ],
   "source": [
    "sys.platform"
   ]
  },
  {
   "cell_type": "code",
   "execution_count": 11,
   "id": "b7f3554a",
   "metadata": {},
   "outputs": [
    {
     "data": {
      "text/plain": [
       "['.angular-config.json',\n",
       " '.aws',\n",
       " '.azure',\n",
       " '.bash_history',\n",
       " '.cache',\n",
       " '.conda',\n",
       " '.condarc',\n",
       " '.config',\n",
       " '.continuum',\n",
       " '.docker',\n",
       " '.eclipse',\n",
       " '.gitconfig',\n",
       " '.ipynb_checkpoints',\n",
       " '.ipython',\n",
       " '.jupyter',\n",
       " '.kube',\n",
       " '.lesshst',\n",
       " '.m2',\n",
       " '.node_repl_history',\n",
       " '.p2',\n",
       " '.sts4',\n",
       " '.VirtualBox',\n",
       " '.vscode',\n",
       " '.yarnrc',\n",
       " '3D Objects',\n",
       " 'A.html',\n",
       " 'Anaconda3',\n",
       " 'AppData',\n",
       " 'Application Data',\n",
       " 'col.js',\n",
       " 'Contacts',\n",
       " 'Cookies',\n",
       " 'Day10-17-22.ipynb',\n",
       " 'Documents',\n",
       " 'Downloads',\n",
       " 'Favorites',\n",
       " 'go',\n",
       " 'IntelGraphicsProfiles',\n",
       " 'Links',\n",
       " 'Local Settings',\n",
       " 'mcafee dlp quarantined files',\n",
       " 'Music',\n",
       " 'My Documents',\n",
       " 'NetHood',\n",
       " 'NTUSER.DAT',\n",
       " 'ntuser.dat.LOG1',\n",
       " 'ntuser.dat.LOG2',\n",
       " 'NTUSER.DAT{53b39e88-18c4-11ea-a811-000d3aa4692b}.TM.blf',\n",
       " 'NTUSER.DAT{53b39e88-18c4-11ea-a811-000d3aa4692b}.TMContainer00000000000000000001.regtrans-ms',\n",
       " 'NTUSER.DAT{53b39e88-18c4-11ea-a811-000d3aa4692b}.TMContainer00000000000000000002.regtrans-ms',\n",
       " 'ntuser.ini',\n",
       " 'OneDrive',\n",
       " 'OneDrive - MOURI Tech',\n",
       " 'Postman',\n",
       " 'PrintHood',\n",
       " 'PycharmProjects',\n",
       " 'PythonTutorials',\n",
       " 'Recent',\n",
       " 'Saved Games',\n",
       " 'Searches',\n",
       " 'SendTo',\n",
       " 'Start Menu',\n",
       " 'Templates',\n",
       " 'Videos',\n",
       " 'VirtualBox VMs',\n",
       " 'VoxEdit']"
      ]
     },
     "execution_count": 11,
     "metadata": {},
     "output_type": "execute_result"
    }
   ],
   "source": [
    "os.listdir()"
   ]
  },
  {
   "cell_type": "code",
   "execution_count": 13,
   "id": "d0e9f91c",
   "metadata": {},
   "outputs": [],
   "source": [
    "os.mkdir(\"Ramya\")"
   ]
  },
  {
   "cell_type": "code",
   "execution_count": 15,
   "id": "78ebb93a",
   "metadata": {},
   "outputs": [
    {
     "data": {
      "text/plain": [
       "['.angular-config.json',\n",
       " '.aws',\n",
       " '.azure',\n",
       " '.bash_history',\n",
       " '.cache',\n",
       " '.conda',\n",
       " '.condarc',\n",
       " '.config',\n",
       " '.continuum',\n",
       " '.docker',\n",
       " '.eclipse',\n",
       " '.gitconfig',\n",
       " '.ipynb_checkpoints',\n",
       " '.ipython',\n",
       " '.jupyter',\n",
       " '.kube',\n",
       " '.lesshst',\n",
       " '.m2',\n",
       " '.node_repl_history',\n",
       " '.p2',\n",
       " '.sts4',\n",
       " '.VirtualBox',\n",
       " '.vscode',\n",
       " '.yarnrc',\n",
       " '3D Objects',\n",
       " 'A.html',\n",
       " 'Anaconda3',\n",
       " 'AppData',\n",
       " 'Application Data',\n",
       " 'col.js',\n",
       " 'Contacts',\n",
       " 'Cookies',\n",
       " 'Day10-17-22.ipynb',\n",
       " 'Documents',\n",
       " 'Downloads',\n",
       " 'Favorites',\n",
       " 'go',\n",
       " 'IntelGraphicsProfiles',\n",
       " 'Links',\n",
       " 'Local Settings',\n",
       " 'mcafee dlp quarantined files',\n",
       " 'Music',\n",
       " 'My Documents',\n",
       " 'NetHood',\n",
       " 'NTUSER.DAT',\n",
       " 'ntuser.dat.LOG1',\n",
       " 'ntuser.dat.LOG2',\n",
       " 'NTUSER.DAT{53b39e88-18c4-11ea-a811-000d3aa4692b}.TM.blf',\n",
       " 'NTUSER.DAT{53b39e88-18c4-11ea-a811-000d3aa4692b}.TMContainer00000000000000000001.regtrans-ms',\n",
       " 'NTUSER.DAT{53b39e88-18c4-11ea-a811-000d3aa4692b}.TMContainer00000000000000000002.regtrans-ms',\n",
       " 'ntuser.ini',\n",
       " 'OneDrive',\n",
       " 'OneDrive - MOURI Tech',\n",
       " 'Postman',\n",
       " 'PrintHood',\n",
       " 'PycharmProjects',\n",
       " 'PythonTutorials',\n",
       " 'Ramya',\n",
       " 'Recent',\n",
       " 'Saved Games',\n",
       " 'Searches',\n",
       " 'SendTo',\n",
       " 'Start Menu',\n",
       " 'Templates',\n",
       " 'Videos',\n",
       " 'VirtualBox VMs',\n",
       " 'VoxEdit']"
      ]
     },
     "execution_count": 15,
     "metadata": {},
     "output_type": "execute_result"
    }
   ],
   "source": [
    "os.listdir()"
   ]
  },
  {
   "cell_type": "code",
   "execution_count": 16,
   "id": "8facd171",
   "metadata": {},
   "outputs": [
    {
     "data": {
      "text/plain": [
       "'C:\\\\Users\\\\ramyatr'"
      ]
     },
     "execution_count": 16,
     "metadata": {},
     "output_type": "execute_result"
    }
   ],
   "source": [
    "os.getcwd()"
   ]
  },
  {
   "cell_type": "code",
   "execution_count": 18,
   "id": "4a7a3f72",
   "metadata": {},
   "outputs": [],
   "source": [
    "os.chdir('C:\\\\Users\\\\ramyatr\\\\PythonTutorials')"
   ]
  },
  {
   "cell_type": "code",
   "execution_count": 19,
   "id": "6b5db0ee",
   "metadata": {},
   "outputs": [
    {
     "data": {
      "text/plain": [
       "'C:\\\\Users\\\\ramyatr\\\\PythonTutorials'"
      ]
     },
     "execution_count": 19,
     "metadata": {},
     "output_type": "execute_result"
    }
   ],
   "source": [
    "os.getcwd()"
   ]
  },
  {
   "cell_type": "code",
   "execution_count": 20,
   "id": "b205c71b",
   "metadata": {},
   "outputs": [],
   "source": [
    "os.mkdir(\"Rakate\")"
   ]
  },
  {
   "cell_type": "code",
   "execution_count": 21,
   "id": "91e37698",
   "metadata": {},
   "outputs": [
    {
     "data": {
      "text/plain": [
       "['.ipynb_checkpoints',\n",
       " 'Day5.ipynb',\n",
       " 'Practise.ipynb',\n",
       " 'python-Day6.ipynb',\n",
       " 'Rakate',\n",
       " 'Untitled.ipynb']"
      ]
     },
     "execution_count": 21,
     "metadata": {},
     "output_type": "execute_result"
    }
   ],
   "source": [
    "os.listdir()"
   ]
  },
  {
   "cell_type": "code",
   "execution_count": 22,
   "id": "fc2efd3d",
   "metadata": {},
   "outputs": [],
   "source": [
    "os.rename(\"Rakate\", \"Mouritech\")"
   ]
  },
  {
   "cell_type": "code",
   "execution_count": 23,
   "id": "79775edf",
   "metadata": {},
   "outputs": [],
   "source": [
    "os.rmdir(\"Mouritech\")"
   ]
  },
  {
   "cell_type": "code",
   "execution_count": 24,
   "id": "8a78b086",
   "metadata": {},
   "outputs": [
    {
     "data": {
      "text/plain": [
       "<module 'ntpath' from 'C:\\\\Users\\\\ramyatr\\\\Anaconda3\\\\lib\\\\ntpath.py'>"
      ]
     },
     "execution_count": 24,
     "metadata": {},
     "output_type": "execute_result"
    }
   ],
   "source": [
    "os.path"
   ]
  },
  {
   "cell_type": "code",
   "execution_count": 183,
   "id": "4a414ab9",
   "metadata": {},
   "outputs": [],
   "source": [
    "a = os.path.join('C:\\\\Users\\\\ramyatr\\\\Ramya',\"Morning\")"
   ]
  },
  {
   "cell_type": "markdown",
   "id": "caa95e91",
   "metadata": {},
   "source": [
    "For giving permissions to specific file of folder"
   ]
  },
  {
   "cell_type": "code",
   "execution_count": 184,
   "id": "cbb2fb2a",
   "metadata": {},
   "outputs": [],
   "source": [
    "os.makedirs(a,0o6666)"
   ]
  },
  {
   "cell_type": "code",
   "execution_count": 185,
   "id": "ebbdc388",
   "metadata": {},
   "outputs": [],
   "source": [
    "b = os.path.join('C:\\\\Users\\\\ramyatr\\\\Ramya',\"afternoon\")"
   ]
  },
  {
   "cell_type": "code",
   "execution_count": 186,
   "id": "370129d4",
   "metadata": {},
   "outputs": [],
   "source": [
    "os.makedirs(b,0o000)"
   ]
  },
  {
   "cell_type": "code",
   "execution_count": 187,
   "id": "3c501459",
   "metadata": {},
   "outputs": [],
   "source": [
    "os.chmod(b,0o777)"
   ]
  },
  {
   "cell_type": "code",
   "execution_count": 192,
   "id": "98cfd04e",
   "metadata": {},
   "outputs": [],
   "source": [
    "os.chdir('C:\\\\Users\\\\ramyatr\\\\PythonTutorials')"
   ]
  },
  {
   "cell_type": "code",
   "execution_count": 193,
   "id": "d34fb85a",
   "metadata": {},
   "outputs": [
    {
     "data": {
      "text/plain": [
       "['.ipynb_checkpoints',\n",
       " 'afternoon',\n",
       " 'Day5.ipynb',\n",
       " 'Morning',\n",
       " 'Practise.ipynb',\n",
       " 'python-Day6.ipynb',\n",
       " 'Untitled.ipynb']"
      ]
     },
     "execution_count": 193,
     "metadata": {},
     "output_type": "execute_result"
    }
   ],
   "source": [
    "os.listdir()"
   ]
  },
  {
   "cell_type": "markdown",
   "id": "35a0d015",
   "metadata": {},
   "source": [
    " For getting the size of a particular file"
   ]
  },
  {
   "cell_type": "code",
   "execution_count": 202,
   "id": "b4d51c01",
   "metadata": {},
   "outputs": [
    {
     "data": {
      "text/plain": [
       "33"
      ]
     },
     "execution_count": 202,
     "metadata": {},
     "output_type": "execute_result"
    }
   ],
   "source": [
    "round(os.path.getsize('python-Day6.ipynb')/1000)"
   ]
  },
  {
   "cell_type": "markdown",
   "id": "e315c4f0",
   "metadata": {},
   "source": [
    "For check if the file exists or not "
   ]
  },
  {
   "cell_type": "code",
   "execution_count": 199,
   "id": "bc6b99f6",
   "metadata": {},
   "outputs": [
    {
     "data": {
      "text/plain": [
       "True"
      ]
     },
     "execution_count": 199,
     "metadata": {},
     "output_type": "execute_result"
    }
   ],
   "source": [
    "os.path.exists('Day5.ipynb')"
   ]
  },
  {
   "cell_type": "code",
   "execution_count": 207,
   "id": "d57a063f",
   "metadata": {},
   "outputs": [
    {
     "data": {
      "text/plain": [
       "True"
      ]
     },
     "execution_count": 207,
     "metadata": {},
     "output_type": "execute_result"
    }
   ],
   "source": [
    "os.access(\"python-Day6.ipynb\", os.F_OK)"
   ]
  },
  {
   "cell_type": "code",
   "execution_count": 51,
   "id": "2fc54546",
   "metadata": {},
   "outputs": [],
   "source": [
    "# Getting pre-defined module for the internet"
   ]
  },
  {
   "cell_type": "code",
   "execution_count": 55,
   "id": "de1738e5",
   "metadata": {},
   "outputs": [],
   "source": [
    "# Python text-to-speech"
   ]
  },
  {
   "cell_type": "code",
   "execution_count": 57,
   "id": "dbe44b5a",
   "metadata": {},
   "outputs": [
    {
     "name": "stdout",
     "output_type": "stream",
     "text": [
      "Requirement already satisfied: pyttsx3 in c:\\users\\ramyatr\\anaconda3\\lib\\site-packages (2.90)\n",
      "Requirement already satisfied: comtypes in c:\\users\\ramyatr\\anaconda3\\lib\\site-packages (from pyttsx3) (1.1.10)\n",
      "Requirement already satisfied: pypiwin32 in c:\\users\\ramyatr\\anaconda3\\lib\\site-packages (from pyttsx3) (223)\n",
      "Requirement already satisfied: pywin32 in c:\\users\\ramyatr\\anaconda3\\lib\\site-packages (from pyttsx3) (302)\n"
     ]
    }
   ],
   "source": [
    "!pip install pyttsx3"
   ]
  },
  {
   "cell_type": "code",
   "execution_count": 209,
   "id": "7cc85737",
   "metadata": {},
   "outputs": [
    {
     "name": "stdout",
     "output_type": "stream",
     "text": [
      "120\n"
     ]
    }
   ],
   "source": [
    "import pyttsx3\n",
    "engine = pyttsx3.init()\n",
    "rate = engine.getProperty('rate')   # getting details of current speaking rate\n",
    "print (rate)                        #printing current voice rate\n",
    "engine.setProperty('rate', 120)    # setting up new voice rate\n",
    "voices = engine.getProperty('voices')       #getting details of current voice\n",
    "#engine.setProperty('voice', voices[0].id)  #changing index, changes voices. o for male\n",
    "engine.setProperty('voice', voices[1].id)   #changing index, changes voices. 1 for female\n",
    "engine.say(\"I work in mouritech private limited\")\n",
    "engine.runAndWait()"
   ]
  },
  {
   "cell_type": "markdown",
   "id": "445590ac",
   "metadata": {},
   "source": [
    "# Date, Time and calender"
   ]
  },
  {
   "cell_type": "code",
   "execution_count": 210,
   "id": "76465db8",
   "metadata": {},
   "outputs": [],
   "source": [
    "import time"
   ]
  },
  {
   "cell_type": "code",
   "execution_count": 211,
   "id": "54d1b58f",
   "metadata": {},
   "outputs": [],
   "source": [
    "import calendar"
   ]
  },
  {
   "cell_type": "code",
   "execution_count": 212,
   "id": "58b3b386",
   "metadata": {},
   "outputs": [],
   "source": [
    "import datetime"
   ]
  },
  {
   "cell_type": "code",
   "execution_count": 213,
   "id": "52b1136a",
   "metadata": {},
   "outputs": [
    {
     "data": {
      "text/plain": [
       "-23400"
      ]
     },
     "execution_count": 213,
     "metadata": {},
     "output_type": "execute_result"
    }
   ],
   "source": [
    "time.altzone"
   ]
  },
  {
   "cell_type": "code",
   "execution_count": 72,
   "id": "b2f6f6b0",
   "metadata": {},
   "outputs": [
    {
     "data": {
      "text/plain": [
       "-19800"
      ]
     },
     "execution_count": 72,
     "metadata": {},
     "output_type": "execute_result"
    }
   ],
   "source": [
    "time.timezone"
   ]
  },
  {
   "cell_type": "code",
   "execution_count": 74,
   "id": "60f3c908",
   "metadata": {},
   "outputs": [
    {
     "data": {
      "text/plain": [
       "time.struct_time(tm_year=2022, tm_mon=10, tm_mday=17, tm_hour=8, tm_min=36, tm_sec=33, tm_wday=0, tm_yday=290, tm_isdst=0)"
      ]
     },
     "execution_count": 74,
     "metadata": {},
     "output_type": "execute_result"
    }
   ],
   "source": [
    "time.localtime()"
   ]
  },
  {
   "cell_type": "code",
   "execution_count": 75,
   "id": "f2b99c8e",
   "metadata": {},
   "outputs": [
    {
     "data": {
      "text/plain": [
       "(2022, 10, 17)"
      ]
     },
     "execution_count": 75,
     "metadata": {},
     "output_type": "execute_result"
    }
   ],
   "source": [
    "time.localtime()[0:3]"
   ]
  },
  {
   "cell_type": "code",
   "execution_count": 76,
   "id": "3ba1daa7",
   "metadata": {},
   "outputs": [
    {
     "data": {
      "text/plain": [
       "time.struct_time(tm_year=2022, tm_mon=10, tm_mday=17, tm_hour=3, tm_min=9, tm_sec=32, tm_wday=0, tm_yday=290, tm_isdst=0)"
      ]
     },
     "execution_count": 76,
     "metadata": {},
     "output_type": "execute_result"
    }
   ],
   "source": [
    "time.gmtime()"
   ]
  },
  {
   "cell_type": "code",
   "execution_count": 77,
   "id": "d3b0e52d",
   "metadata": {},
   "outputs": [
    {
     "data": {
      "text/plain": [
       "1665976322.5927553"
      ]
     },
     "execution_count": 77,
     "metadata": {},
     "output_type": "execute_result"
    }
   ],
   "source": [
    "time.time()"
   ]
  },
  {
   "cell_type": "code",
   "execution_count": 81,
   "id": "dbcb8ecf",
   "metadata": {},
   "outputs": [
    {
     "data": {
      "text/plain": [
       "'08:44:36'"
      ]
     },
     "execution_count": 81,
     "metadata": {},
     "output_type": "execute_result"
    }
   ],
   "source": [
    "time.ctime()[11:19]"
   ]
  },
  {
   "cell_type": "code",
   "execution_count": 82,
   "id": "588704ff",
   "metadata": {},
   "outputs": [
    {
     "data": {
      "text/plain": [
       "'08:45:19'"
      ]
     },
     "execution_count": 82,
     "metadata": {},
     "output_type": "execute_result"
    }
   ],
   "source": [
    "time.ctime().split()[3]"
   ]
  },
  {
   "cell_type": "code",
   "execution_count": 85,
   "id": "181a3d76",
   "metadata": {},
   "outputs": [
    {
     "name": "stdout",
     "output_type": "stream",
     "text": [
      "Next output will come 10 seconds\n",
      "Output Came\n"
     ]
    }
   ],
   "source": [
    "print(\"Next output will come 10 seconds\")\n",
    "time.sleep(10)\n",
    "print(\"Output Came\")"
   ]
  },
  {
   "cell_type": "code",
   "execution_count": 92,
   "id": "a0890535",
   "metadata": {},
   "outputs": [
    {
     "data": {
      "text/plain": [
       "'08, Mon,Monday, October, AM'"
      ]
     },
     "execution_count": 92,
     "metadata": {},
     "output_type": "execute_result"
    }
   ],
   "source": [
    "time.strftime(\"%H, %a,%A, %B, %p\") "
   ]
  },
  {
   "cell_type": "code",
   "execution_count": 93,
   "id": "0548e037",
   "metadata": {},
   "outputs": [
    {
     "data": {
      "text/plain": [
       "1970"
      ]
     },
     "execution_count": 93,
     "metadata": {},
     "output_type": "execute_result"
    }
   ],
   "source": [
    "calendar.EPOCH"
   ]
  },
  {
   "cell_type": "code",
   "execution_count": 98,
   "id": "441c3ad1",
   "metadata": {},
   "outputs": [
    {
     "name": "stdout",
     "output_type": "stream",
     "text": [
      "                                  2022\n",
      "\n",
      "      January                   February                   March\n",
      "Mo Tu We Th Fr Sa Su      Mo Tu We Th Fr Sa Su      Mo Tu We Th Fr Sa Su\n",
      "                1  2          1  2  3  4  5  6          1  2  3  4  5  6\n",
      " 3  4  5  6  7  8  9       7  8  9 10 11 12 13       7  8  9 10 11 12 13\n",
      "10 11 12 13 14 15 16      14 15 16 17 18 19 20      14 15 16 17 18 19 20\n",
      "17 18 19 20 21 22 23      21 22 23 24 25 26 27      21 22 23 24 25 26 27\n",
      "24 25 26 27 28 29 30      28                        28 29 30 31\n",
      "31\n",
      "\n",
      "       April                      May                       June\n",
      "Mo Tu We Th Fr Sa Su      Mo Tu We Th Fr Sa Su      Mo Tu We Th Fr Sa Su\n",
      "             1  2  3                         1             1  2  3  4  5\n",
      " 4  5  6  7  8  9 10       2  3  4  5  6  7  8       6  7  8  9 10 11 12\n",
      "11 12 13 14 15 16 17       9 10 11 12 13 14 15      13 14 15 16 17 18 19\n",
      "18 19 20 21 22 23 24      16 17 18 19 20 21 22      20 21 22 23 24 25 26\n",
      "25 26 27 28 29 30         23 24 25 26 27 28 29      27 28 29 30\n",
      "                          30 31\n",
      "\n",
      "        July                     August                  September\n",
      "Mo Tu We Th Fr Sa Su      Mo Tu We Th Fr Sa Su      Mo Tu We Th Fr Sa Su\n",
      "             1  2  3       1  2  3  4  5  6  7                1  2  3  4\n",
      " 4  5  6  7  8  9 10       8  9 10 11 12 13 14       5  6  7  8  9 10 11\n",
      "11 12 13 14 15 16 17      15 16 17 18 19 20 21      12 13 14 15 16 17 18\n",
      "18 19 20 21 22 23 24      22 23 24 25 26 27 28      19 20 21 22 23 24 25\n",
      "25 26 27 28 29 30 31      29 30 31                  26 27 28 29 30\n",
      "\n",
      "      October                   November                  December\n",
      "Mo Tu We Th Fr Sa Su      Mo Tu We Th Fr Sa Su      Mo Tu We Th Fr Sa Su\n",
      "                1  2          1  2  3  4  5  6                1  2  3  4\n",
      " 3  4  5  6  7  8  9       7  8  9 10 11 12 13       5  6  7  8  9 10 11\n",
      "10 11 12 13 14 15 16      14 15 16 17 18 19 20      12 13 14 15 16 17 18\n",
      "17 18 19 20 21 22 23      21 22 23 24 25 26 27      19 20 21 22 23 24 25\n",
      "24 25 26 27 28 29 30      28 29 30                  26 27 28 29 30 31\n",
      "31\n",
      "\n"
     ]
    }
   ],
   "source": [
    "print(calendar.calendar(2022))"
   ]
  },
  {
   "cell_type": "code",
   "execution_count": 97,
   "id": "8791af21",
   "metadata": {},
   "outputs": [
    {
     "name": "stdout",
     "output_type": "stream",
     "text": [
      "    October 2022\n",
      "Mo Tu We Th Fr Sa Su\n",
      "                1  2\n",
      " 3  4  5  6  7  8  9\n",
      "10 11 12 13 14 15 16\n",
      "17 18 19 20 21 22 23\n",
      "24 25 26 27 28 29 30\n",
      "31\n",
      "\n"
     ]
    }
   ],
   "source": [
    "print(calendar.month(2022,10))"
   ]
  },
  {
   "cell_type": "code",
   "execution_count": 101,
   "id": "e113e170",
   "metadata": {},
   "outputs": [
    {
     "data": {
      "text/plain": [
       "['Mon', 'Tue', 'Wed', 'Thu', 'Fri', 'Sat', 'Sun']"
      ]
     },
     "execution_count": 101,
     "metadata": {},
     "output_type": "execute_result"
    }
   ],
   "source": [
    "list(calendar.day_abbr)"
   ]
  },
  {
   "cell_type": "code",
   "execution_count": 102,
   "id": "9711f0eb",
   "metadata": {},
   "outputs": [
    {
     "data": {
      "text/plain": [
       "['Monday', 'Tuesday', 'Wednesday', 'Thursday', 'Friday', 'Saturday', 'Sunday']"
      ]
     },
     "execution_count": 102,
     "metadata": {},
     "output_type": "execute_result"
    }
   ],
   "source": [
    "list(calendar.day_name)"
   ]
  },
  {
   "cell_type": "code",
   "execution_count": null,
   "id": "8b18cb64",
   "metadata": {},
   "outputs": [],
   "source": []
  },
  {
   "cell_type": "code",
   "execution_count": 103,
   "id": "ea3db077",
   "metadata": {},
   "outputs": [
    {
     "data": {
      "text/plain": [
       "['',\n",
       " 'Jan',\n",
       " 'Feb',\n",
       " 'Mar',\n",
       " 'Apr',\n",
       " 'May',\n",
       " 'Jun',\n",
       " 'Jul',\n",
       " 'Aug',\n",
       " 'Sep',\n",
       " 'Oct',\n",
       " 'Nov',\n",
       " 'Dec']"
      ]
     },
     "execution_count": 103,
     "metadata": {},
     "output_type": "execute_result"
    }
   ],
   "source": [
    "list(calendar.month_abbr)"
   ]
  },
  {
   "cell_type": "code",
   "execution_count": 104,
   "id": "9ecf95ec",
   "metadata": {},
   "outputs": [
    {
     "data": {
      "text/plain": [
       "'JanFebMarAprMayJunJulAugSepOctNovDec'"
      ]
     },
     "execution_count": 104,
     "metadata": {},
     "output_type": "execute_result"
    }
   ],
   "source": [
    "''.join(list(calendar.month_abbr))"
   ]
  },
  {
   "cell_type": "code",
   "execution_count": 106,
   "id": "9ef58ccb",
   "metadata": {},
   "outputs": [
    {
     "data": {
      "text/plain": [
       "['',\n",
       " 'January',\n",
       " 'February',\n",
       " 'March',\n",
       " 'April',\n",
       " 'May',\n",
       " 'June',\n",
       " 'July',\n",
       " 'August',\n",
       " 'September',\n",
       " 'October',\n",
       " 'November',\n",
       " 'December']"
      ]
     },
     "execution_count": 106,
     "metadata": {},
     "output_type": "execute_result"
    }
   ],
   "source": [
    "list(calendar.month_name)"
   ]
  },
  {
   "cell_type": "code",
   "execution_count": 108,
   "id": "aaded561",
   "metadata": {},
   "outputs": [
    {
     "data": {
      "text/plain": [
       "(1, 30)"
      ]
     },
     "execution_count": 108,
     "metadata": {},
     "output_type": "execute_result"
    }
   ],
   "source": [
    "calendar.monthrange(2022,11)"
   ]
  },
  {
   "cell_type": "code",
   "execution_count": 110,
   "id": "53334e2b",
   "metadata": {
    "scrolled": true
   },
   "outputs": [
    {
     "data": {
      "text/plain": [
       "6"
      ]
     },
     "execution_count": 110,
     "metadata": {},
     "output_type": "execute_result"
    }
   ],
   "source": [
    "calendar.leapdays(1998,2022)"
   ]
  },
  {
   "cell_type": "code",
   "execution_count": 112,
   "id": "3fa5ce84",
   "metadata": {},
   "outputs": [
    {
     "data": {
      "text/plain": [
       "True"
      ]
     },
     "execution_count": 112,
     "metadata": {},
     "output_type": "execute_result"
    }
   ],
   "source": [
    "calendar.isleap(2000)"
   ]
  },
  {
   "cell_type": "code",
   "execution_count": 113,
   "id": "20f38b50",
   "metadata": {},
   "outputs": [
    {
     "data": {
      "text/plain": [
       "1"
      ]
     },
     "execution_count": 113,
     "metadata": {},
     "output_type": "execute_result"
    }
   ],
   "source": [
    "calendar.January"
   ]
  },
  {
   "cell_type": "markdown",
   "id": "bf6b673e",
   "metadata": {},
   "source": [
    "# how to use time-delta object"
   ]
  },
  {
   "cell_type": "code",
   "execution_count": 220,
   "id": "a9a21e7e",
   "metadata": {},
   "outputs": [
    {
     "data": {
      "text/plain": [
       "datetime.timedelta(days=300, seconds=33480)"
      ]
     },
     "execution_count": 220,
     "metadata": {},
     "output_type": "execute_result"
    }
   ],
   "source": [
    "datetime.timedelta(days=300,hours=9,minutes=18)"
   ]
  },
  {
   "cell_type": "code",
   "execution_count": 221,
   "id": "1859fa03",
   "metadata": {},
   "outputs": [
    {
     "name": "stdout",
     "output_type": "stream",
     "text": [
      "300 days, 9:18:00\n"
     ]
    }
   ],
   "source": [
    "print(datetime.timedelta(days=300,hours=9,minutes=18))"
   ]
  },
  {
   "cell_type": "code",
   "execution_count": 222,
   "id": "1e97da69",
   "metadata": {},
   "outputs": [
    {
     "data": {
      "text/plain": [
       "datetime.datetime(2022, 10, 17, 13, 49, 40, 222660)"
      ]
     },
     "execution_count": 222,
     "metadata": {},
     "output_type": "execute_result"
    }
   ],
   "source": [
    "datetime.datetime.now()"
   ]
  },
  {
   "cell_type": "code",
   "execution_count": 124,
   "id": "5f2961c0",
   "metadata": {},
   "outputs": [
    {
     "name": "stdout",
     "output_type": "stream",
     "text": [
      "2022-10-17 09:22:43.566397\n"
     ]
    }
   ],
   "source": [
    "print(datetime.datetime.now())"
   ]
  },
  {
   "cell_type": "code",
   "execution_count": 129,
   "id": "d4bda40e",
   "metadata": {},
   "outputs": [],
   "source": [
    "delt = datetime.timedelta(days =1)\n",
    "now = datetime.datetime.now()"
   ]
  },
  {
   "cell_type": "code",
   "execution_count": 131,
   "id": "8151a073",
   "metadata": {},
   "outputs": [
    {
     "name": "stdout",
     "output_type": "stream",
     "text": [
      "2022-10-18 09:25:09.809603\n"
     ]
    }
   ],
   "source": [
    "future = delt+now\n",
    "print(future)"
   ]
  },
  {
   "cell_type": "code",
   "execution_count": 132,
   "id": "a004812f",
   "metadata": {},
   "outputs": [],
   "source": [
    "#find the past date"
   ]
  },
  {
   "cell_type": "code",
   "execution_count": 133,
   "id": "ce9da025",
   "metadata": {},
   "outputs": [
    {
     "name": "stdout",
     "output_type": "stream",
     "text": [
      "2022-10-16 09:25:09.809603\n"
     ]
    }
   ],
   "source": [
    "past = now-delt\n",
    "print(past)"
   ]
  },
  {
   "cell_type": "code",
   "execution_count": 134,
   "id": "f93c9936",
   "metadata": {},
   "outputs": [],
   "source": [
    "#how many days are Left for Diwali\n",
    "Diwali = datetime.date(datetime.datetime.now().year, 10,24)"
   ]
  },
  {
   "cell_type": "code",
   "execution_count": 135,
   "id": "93f3898b",
   "metadata": {},
   "outputs": [],
   "source": [
    "today = datetime.date.today() "
   ]
  },
  {
   "cell_type": "code",
   "execution_count": 136,
   "id": "c81e3c3e",
   "metadata": {},
   "outputs": [
    {
     "data": {
      "text/plain": [
       "datetime.date(2022, 10, 17)"
      ]
     },
     "execution_count": 136,
     "metadata": {},
     "output_type": "execute_result"
    }
   ],
   "source": [
    "today"
   ]
  },
  {
   "cell_type": "code",
   "execution_count": 137,
   "id": "6bed3104",
   "metadata": {},
   "outputs": [
    {
     "data": {
      "text/plain": [
       "datetime.date(2022, 10, 24)"
      ]
     },
     "execution_count": 137,
     "metadata": {},
     "output_type": "execute_result"
    }
   ],
   "source": [
    "Diwali"
   ]
  },
  {
   "cell_type": "code",
   "execution_count": 138,
   "id": "bec9dbb6",
   "metadata": {},
   "outputs": [
    {
     "name": "stdout",
     "output_type": "stream",
     "text": [
      "7 days, 0:00:00\n"
     ]
    }
   ],
   "source": [
    "print(Diwali-today)"
   ]
  },
  {
   "cell_type": "code",
   "execution_count": 139,
   "id": "8f0abd01",
   "metadata": {},
   "outputs": [],
   "source": [
    "#Find the age of yourself "
   ]
  },
  {
   "cell_type": "code",
   "execution_count": 15,
   "id": "816d5311",
   "metadata": {},
   "outputs": [
    {
     "data": {
      "text/plain": [
       "25"
      ]
     },
     "execution_count": 15,
     "metadata": {},
     "output_type": "execute_result"
    }
   ],
   "source": [
    "import datetime\n",
    "DOB = datetime.date(1998, 3,20)\n",
    "today =  datetime.date.today()\n",
    "Myage = today - DOB\n",
    "round(int(str(Myage).split(\",\")[0].split()[0])/365)"
   ]
  },
  {
   "cell_type": "code",
   "execution_count": 7,
   "id": "ea20a4ee",
   "metadata": {},
   "outputs": [
    {
     "data": {
      "text/plain": [
       "'8977 days, 0:00:00'"
      ]
     },
     "execution_count": 7,
     "metadata": {},
     "output_type": "execute_result"
    }
   ],
   "source": [
    "str(Myage)"
   ]
  },
  {
   "cell_type": "code",
   "execution_count": 152,
   "id": "1f57d739",
   "metadata": {},
   "outputs": [],
   "source": [
    "#Garbage collection in Python"
   ]
  },
  {
   "cell_type": "markdown",
   "id": "9a017dfc",
   "metadata": {},
   "source": [
    "# Garbage is nothing but waste data of the system"
   ]
  },
  {
   "cell_type": "code",
   "execution_count": 158,
   "id": "36c9ea2a",
   "metadata": {},
   "outputs": [
    {
     "name": "stdout",
     "output_type": "stream",
     "text": [
      "Help on built-in module gc:\n",
      "\n",
      "NAME\n",
      "    gc - This module provides access to the garbage collector for reference cycles.\n",
      "\n",
      "MODULE REFERENCE\n",
      "    https://docs.python.org/3.9/library/gc\n",
      "    \n",
      "    The following documentation is automatically generated from the Python\n",
      "    source files.  It may be incomplete, incorrect or include features that\n",
      "    are considered implementation detail and may vary between Python\n",
      "    implementations.  When in doubt, consult the module reference at the\n",
      "    location listed above.\n",
      "\n",
      "DESCRIPTION\n",
      "    enable() -- Enable automatic garbage collection.\n",
      "    disable() -- Disable automatic garbage collection.\n",
      "    isenabled() -- Returns true if automatic collection is enabled.\n",
      "    collect() -- Do a full collection right now.\n",
      "    get_count() -- Return the current collection counts.\n",
      "    get_stats() -- Return list of dictionaries containing per-generation stats.\n",
      "    set_debug() -- Set debugging flags.\n",
      "    get_debug() -- Get debugging flags.\n",
      "    set_threshold() -- Set the collection thresholds.\n",
      "    get_threshold() -- Return the current the collection thresholds.\n",
      "    get_objects() -- Return a list of all objects tracked by the collector.\n",
      "    is_tracked() -- Returns true if a given object is tracked.\n",
      "    is_finalized() -- Returns true if a given object has been already finalized.\n",
      "    get_referrers() -- Return the list of objects that refer to an object.\n",
      "    get_referents() -- Return the list of objects that an object refers to.\n",
      "    freeze() -- Freeze all tracked objects and ignore them for future collections.\n",
      "    unfreeze() -- Unfreeze all objects in the permanent generation.\n",
      "    get_freeze_count() -- Return the number of objects in the permanent generation.\n",
      "\n",
      "FUNCTIONS\n",
      "    collect(generation=2)\n",
      "        Run the garbage collector.\n",
      "        \n",
      "        With no arguments, run a full collection.  The optional argument\n",
      "        may be an integer specifying which generation to collect.  A ValueError\n",
      "        is raised if the generation number is invalid.\n",
      "        \n",
      "        The number of unreachable objects is returned.\n",
      "    \n",
      "    disable()\n",
      "        Disable automatic garbage collection.\n",
      "    \n",
      "    enable()\n",
      "        Enable automatic garbage collection.\n",
      "    \n",
      "    freeze()\n",
      "        Freeze all current tracked objects and ignore them for future collections.\n",
      "        \n",
      "        This can be used before a POSIX fork() call to make the gc copy-on-write friendly.\n",
      "        Note: collection before a POSIX fork() call may free pages for future allocation\n",
      "        which can cause copy-on-write.\n",
      "    \n",
      "    get_count()\n",
      "        Return a three-tuple of the current collection counts.\n",
      "    \n",
      "    get_debug()\n",
      "        Get the garbage collection debugging flags.\n",
      "    \n",
      "    get_freeze_count()\n",
      "        Return the number of objects in the permanent generation.\n",
      "    \n",
      "    get_objects(generation=None)\n",
      "        Return a list of objects tracked by the collector (excluding the list returned).\n",
      "        \n",
      "          generation\n",
      "            Generation to extract the objects from.\n",
      "        \n",
      "        If generation is not None, return only the objects tracked by the collector\n",
      "        that are in that generation.\n",
      "    \n",
      "    get_referents(...)\n",
      "        get_referents(*objs) -> list\n",
      "        Return the list of objects that are directly referred to by objs.\n",
      "    \n",
      "    get_referrers(...)\n",
      "        get_referrers(*objs) -> list\n",
      "        Return the list of objects that directly refer to any of objs.\n",
      "    \n",
      "    get_stats()\n",
      "        Return a list of dictionaries containing per-generation statistics.\n",
      "    \n",
      "    get_threshold()\n",
      "        Return the current collection thresholds.\n",
      "    \n",
      "    is_finalized(obj, /)\n",
      "        Returns true if the object has been already finalized by the GC.\n",
      "    \n",
      "    is_tracked(obj, /)\n",
      "        Returns true if the object is tracked by the garbage collector.\n",
      "        \n",
      "        Simple atomic objects will return false.\n",
      "    \n",
      "    isenabled()\n",
      "        Returns true if automatic garbage collection is enabled.\n",
      "    \n",
      "    set_debug(flags, /)\n",
      "        Set the garbage collection debugging flags.\n",
      "        \n",
      "          flags\n",
      "            An integer that can have the following bits turned on:\n",
      "              DEBUG_STATS - Print statistics during collection.\n",
      "              DEBUG_COLLECTABLE - Print collectable objects found.\n",
      "              DEBUG_UNCOLLECTABLE - Print unreachable but uncollectable objects\n",
      "                found.\n",
      "              DEBUG_SAVEALL - Save objects to gc.garbage rather than freeing them.\n",
      "              DEBUG_LEAK - Debug leaking programs (everything but STATS).\n",
      "        \n",
      "        Debugging information is written to sys.stderr.\n",
      "    \n",
      "    set_threshold(...)\n",
      "        set_threshold(threshold0, [threshold1, threshold2]) -> None\n",
      "        \n",
      "        Sets the collection thresholds.  Setting threshold0 to zero disables\n",
      "        collection.\n",
      "    \n",
      "    unfreeze()\n",
      "        Unfreeze all objects in the permanent generation.\n",
      "        \n",
      "        Put all objects in the permanent generation back into oldest generation.\n",
      "\n",
      "DATA\n",
      "    DEBUG_COLLECTABLE = 2\n",
      "    DEBUG_LEAK = 38\n",
      "    DEBUG_SAVEALL = 32\n",
      "    DEBUG_STATS = 1\n",
      "    DEBUG_UNCOLLECTABLE = 4\n",
      "    callbacks = []\n",
      "    garbage = []\n",
      "\n",
      "FILE\n",
      "    (built-in)\n",
      "\n",
      "\n"
     ]
    }
   ],
   "source": [
    "# import gc\n",
    "# help(gc)"
   ]
  },
  {
   "cell_type": "code",
   "execution_count": 159,
   "id": "5915fe9f",
   "metadata": {},
   "outputs": [
    {
     "data": {
      "text/plain": [
       "(535, 5, 3)"
      ]
     },
     "execution_count": 159,
     "metadata": {},
     "output_type": "execute_result"
    }
   ],
   "source": [
    "gc.get_count()"
   ]
  },
  {
   "cell_type": "code",
   "execution_count": 160,
   "id": "52511a80",
   "metadata": {},
   "outputs": [],
   "source": [
    "###user defined module"
   ]
  },
  {
   "cell_type": "code",
   "execution_count": 161,
   "id": "c0e6141b",
   "metadata": {},
   "outputs": [],
   "source": [
    "#Local Module and Global Modules"
   ]
  },
  {
   "cell_type": "code",
   "execution_count": 20,
   "id": "60e0a2af",
   "metadata": {},
   "outputs": [],
   "source": [
    "import local_demo"
   ]
  },
  {
   "cell_type": "code",
   "execution_count": 22,
   "id": "dde32519",
   "metadata": {},
   "outputs": [
    {
     "name": "stdout",
     "output_type": "stream",
     "text": [
      "4\n"
     ]
    }
   ],
   "source": [
    "local_demo.hello(4)"
   ]
  },
  {
   "cell_type": "code",
   "execution_count": 23,
   "id": "924e2b54",
   "metadata": {},
   "outputs": [
    {
     "name": "stdout",
     "output_type": "stream",
     "text": [
      "Even\n"
     ]
    }
   ],
   "source": [
    "local_demo.even(34)"
   ]
  },
  {
   "cell_type": "code",
   "execution_count": 167,
   "id": "263360a1",
   "metadata": {},
   "outputs": [],
   "source": [
    "#WAP to create a local module\n",
    "#First function to generate n numbers\n",
    "#second function to generate divisible by 5\n",
    "# third function to get number divisible by 12"
   ]
  },
  {
   "cell_type": "code",
   "execution_count": 169,
   "id": "fd8e0552",
   "metadata": {},
   "outputs": [],
   "source": [
    "# def generatenum(n):\n",
    "#     for i in range(1,n+1):\n",
    "#         print(i, end='')\n",
    "# def divisibleby5(n):\n",
    "#     for i in range(1,n+1):\n",
    "#         if i%5 ==0:\n",
    "#             print(i,end='')\n",
    "# def divisibleby12(n):\n",
    "#     for i in range(1,n+1):\n",
    "#         if i%12 =0:\n",
    "#             print(i,end='')                "
   ]
  },
  {
   "cell_type": "code",
   "execution_count": 1,
   "id": "399bceb5",
   "metadata": {},
   "outputs": [],
   "source": [
    "import ramya"
   ]
  },
  {
   "cell_type": "code",
   "execution_count": 2,
   "id": "a463dd22",
   "metadata": {},
   "outputs": [
    {
     "name": "stdout",
     "output_type": "stream",
     "text": [
      "1 2 3 4 5 6 7 8 9 10 11 12 13 14 15 16 17 18 19 20 21 22 23 "
     ]
    }
   ],
   "source": [
    "ramya.generatenum(23)"
   ]
  },
  {
   "cell_type": "code",
   "execution_count": 3,
   "id": "a0f63c66",
   "metadata": {},
   "outputs": [
    {
     "name": "stdout",
     "output_type": "stream",
     "text": [
      "12 24 36 48 60 "
     ]
    }
   ],
   "source": [
    "ramya.divisibleby12(67)"
   ]
  },
  {
   "cell_type": "code",
   "execution_count": 4,
   "id": "b83aa9ae",
   "metadata": {},
   "outputs": [
    {
     "name": "stdout",
     "output_type": "stream",
     "text": [
      "5 10 15 20 25 30 35 40 45 50 55 "
     ]
    }
   ],
   "source": [
    "ramya.divisibleby5(56)"
   ]
  },
  {
   "cell_type": "code",
   "execution_count": 43,
   "id": "6d38cb0f",
   "metadata": {},
   "outputs": [],
   "source": [
    "import ramya"
   ]
  },
  {
   "cell_type": "code",
   "execution_count": 176,
   "id": "e04089a9",
   "metadata": {},
   "outputs": [],
   "source": [
    "#WAP to make a global module"
   ]
  },
  {
   "cell_type": "code",
   "execution_count": 2,
   "id": "d83cb314",
   "metadata": {},
   "outputs": [],
   "source": [
    "import gramya"
   ]
  },
  {
   "cell_type": "code",
   "execution_count": 3,
   "id": "b8e23819",
   "metadata": {},
   "outputs": [
    {
     "data": {
      "text/plain": [
       "<function gramya.f1()>"
      ]
     },
     "execution_count": 3,
     "metadata": {},
     "output_type": "execute_result"
    }
   ],
   "source": [
    "gramya.f1"
   ]
  },
  {
   "cell_type": "code",
   "execution_count": 4,
   "id": "96dbe3e0",
   "metadata": {},
   "outputs": [
    {
     "name": "stdout",
     "output_type": "stream",
     "text": [
      "aymar\n"
     ]
    }
   ],
   "source": [
    "gramya.f2(\"ramya\")"
   ]
  },
  {
   "cell_type": "code",
   "execution_count": 6,
   "id": "b5740540",
   "metadata": {},
   "outputs": [
    {
     "name": "stdout",
     "output_type": "stream",
     "text": [
      "27\n"
     ]
    }
   ],
   "source": [
    "gramya.f3(13,14)"
   ]
  },
  {
   "cell_type": "code",
   "execution_count": 12,
   "id": "51241d0e",
   "metadata": {},
   "outputs": [],
   "source": [
    "import Ramya.tramya as ram"
   ]
  },
  {
   "cell_type": "code",
   "execution_count": 13,
   "id": "fb05c41f",
   "metadata": {},
   "outputs": [
    {
     "name": "stdout",
     "output_type": "stream",
     "text": [
      "raeD iH\n"
     ]
    }
   ],
   "source": [
    "ram.f2(\"Hi Dear\")"
   ]
  },
  {
   "cell_type": "code",
   "execution_count": null,
   "id": "77904bb2",
   "metadata": {},
   "outputs": [],
   "source": []
  }
 ],
 "metadata": {
  "kernelspec": {
   "display_name": "Python 3 (ipykernel)",
   "language": "python",
   "name": "python3"
  },
  "language_info": {
   "codemirror_mode": {
    "name": "ipython",
    "version": 3
   },
   "file_extension": ".py",
   "mimetype": "text/x-python",
   "name": "python",
   "nbconvert_exporter": "python",
   "pygments_lexer": "ipython3",
   "version": "3.9.12"
  }
 },
 "nbformat": 4,
 "nbformat_minor": 5
}
