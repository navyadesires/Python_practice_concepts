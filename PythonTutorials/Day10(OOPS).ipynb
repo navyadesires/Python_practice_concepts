{
 "cells": [
  {
   "cell_type": "markdown",
   "id": "5dbee955",
   "metadata": {},
   "source": [
    "### Day 10"
   ]
  },
  {
   "cell_type": "markdown",
   "id": "46d56444",
   "metadata": {},
   "source": [
    "### Object Oriented Programming Conepts (OOPS)"
   ]
  },
  {
   "cell_type": "markdown",
   "id": "99eb1cf2",
   "metadata": {},
   "source": [
    "### Object oriented Paradigm Scheme - OOPS full form\n",
    "   - Class\n",
    "   - Object\n",
    "    "
   ]
  },
  {
   "cell_type": "markdown",
   "id": "2022f568",
   "metadata": {},
   "source": [
    "#### What is class?\n",
    "##### Class is a collection of state and behaviour\n",
    "    1. state - variable\n",
    "    2. behaviour - Function\n",
    "   - Class can have it's definition like It can be a blueprint or any other. But any class has state and behaviour.\n",
    "    "
   ]
  },
  {
   "cell_type": "markdown",
   "id": "68e55db9",
   "metadata": {},
   "source": [
    "- class starts with capital in Java so we use the same here and it's not mandatory to use the same naming convention here because python gives us the freedom to name our classes"
   ]
  },
  {
   "cell_type": "code",
   "execution_count": 1,
   "id": "c099a6f7",
   "metadata": {},
   "outputs": [],
   "source": [
    " \n",
    "class Dog:\n",
    "    pass"
   ]
  },
  {
   "cell_type": "code",
   "execution_count": 2,
   "id": "5c8edd5f",
   "metadata": {},
   "outputs": [
    {
     "name": "stdout",
     "output_type": "stream",
     "text": [
      "Help on class Dog in module __main__:\n",
      "\n",
      "class Dog(builtins.object)\n",
      " |  Data descriptors defined here:\n",
      " |  \n",
      " |  __dict__\n",
      " |      dictionary for instance variables (if defined)\n",
      " |  \n",
      " |  __weakref__\n",
      " |      list of weak references to the object (if defined)\n",
      "\n"
     ]
    }
   ],
   "source": [
    "help(Dog)"
   ]
  },
  {
   "cell_type": "code",
   "execution_count": 3,
   "id": "ffaf3eae",
   "metadata": {},
   "outputs": [
    {
     "data": {
      "text/plain": [
       "['__class__',\n",
       " '__delattr__',\n",
       " '__dict__',\n",
       " '__dir__',\n",
       " '__doc__',\n",
       " '__eq__',\n",
       " '__format__',\n",
       " '__ge__',\n",
       " '__getattribute__',\n",
       " '__gt__',\n",
       " '__hash__',\n",
       " '__init__',\n",
       " '__init_subclass__',\n",
       " '__le__',\n",
       " '__lt__',\n",
       " '__module__',\n",
       " '__ne__',\n",
       " '__new__',\n",
       " '__reduce__',\n",
       " '__reduce_ex__',\n",
       " '__repr__',\n",
       " '__setattr__',\n",
       " '__sizeof__',\n",
       " '__str__',\n",
       " '__subclasshook__',\n",
       " '__weakref__']"
      ]
     },
     "execution_count": 3,
     "metadata": {},
     "output_type": "execute_result"
    }
   ],
   "source": [
    "dir(Dog)"
   ]
  },
  {
   "cell_type": "code",
   "execution_count": 14,
   "id": "cf0dd486",
   "metadata": {},
   "outputs": [],
   "source": [
    "# class with a body:\n",
    "class Dog:\n",
    "    name = \"Tommy\"\n",
    "    breed = \"Bulldog\"\n",
    "    price = 15000.456\n",
    "    color = \"Cream\"\n",
    "# Above are the properties of the Dog or state of the Dog.\n",
    "    def bite():\n",
    "        print(\"Dog Bites causes Rabies\", breed)\n",
    "    def bark():\n",
    "        print(\"Dog barks at strangers\")\n",
    "        "
   ]
  },
  {
   "cell_type": "code",
   "execution_count": 15,
   "id": "d9015f3a",
   "metadata": {
    "collapsed": true
   },
   "outputs": [
    {
     "name": "stdout",
     "output_type": "stream",
     "text": [
      "Help on class Dog in module __main__:\n",
      "\n",
      "class Dog(builtins.object)\n",
      " |  Methods defined here:\n",
      " |  \n",
      " |  bark()\n",
      " |  \n",
      " |  bite()\n",
      " |  \n",
      " |  ----------------------------------------------------------------------\n",
      " |  Data descriptors defined here:\n",
      " |  \n",
      " |  __dict__\n",
      " |      dictionary for instance variables (if defined)\n",
      " |  \n",
      " |  __weakref__\n",
      " |      list of weak references to the object (if defined)\n",
      " |  \n",
      " |  ----------------------------------------------------------------------\n",
      " |  Data and other attributes defined here:\n",
      " |  \n",
      " |  breed = 'Bulldog'\n",
      " |  \n",
      " |  color = 'Cream'\n",
      " |  \n",
      " |  name = 'Tommy'\n",
      " |  \n",
      " |  price = 15000.456\n",
      "\n"
     ]
    }
   ],
   "source": [
    "help(Dog)"
   ]
  },
  {
   "cell_type": "code",
   "execution_count": 16,
   "id": "423fc006",
   "metadata": {},
   "outputs": [
    {
     "data": {
      "text/plain": [
       "['__class__',\n",
       " '__delattr__',\n",
       " '__dict__',\n",
       " '__dir__',\n",
       " '__doc__',\n",
       " '__eq__',\n",
       " '__format__',\n",
       " '__ge__',\n",
       " '__getattribute__',\n",
       " '__gt__',\n",
       " '__hash__',\n",
       " '__init__',\n",
       " '__init_subclass__',\n",
       " '__le__',\n",
       " '__lt__',\n",
       " '__module__',\n",
       " '__ne__',\n",
       " '__new__',\n",
       " '__reduce__',\n",
       " '__reduce_ex__',\n",
       " '__repr__',\n",
       " '__setattr__',\n",
       " '__sizeof__',\n",
       " '__str__',\n",
       " '__subclasshook__',\n",
       " '__weakref__',\n",
       " 'bark',\n",
       " 'bite',\n",
       " 'breed',\n",
       " 'color',\n",
       " 'name',\n",
       " 'price']"
      ]
     },
     "execution_count": 16,
     "metadata": {},
     "output_type": "execute_result"
    }
   ],
   "source": [
    "dir(Dog) #Does be the same with additional paramtere like state and behaviour."
   ]
  },
  {
   "cell_type": "markdown",
   "id": "ec94f468",
   "metadata": {},
   "source": [
    "### Creation of Object"
   ]
  },
  {
   "cell_type": "code",
   "execution_count": 17,
   "id": "22a6e526",
   "metadata": {},
   "outputs": [],
   "source": [
    "d1 = Dog"
   ]
  },
  {
   "cell_type": "code",
   "execution_count": 18,
   "id": "2e945215",
   "metadata": {},
   "outputs": [
    {
     "data": {
      "text/plain": [
       "__main__.Dog"
      ]
     },
     "execution_count": 18,
     "metadata": {},
     "output_type": "execute_result"
    }
   ],
   "source": [
    "d1"
   ]
  },
  {
   "cell_type": "code",
   "execution_count": 19,
   "id": "f80f7575",
   "metadata": {},
   "outputs": [
    {
     "data": {
      "text/plain": [
       "type"
      ]
     },
     "execution_count": 19,
     "metadata": {},
     "output_type": "execute_result"
    }
   ],
   "source": [
    "type(d1) #d1 is not a kind of object. It's a kind of reference variable"
   ]
  },
  {
   "cell_type": "code",
   "execution_count": 20,
   "id": "4609f335",
   "metadata": {},
   "outputs": [
    {
     "name": "stdout",
     "output_type": "stream",
     "text": [
      "Dog barks at strangers\n"
     ]
    }
   ],
   "source": [
    "d1.bark()"
   ]
  },
  {
   "cell_type": "code",
   "execution_count": 21,
   "id": "a42506c2",
   "metadata": {},
   "outputs": [
    {
     "data": {
      "text/plain": [
       "'Cream'"
      ]
     },
     "execution_count": 21,
     "metadata": {},
     "output_type": "execute_result"
    }
   ],
   "source": [
    "d1.color"
   ]
  },
  {
   "cell_type": "code",
   "execution_count": 23,
   "id": "356e4ff4",
   "metadata": {},
   "outputs": [
    {
     "ename": "NameError",
     "evalue": "name 'breed' is not defined",
     "output_type": "error",
     "traceback": [
      "\u001b[1;31m---------------------------------------------------------------------------\u001b[0m",
      "\u001b[1;31mNameError\u001b[0m                                 Traceback (most recent call last)",
      "Cell \u001b[1;32mIn [23], line 1\u001b[0m\n\u001b[1;32m----> 1\u001b[0m \u001b[43md1\u001b[49m\u001b[38;5;241;43m.\u001b[39;49m\u001b[43mbite\u001b[49m\u001b[43m(\u001b[49m\u001b[43m)\u001b[49m\n",
      "Cell \u001b[1;32mIn [14], line 9\u001b[0m, in \u001b[0;36mDog.bite\u001b[1;34m()\u001b[0m\n\u001b[0;32m      8\u001b[0m \u001b[38;5;28;01mdef\u001b[39;00m \u001b[38;5;21mbite\u001b[39m():\n\u001b[1;32m----> 9\u001b[0m     \u001b[38;5;28mprint\u001b[39m(\u001b[38;5;124m\"\u001b[39m\u001b[38;5;124mDog Bites causes Rabies\u001b[39m\u001b[38;5;124m\"\u001b[39m, \u001b[43mbreed\u001b[49m)\n",
      "\u001b[1;31mNameError\u001b[0m: name 'breed' is not defined"
     ]
    }
   ],
   "source": [
    "d1.bite() # using reference variables we cannot access state of the class inside the function"
   ]
  },
  {
   "cell_type": "markdown",
   "id": "c3a9dbed",
   "metadata": {},
   "source": [
    "### How to use states declared inside a function?\n",
    "   - We need to declare references inside the function like we use this in Java\n",
    "   - check below code to know more"
   ]
  },
  {
   "cell_type": "code",
   "execution_count": 58,
   "id": "f6d8a6e1",
   "metadata": {},
   "outputs": [],
   "source": [
    "class Employee:\n",
    "    eid = 4700\n",
    "    ename = \"TestName\"\n",
    "    edept = \"Digital\"\n",
    "    esalary = 1500000\n",
    "    # like this in java we are using ref as a reference here and remember that first parameter of the function should be reference to class\n",
    "    def work(ref):\n",
    "        print(ref.ename, \"is working with a salary of\", ref.esalary)\n",
    "    def takeLeave(ref, days): # here days is memeber of function and ref is member of class\n",
    "        # print(ref.ename, f\"is taking leave for {days}\", days)\n",
    "        # print(ref.ename, \"is taking leave for\", days)\n",
    "        print(f\"{ref.ename} is taking leave for {days} days\")"
   ]
  },
  {
   "cell_type": "code",
   "execution_count": 41,
   "id": "9d405c68",
   "metadata": {},
   "outputs": [],
   "source": [
    "e1 = Employee() # Like function use () to use class"
   ]
  },
  {
   "cell_type": "code",
   "execution_count": 42,
   "id": "775c5153",
   "metadata": {},
   "outputs": [
    {
     "data": {
      "text/plain": [
       "__main__.Employee"
      ]
     },
     "execution_count": 42,
     "metadata": {},
     "output_type": "execute_result"
    }
   ],
   "source": [
    "type(e1)"
   ]
  },
  {
   "cell_type": "code",
   "execution_count": 43,
   "id": "52e22989",
   "metadata": {},
   "outputs": [
    {
     "name": "stdout",
     "output_type": "stream",
     "text": [
      "TestName is working with a salary of 1500000\n"
     ]
    }
   ],
   "source": [
    "e1.work()"
   ]
  },
  {
   "cell_type": "code",
   "execution_count": 44,
   "id": "53b5fc9c",
   "metadata": {},
   "outputs": [
    {
     "name": "stdout",
     "output_type": "stream",
     "text": [
      "TestName is taking leave for 2 days\n"
     ]
    }
   ],
   "source": [
    "e1.takeLeave(2)"
   ]
  },
  {
   "cell_type": "markdown",
   "id": "ac6b82fe",
   "metadata": {},
   "source": [
    "### Task: Create a class for bank"
   ]
  },
  {
   "cell_type": "code",
   "execution_count": 45,
   "id": "57df365b",
   "metadata": {},
   "outputs": [],
   "source": [
    "class Bank:\n",
    "    bName = \"Bank of Andaman\"\n",
    "    bOffers = 150\n",
    "    \n",
    "    def loanInterest(ref, intretRate):\n",
    "        print(f\"{ref.bName} gives a loan interest of {intretRate}%\")\n",
    "        \n",
    "    def emiInterest(ref, emi):\n",
    "        print(ref.bName, \"gives EMI of\", emi, \"%\")\n",
    "        \n",
    "    def offers(ref):\n",
    "        print(ref.bName, \"has\", ref.bOffers, \"offers and plans\")"
   ]
  },
  {
   "cell_type": "code",
   "execution_count": 46,
   "id": "c6ca27a7",
   "metadata": {},
   "outputs": [],
   "source": [
    "bank = Bank()"
   ]
  },
  {
   "cell_type": "code",
   "execution_count": 47,
   "id": "97913f31",
   "metadata": {},
   "outputs": [
    {
     "name": "stdout",
     "output_type": "stream",
     "text": [
      "Bank of Andaman has 150 offers and plans\n",
      "Bank of Andaman gives a loan interest of 5%\n",
      "Bank of Andaman gives EMI of 2 %\n"
     ]
    }
   ],
   "source": [
    "bank.offers()\n",
    "bank.loanInterest(5)\n",
    "bank.emiInterest(2)"
   ]
  },
  {
   "cell_type": "code",
   "execution_count": 48,
   "id": "a5cc8dde",
   "metadata": {},
   "outputs": [],
   "source": [
    "sbi = Bank()\n",
    "sbi.bName = \"State Bank of India\"\n",
    "sbi.bOffers = 1500"
   ]
  },
  {
   "cell_type": "code",
   "execution_count": 49,
   "id": "110a6261",
   "metadata": {},
   "outputs": [
    {
     "name": "stdout",
     "output_type": "stream",
     "text": [
      "State Bank of India has 1500 offers and plans\n",
      "State Bank of India gives a loan interest of 5%\n",
      "State Bank of India gives EMI of 2 %\n"
     ]
    }
   ],
   "source": [
    "sbi.offers()\n",
    "sbi.loanInterest(5)\n",
    "sbi.emiInterest(2)"
   ]
  },
  {
   "cell_type": "markdown",
   "id": "efe643a1",
   "metadata": {},
   "source": [
    "### Object is a real time entity and changes it's behaviour and state with actions."
   ]
  },
  {
   "cell_type": "markdown",
   "id": "be699807",
   "metadata": {},
   "source": [
    "- We can create n number of classes and entity"
   ]
  },
  {
   "cell_type": "code",
   "execution_count": 50,
   "id": "1080658f",
   "metadata": {},
   "outputs": [],
   "source": [
    "icici = Bank()\n",
    "icici.bName = \"ICICI\"\n",
    "icici.bOffers = 10000"
   ]
  },
  {
   "cell_type": "code",
   "execution_count": 51,
   "id": "30780a58",
   "metadata": {},
   "outputs": [
    {
     "name": "stdout",
     "output_type": "stream",
     "text": [
      "ICICI has 10000 offers and plans\n",
      "ICICI gives a loan interest of 6%\n",
      "ICICI gives EMI of 1.5 %\n"
     ]
    }
   ],
   "source": [
    "icici.offers()\n",
    "icici.loanInterest(6)\n",
    "icici.emiInterest(1.5)"
   ]
  },
  {
   "cell_type": "code",
   "execution_count": 52,
   "id": "d1478b68",
   "metadata": {
    "collapsed": true
   },
   "outputs": [
    {
     "name": "stdout",
     "output_type": "stream",
     "text": [
      "Help on class Bank in module __main__:\n",
      "\n",
      "class Bank(builtins.object)\n",
      " |  Methods defined here:\n",
      " |  \n",
      " |  emiInterest(ref, emi)\n",
      " |  \n",
      " |  loanInterest(ref, intretRate)\n",
      " |  \n",
      " |  offers(ref)\n",
      " |  \n",
      " |  ----------------------------------------------------------------------\n",
      " |  Data descriptors defined here:\n",
      " |  \n",
      " |  __dict__\n",
      " |      dictionary for instance variables (if defined)\n",
      " |  \n",
      " |  __weakref__\n",
      " |      list of weak references to the object (if defined)\n",
      " |  \n",
      " |  ----------------------------------------------------------------------\n",
      " |  Data and other attributes defined here:\n",
      " |  \n",
      " |  __annotations__ = {}\n",
      " |  \n",
      " |  bName = 'Bank of Andaman'\n",
      " |  \n",
      " |  bOffers = 150\n",
      "\n"
     ]
    }
   ],
   "source": [
    "help(Bank)"
   ]
  },
  {
   "cell_type": "code",
   "execution_count": 57,
   "id": "abf68cf9",
   "metadata": {
    "collapsed": true
   },
   "outputs": [
    {
     "data": {
      "text/plain": [
       "['__class__',\n",
       " '__delattr__',\n",
       " '__dict__',\n",
       " '__dir__',\n",
       " '__doc__',\n",
       " '__eq__',\n",
       " '__format__',\n",
       " '__ge__',\n",
       " '__getattribute__',\n",
       " '__gt__',\n",
       " '__hash__',\n",
       " '__init__',\n",
       " '__init_subclass__',\n",
       " '__le__',\n",
       " '__lt__',\n",
       " '__module__',\n",
       " '__ne__',\n",
       " '__new__',\n",
       " '__reduce__',\n",
       " '__reduce_ex__',\n",
       " '__repr__',\n",
       " '__setattr__',\n",
       " '__sizeof__',\n",
       " '__str__',\n",
       " '__subclasshook__',\n",
       " '__weakref__',\n",
       " 'bName',\n",
       " 'bOffers',\n",
       " 'emiInterest',\n",
       " 'loanInterest',\n",
       " 'offers']"
      ]
     },
     "execution_count": 57,
     "metadata": {},
     "output_type": "execute_result"
    }
   ],
   "source": [
    "dir(Bank)"
   ]
  },
  {
   "cell_type": "markdown",
   "id": "059ea637",
   "metadata": {},
   "source": [
    "### Below code is used in temp.py File which was created using spyder"
   ]
  },
  {
   "cell_type": "code",
   "execution_count": 56,
   "id": "b14e54ff",
   "metadata": {},
   "outputs": [
    {
     "name": "stdout",
     "output_type": "stream",
     "text": [
      "ICICI has 10000 offers and plans\n",
      "ICICI gives a loan interest of 6%\n",
      "ICICI gives EMI of 1.5 %\n",
      "State Bank of India has 1500 offers and plans\n",
      "State Bank of India gives a loan interest of 5%\n",
      "State Bank of India gives EMI of 2 %\n"
     ]
    }
   ],
   "source": [
    "class Bank:\n",
    "    '''\n",
    "    This class is for bank\n",
    "    where offers, loans interest and EMi are displayed.\n",
    "    '''\n",
    "    bName = \"Bank of Andaman\"\n",
    "    bOffers = 150\n",
    "    \n",
    "    def loanInterest(ref, intretRate):\n",
    "        '''\n",
    "        This displays the loan Interest\n",
    "        '''\n",
    "        print(f\"{ref.bName} gives a loan interest of {intretRate}%\")\n",
    "        \n",
    "    def emiInterest(ref, emi):\n",
    "        print(ref.bName, \"gives EMI of\", emi, \"%\")\n",
    "        \n",
    "    def offers(ref):\n",
    "        print(ref.bName, \"has\", ref.bOffers, \"offers and plans\")\n",
    "\n",
    "icici = Bank()\n",
    "icici.bName = \"ICICI\"\n",
    "icici.bOffers = 10000\n",
    "icici.offers()\n",
    "icici.loanInterest(6)\n",
    "icici.emiInterest(1.5)\n",
    "\n",
    "sbi = Bank()\n",
    "sbi.bName = \"State Bank of India\"\n",
    "sbi.bOffers = 1500\n",
    "sbi.offers()\n",
    "sbi.loanInterest(5)\n",
    "sbi.emiInterest(2)\n",
    "\n"
   ]
  },
  {
   "cell_type": "code",
   "execution_count": 55,
   "id": "703955f6",
   "metadata": {
    "collapsed": true
   },
   "outputs": [
    {
     "name": "stdout",
     "output_type": "stream",
     "text": [
      "Help on class Bank in module __main__:\n",
      "\n",
      "class Bank(builtins.object)\n",
      " |  This class is for bank\n",
      " |  where offers, loans interest and EMi are displayed.\n",
      " |  \n",
      " |  Methods defined here:\n",
      " |  \n",
      " |  emiInterest(ref, emi)\n",
      " |  \n",
      " |  loanInterest(ref, intretRate)\n",
      " |      This displays the loan Interest\n",
      " |  \n",
      " |  offers(ref)\n",
      " |  \n",
      " |  ----------------------------------------------------------------------\n",
      " |  Data descriptors defined here:\n",
      " |  \n",
      " |  __dict__\n",
      " |      dictionary for instance variables (if defined)\n",
      " |  \n",
      " |  __weakref__\n",
      " |      list of weak references to the object (if defined)\n",
      " |  \n",
      " |  ----------------------------------------------------------------------\n",
      " |  Data and other attributes defined here:\n",
      " |  \n",
      " |  bName = 'Bank of Andaman'\n",
      " |  \n",
      " |  bOffers = 150\n",
      "\n"
     ]
    }
   ],
   "source": [
    "help(Bank)"
   ]
  },
  {
   "cell_type": "markdown",
   "id": "03e352ad",
   "metadata": {},
   "source": [
    "# Constructor and Destructor in Python\n",
    "   - Constructor does construction of memory in object.\n",
    "   - Destructor does removing memory from the object."
   ]
  },
  {
   "cell_type": "code",
   "execution_count": 1,
   "id": "ebd6c145",
   "metadata": {},
   "outputs": [],
   "source": [
    "class MemoryDemo:\n",
    "    # use two _ for construtor and destructor. \n",
    "    # Most programs use self as reference but any thing can be used\n",
    "    def __init__(self):\n",
    "        print(\"Memory Loaded in Object...\")\n",
    "    def show(self):\n",
    "        print(\"It is a normal function\")\n",
    "    def __del__(self):\n",
    "        print(\"Object Deleted from memory \")"
   ]
  },
  {
   "cell_type": "code",
   "execution_count": 2,
   "id": "426e1d22",
   "metadata": {},
   "outputs": [],
   "source": [
    "m1 = MemoryDemo"
   ]
  },
  {
   "cell_type": "code",
   "execution_count": 3,
   "id": "bf033890",
   "metadata": {},
   "outputs": [
    {
     "name": "stdout",
     "output_type": "stream",
     "text": [
      "Memory Loaded in Object...\n"
     ]
    }
   ],
   "source": [
    "m1 = MemoryDemo()"
   ]
  },
  {
   "cell_type": "code",
   "execution_count": 3,
   "id": "2036a362",
   "metadata": {},
   "outputs": [
    {
     "name": "stdout",
     "output_type": "stream",
     "text": [
      "Memory Loaded in Object...\n"
     ]
    }
   ],
   "source": [
    "m1 = MemoryDemo() # Here old memory m1 gets deleted and new one is created"
   ]
  },
  {
   "cell_type": "code",
   "execution_count": 4,
   "id": "2c0316fd",
   "metadata": {},
   "outputs": [
    {
     "name": "stdout",
     "output_type": "stream",
     "text": [
      "Memory Loaded in Object...\n",
      "Object Deleted from memory \n"
     ]
    }
   ],
   "source": [
    "m1 = MemoryDemo()"
   ]
  },
  {
   "cell_type": "code",
   "execution_count": 5,
   "id": "8d366e86",
   "metadata": {},
   "outputs": [
    {
     "name": "stdout",
     "output_type": "stream",
     "text": [
      "Object Deleted from memory \n"
     ]
    }
   ],
   "source": [
    "m1.__del__()"
   ]
  },
  {
   "cell_type": "code",
   "execution_count": 6,
   "id": "1cbfb216",
   "metadata": {},
   "outputs": [],
   "source": [
    "# above one does not delete it permanently"
   ]
  },
  {
   "cell_type": "code",
   "execution_count": 7,
   "id": "058d8981",
   "metadata": {},
   "outputs": [
    {
     "data": {
      "text/plain": [
       "<__main__.MemoryDemo at 0x2d33a59bf70>"
      ]
     },
     "execution_count": 7,
     "metadata": {},
     "output_type": "execute_result"
    }
   ],
   "source": [
    "m1"
   ]
  },
  {
   "cell_type": "code",
   "execution_count": 8,
   "id": "af0367b4",
   "metadata": {},
   "outputs": [],
   "source": [
    "del m1 # use del keyword to delete object or anything permanently"
   ]
  },
  {
   "cell_type": "code",
   "execution_count": 9,
   "id": "aaadab61",
   "metadata": {},
   "outputs": [
    {
     "ename": "NameError",
     "evalue": "name 'm1' is not defined",
     "output_type": "error",
     "traceback": [
      "\u001b[1;31m---------------------------------------------------------------------------\u001b[0m",
      "\u001b[1;31mNameError\u001b[0m                                 Traceback (most recent call last)",
      "Input \u001b[1;32mIn [9]\u001b[0m, in \u001b[0;36m<cell line: 1>\u001b[1;34m()\u001b[0m\n\u001b[1;32m----> 1\u001b[0m \u001b[43mm1\u001b[49m\n",
      "\u001b[1;31mNameError\u001b[0m: name 'm1' is not defined"
     ]
    }
   ],
   "source": [
    "m1"
   ]
  },
  {
   "cell_type": "code",
   "execution_count": 10,
   "id": "08671678",
   "metadata": {},
   "outputs": [
    {
     "name": "stdout",
     "output_type": "stream",
     "text": [
      "Memory Loaded in Object...\n"
     ]
    }
   ],
   "source": [
    "m1 = MemoryDemo()"
   ]
  },
  {
   "cell_type": "code",
   "execution_count": 12,
   "id": "fa985130",
   "metadata": {},
   "outputs": [
    {
     "name": "stdout",
     "output_type": "stream",
     "text": [
      "Memory Loaded in Object...\n",
      "Object Deleted from memory \n"
     ]
    }
   ],
   "source": [
    "m1 = MemoryDemo()"
   ]
  },
  {
   "cell_type": "code",
   "execution_count": 14,
   "id": "765bf88b",
   "metadata": {},
   "outputs": [
    {
     "name": "stdout",
     "output_type": "stream",
     "text": [
      "Memory Loaded in Object...\n",
      "Object Deleted from memory \n"
     ]
    }
   ],
   "source": [
    "m2 = MemoryDemo()"
   ]
  },
  {
   "cell_type": "code",
   "execution_count": 15,
   "id": "b62560a1",
   "metadata": {},
   "outputs": [
    {
     "name": "stdout",
     "output_type": "stream",
     "text": [
      "It is a normal function\n",
      "It is a normal function\n"
     ]
    }
   ],
   "source": [
    "m1.show()\n",
    "m2.show()"
   ]
  },
  {
   "cell_type": "code",
   "execution_count": 16,
   "id": "d04ce6fd",
   "metadata": {},
   "outputs": [],
   "source": [
    "del m1, m2 # after using object delete object from memory. Good Practise"
   ]
  },
  {
   "cell_type": "markdown",
   "id": "b0bc4986",
   "metadata": {},
   "source": [
    "### using constructor for dynamic Input"
   ]
  },
  {
   "cell_type": "code",
   "execution_count": 18,
   "id": "c9fd45cf",
   "metadata": {},
   "outputs": [],
   "source": [
    "class IPL:\n",
    "    # we can declare state(Variable) in class or inside constructor.\n",
    "    player = \"\"\n",
    "\n",
    "    def __init__(self):\n",
    "        self.player = input(\"Enter a player name \")\n",
    "        self.team = input(\"Enter a Team name \")\n",
    "    \n",
    "    def showData(self):\n",
    "        print(f\"{self.player} is in {self.team}\")"
   ]
  },
  {
   "cell_type": "code",
   "execution_count": 19,
   "id": "65c9dd56",
   "metadata": {},
   "outputs": [
    {
     "name": "stdout",
     "output_type": "stream",
     "text": [
      "Enter a player namePlayer\n",
      "Enter a Team nameTeam\n"
     ]
    }
   ],
   "source": [
    "i1 = IPL()"
   ]
  },
  {
   "cell_type": "code",
   "execution_count": 20,
   "id": "cff07d4c",
   "metadata": {},
   "outputs": [
    {
     "name": "stdout",
     "output_type": "stream",
     "text": [
      "Enter a player nameDhoni\n",
      "Enter a Team nameIndia\n"
     ]
    }
   ],
   "source": [
    "i2 = IPL()\n"
   ]
  },
  {
   "cell_type": "code",
   "execution_count": 21,
   "id": "99986803",
   "metadata": {},
   "outputs": [
    {
     "name": "stdout",
     "output_type": "stream",
     "text": [
      "Player is in Team\n"
     ]
    }
   ],
   "source": [
    "i1.showData()"
   ]
  },
  {
   "cell_type": "code",
   "execution_count": 22,
   "id": "96e83820",
   "metadata": {},
   "outputs": [
    {
     "name": "stdout",
     "output_type": "stream",
     "text": [
      "Dhoni is in India\n"
     ]
    }
   ],
   "source": [
    "i2.showData()"
   ]
  },
  {
   "cell_type": "markdown",
   "id": "557d0766",
   "metadata": {},
   "source": [
    "### Use object as a variable"
   ]
  },
  {
   "cell_type": "code",
   "execution_count": 46,
   "id": "9441668c",
   "metadata": {},
   "outputs": [],
   "source": [
    "class Demo:\n",
    "    def __init__(self, a):\n",
    "        self.x = a\n",
    "        # return str(self.x)\n",
    "    # use below code to return the value instead of address\n",
    "    def __str__(self):\n",
    "        return str(self.x)\n",
    "    def __add__(self, other):\n",
    "        c = self.x + other.x\n",
    "        return c\n"
   ]
  },
  {
   "cell_type": "code",
   "execution_count": 47,
   "id": "6b54418f",
   "metadata": {},
   "outputs": [],
   "source": [
    "d1 = Demo(11)"
   ]
  },
  {
   "cell_type": "code",
   "execution_count": 48,
   "id": "e9fda626",
   "metadata": {},
   "outputs": [
    {
     "name": "stdout",
     "output_type": "stream",
     "text": [
      "11\n"
     ]
    }
   ],
   "source": [
    "print(d1)"
   ]
  },
  {
   "cell_type": "code",
   "execution_count": 49,
   "id": "0e3af049",
   "metadata": {},
   "outputs": [
    {
     "data": {
      "text/plain": [
       "11"
      ]
     },
     "execution_count": 49,
     "metadata": {},
     "output_type": "execute_result"
    }
   ],
   "source": [
    "d1.x"
   ]
  },
  {
   "cell_type": "code",
   "execution_count": 50,
   "id": "9d8a113b",
   "metadata": {},
   "outputs": [],
   "source": [
    "d2 = Demo(18)"
   ]
  },
  {
   "cell_type": "code",
   "execution_count": 45,
   "id": "ee5f38fb",
   "metadata": {},
   "outputs": [
    {
     "ename": "TypeError",
     "evalue": "unsupported operand type(s) for +: 'Demo' and 'Demo'",
     "output_type": "error",
     "traceback": [
      "\u001b[1;31m---------------------------------------------------------------------------\u001b[0m",
      "\u001b[1;31mTypeError\u001b[0m                                 Traceback (most recent call last)",
      "Input \u001b[1;32mIn [45]\u001b[0m, in \u001b[0;36m<cell line: 1>\u001b[1;34m()\u001b[0m\n\u001b[1;32m----> 1\u001b[0m \u001b[43md1\u001b[49m\u001b[38;5;241;43m+\u001b[39;49m\u001b[43md2\u001b[49m\n",
      "\u001b[1;31mTypeError\u001b[0m: unsupported operand type(s) for +: 'Demo' and 'Demo'"
     ]
    }
   ],
   "source": [
    "d1+d2"
   ]
  },
  {
   "cell_type": "code",
   "execution_count": 51,
   "id": "4e33c6ef",
   "metadata": {},
   "outputs": [
    {
     "data": {
      "text/plain": [
       "29"
      ]
     },
     "execution_count": 51,
     "metadata": {},
     "output_type": "execute_result"
    }
   ],
   "source": [
    "d1+d2"
   ]
  },
  {
   "cell_type": "markdown",
   "id": "08043c4b",
   "metadata": {},
   "source": [
    "### https://www.geeksforgeeks.org/operator-overloading-in-python/\n",
    "### check method overloading opertaors in python"
   ]
  },
  {
   "cell_type": "code",
   "execution_count": 53,
   "id": "8c4962f3",
   "metadata": {},
   "outputs": [],
   "source": [
    "# Example for adding two complex numbers.\n",
    "class Add:\n",
    "    def __init__(self, r, i):\n",
    "        self.a = r\n",
    "        self.b = i\n",
    "    def __add__(self, z):\n",
    "        r = self.a + z.a\n",
    "        i = self.b + z.b\n",
    "        return r, i"
   ]
  },
  {
   "cell_type": "code",
   "execution_count": 54,
   "id": "d29fce88",
   "metadata": {},
   "outputs": [],
   "source": [
    "a1 = Add(10, 20)\n",
    "a2 = Add(50, 15)"
   ]
  },
  {
   "cell_type": "code",
   "execution_count": 60,
   "id": "be67d97c",
   "metadata": {},
   "outputs": [
    {
     "data": {
      "text/plain": [
       "(60, 35)"
      ]
     },
     "execution_count": 60,
     "metadata": {},
     "output_type": "execute_result"
    }
   ],
   "source": [
    "a1+a2"
   ]
  },
  {
   "cell_type": "markdown",
   "id": "8ce6d673",
   "metadata": {},
   "source": [
    "- We can use n number of magical methods"
   ]
  },
  {
   "cell_type": "code",
   "execution_count": 67,
   "id": "57447a58",
   "metadata": {},
   "outputs": [],
   "source": [
    "# compare two objects. less than or greater than\n",
    "class Compare:\n",
    "    def __init__(self, o1):\n",
    "        self.o1 = o1\n",
    "    def __gt__(self, o2):\n",
    "        return self.o1 > o2.o1\n",
    "    def __lt__(self, o2):\n",
    "        return self.o1 < o2.o1\n",
    "    def __le__(self, o2):\n",
    "        return self.o1 <= o2.o1"
   ]
  },
  {
   "cell_type": "code",
   "execution_count": 68,
   "id": "c8949d90",
   "metadata": {},
   "outputs": [],
   "source": [
    "c1 = Compare(10)\n",
    "c2 = Compare(18)\n"
   ]
  },
  {
   "cell_type": "code",
   "execution_count": 69,
   "id": "3a20b894",
   "metadata": {},
   "outputs": [
    {
     "data": {
      "text/plain": [
       "False"
      ]
     },
     "execution_count": 69,
     "metadata": {},
     "output_type": "execute_result"
    }
   ],
   "source": [
    "c1 > c2"
   ]
  },
  {
   "cell_type": "code",
   "execution_count": 70,
   "id": "28373eb3",
   "metadata": {},
   "outputs": [
    {
     "data": {
      "text/plain": [
       "True"
      ]
     },
     "execution_count": 70,
     "metadata": {},
     "output_type": "execute_result"
    }
   ],
   "source": [
    "c1 < c2"
   ]
  },
  {
   "cell_type": "code",
   "execution_count": 71,
   "id": "9026c548",
   "metadata": {},
   "outputs": [],
   "source": [
    "c1 = Compare(0)\n",
    "c2 = Compare(0)"
   ]
  },
  {
   "cell_type": "code",
   "execution_count": 72,
   "id": "6d744497",
   "metadata": {},
   "outputs": [
    {
     "data": {
      "text/plain": [
       "False"
      ]
     },
     "execution_count": 72,
     "metadata": {},
     "output_type": "execute_result"
    }
   ],
   "source": [
    "c1 > c2"
   ]
  },
  {
   "cell_type": "code",
   "execution_count": 73,
   "id": "c5571b4b",
   "metadata": {},
   "outputs": [
    {
     "data": {
      "text/plain": [
       "False"
      ]
     },
     "execution_count": 73,
     "metadata": {},
     "output_type": "execute_result"
    }
   ],
   "source": [
    "c1 < c2"
   ]
  },
  {
   "cell_type": "code",
   "execution_count": 75,
   "id": "4b9e532d",
   "metadata": {},
   "outputs": [
    {
     "data": {
      "text/plain": [
       "True"
      ]
     },
     "execution_count": 75,
     "metadata": {},
     "output_type": "execute_result"
    }
   ],
   "source": [
    " c1 <= c2"
   ]
  },
  {
   "cell_type": "code",
   "execution_count": 76,
   "id": "86849520",
   "metadata": {},
   "outputs": [
    {
     "data": {
      "text/plain": [
       "(34+0j)"
      ]
     },
     "execution_count": 76,
     "metadata": {},
     "output_type": "execute_result"
    }
   ],
   "source": [
    "complex(5, 3) * complex(5, -3)"
   ]
  },
  {
   "cell_type": "code",
   "execution_count": 77,
   "id": "ddaa9c72",
   "metadata": {},
   "outputs": [],
   "source": [
    "# Write a program to multiply two complex number\n",
    "class MulComplx:\n",
    "    def __init__(self, r, i):\n",
    "        self.rNum = r\n",
    "        self.iNum = i\n",
    "    def __mul__(self, cmplx2):\n",
    "        return complex(self.rNum, self.iNum) * complex(cmplx2.rNum, cmplx2.iNum)"
   ]
  },
  {
   "cell_type": "code",
   "execution_count": 78,
   "id": "ebcfc424",
   "metadata": {},
   "outputs": [],
   "source": [
    "cmplx1 = MulComplx(5, 3)  \n",
    "cmplx2 = MulComplx(5, -3)"
   ]
  },
  {
   "cell_type": "code",
   "execution_count": 79,
   "id": "66a72c11",
   "metadata": {},
   "outputs": [
    {
     "data": {
      "text/plain": [
       "(34+0j)"
      ]
     },
     "execution_count": 79,
     "metadata": {},
     "output_type": "execute_result"
    }
   ],
   "source": [
    "cmplx1 * cmplx2"
   ]
  },
  {
   "cell_type": "code",
   "execution_count": 85,
   "id": "6d97b3e2",
   "metadata": {},
   "outputs": [],
   "source": [
    "class MulComplx:\n",
    "    def __init__(self):\n",
    "        self.rNum = complex(input(\"Enter real part\"))\n",
    "        self.iNum = complex(input(\"Enter imaginary part\"))\n",
    "    def __mul__(self, cmplx2):\n",
    "        return complex(self.rNum, self.iNum) * complex(cmplx2.rNum, cmplx2.iNum)"
   ]
  },
  {
   "cell_type": "code",
   "execution_count": 82,
   "id": "ad4f2cc3",
   "metadata": {},
   "outputs": [
    {
     "name": "stdout",
     "output_type": "stream",
     "text": [
      "Enter real part5\n",
      "Enter imaginary part3\n",
      "Help on MulComplx in module __main__ object:\n",
      "\n",
      "class MulComplx(builtins.object)\n",
      " |  Methods defined here:\n",
      " |  \n",
      " |  __init__(self)\n",
      " |      Initialize self.  See help(type(self)) for accurate signature.\n",
      " |  \n",
      " |  __mul__(self, cmplx2)\n",
      " |  \n",
      " |  ----------------------------------------------------------------------\n",
      " |  Data descriptors defined here:\n",
      " |  \n",
      " |  __dict__\n",
      " |      dictionary for instance variables (if defined)\n",
      " |  \n",
      " |  __weakref__\n",
      " |      list of weak references to the object (if defined)\n",
      "\n"
     ]
    }
   ],
   "source": [
    "help(MulComplx())"
   ]
  },
  {
   "cell_type": "code",
   "execution_count": 86,
   "id": "03e97dce",
   "metadata": {},
   "outputs": [
    {
     "name": "stdout",
     "output_type": "stream",
     "text": [
      "Enter real part5\n",
      "Enter imaginary part3\n",
      "Enter real part15\n",
      "Enter imaginary part30\n"
     ]
    }
   ],
   "source": [
    "mulCmplx1 = MulComplx()\n",
    "mulCmplx2 = MulComplx()"
   ]
  },
  {
   "cell_type": "code",
   "execution_count": 87,
   "id": "565a25c4",
   "metadata": {},
   "outputs": [
    {
     "data": {
      "text/plain": [
       "(-15+195j)"
      ]
     },
     "execution_count": 87,
     "metadata": {},
     "output_type": "execute_result"
    }
   ],
   "source": [
    "mulCmplx1 * mulCmplx2"
   ]
  },
  {
   "cell_type": "code",
   "execution_count": null,
   "id": "a3468e2a",
   "metadata": {},
   "outputs": [],
   "source": []
  }
 ],
 "metadata": {
  "kernelspec": {
   "display_name": "Python 3 (ipykernel)",
   "language": "python",
   "name": "python3"
  },
  "language_info": {
   "codemirror_mode": {
    "name": "ipython",
    "version": 3
   },
   "file_extension": ".py",
   "mimetype": "text/x-python",
   "name": "python",
   "nbconvert_exporter": "python",
   "pygments_lexer": "ipython3",
   "version": "3.9.12"
  }
 },
 "nbformat": 4,
 "nbformat_minor": 5
}
