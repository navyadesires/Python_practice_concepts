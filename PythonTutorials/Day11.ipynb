{
 "cells": [
  {
   "cell_type": "markdown",
   "id": "86d71114",
   "metadata": {},
   "source": [
    "### Data hiding"
   ]
  },
  {
   "cell_type": "code",
   "execution_count": 1,
   "id": "f09d9746",
   "metadata": {},
   "outputs": [],
   "source": [
    "class Hide:\n",
    "    a = 10\n",
    "    __b = 20"
   ]
  },
  {
   "cell_type": "code",
   "execution_count": 4,
   "id": "ab70cfba",
   "metadata": {},
   "outputs": [],
   "source": [
    "h1 = Hide()"
   ]
  },
  {
   "cell_type": "code",
   "execution_count": 5,
   "id": "4930193e",
   "metadata": {},
   "outputs": [
    {
     "data": {
      "text/plain": [
       "10"
      ]
     },
     "execution_count": 5,
     "metadata": {},
     "output_type": "execute_result"
    }
   ],
   "source": [
    "h1.a"
   ]
  },
  {
   "cell_type": "code",
   "execution_count": 6,
   "id": "ad4ebdd3",
   "metadata": {},
   "outputs": [
    {
     "ename": "NameError",
     "evalue": "name 'h1__b' is not defined",
     "output_type": "error",
     "traceback": [
      "\u001b[1;31m---------------------------------------------------------------------------\u001b[0m",
      "\u001b[1;31mNameError\u001b[0m                                 Traceback (most recent call last)",
      "Input \u001b[1;32mIn [6]\u001b[0m, in \u001b[0;36m<cell line: 1>\u001b[1;34m()\u001b[0m\n\u001b[1;32m----> 1\u001b[0m \u001b[43mh1__b\u001b[49m\n",
      "\u001b[1;31mNameError\u001b[0m: name 'h1__b' is not defined"
     ]
    }
   ],
   "source": [
    "h1__b"
   ]
  },
  {
   "cell_type": "code",
   "execution_count": 7,
   "id": "a54cb25a",
   "metadata": {},
   "outputs": [],
   "source": [
    "#__variable is a hidden variable in phython"
   ]
  },
  {
   "cell_type": "code",
   "execution_count": 8,
   "id": "a3aaa0b2",
   "metadata": {},
   "outputs": [],
   "source": [
    "# How to get dat of hidden variable"
   ]
  },
  {
   "cell_type": "code",
   "execution_count": 10,
   "id": "53aedb8b",
   "metadata": {},
   "outputs": [
    {
     "data": {
      "text/plain": [
       "20"
      ]
     },
     "execution_count": 10,
     "metadata": {},
     "output_type": "execute_result"
    }
   ],
   "source": [
    "h1._Hide__b"
   ]
  },
  {
   "cell_type": "code",
   "execution_count": 11,
   "id": "f9d74dac",
   "metadata": {},
   "outputs": [],
   "source": [
    "# Above is the first way of getting hidden variable data out of the class"
   ]
  },
  {
   "cell_type": "code",
   "execution_count": 16,
   "id": "7223b752",
   "metadata": {},
   "outputs": [],
   "source": [
    "class Hello:\n",
    "    __pin = 1234\n",
    "    def demo(self):\n",
    "        print(self.__pin)"
   ]
  },
  {
   "cell_type": "code",
   "execution_count": 20,
   "id": "4babbc9f",
   "metadata": {},
   "outputs": [],
   "source": [
    "h2= Hello()"
   ]
  },
  {
   "cell_type": "code",
   "execution_count": 22,
   "id": "4ddef8fd",
   "metadata": {},
   "outputs": [
    {
     "name": "stdout",
     "output_type": "stream",
     "text": [
      "1234\n"
     ]
    }
   ],
   "source": [
    "h2.demo()"
   ]
  },
  {
   "cell_type": "markdown",
   "id": "06f7c4bb",
   "metadata": {},
   "source": [
    "### Above is the second way of getting the hidden data"
   ]
  },
  {
   "cell_type": "markdown",
   "id": "2bcf5e6c",
   "metadata": {},
   "source": [
    "## static function or method in Python\n",
    "   "
   ]
  },
  {
   "cell_type": "code",
   "execution_count": 38,
   "id": "a3572907",
   "metadata": {},
   "outputs": [],
   "source": [
    "class Friday:\n",
    "    def demo(self):\n",
    "        print(\"I am in Friday class\")\n",
    "    @staticmethod\n",
    "    def Ramya():\n",
    "        print(\"i am a function called with out object\")\n",
    "    @staticmethod\n",
    "    def checkMyAge(age):\n",
    "        if age>30:\n",
    "            print(\"you are Genius\")\n",
    "        else:\n",
    "            print(\"You are Kid\")"
   ]
  },
  {
   "cell_type": "code",
   "execution_count": 39,
   "id": "0e93cfad",
   "metadata": {},
   "outputs": [
    {
     "ename": "TypeError",
     "evalue": "demo() missing 1 required positional argument: 'self'",
     "output_type": "error",
     "traceback": [
      "\u001b[1;31m---------------------------------------------------------------------------\u001b[0m",
      "\u001b[1;31mTypeError\u001b[0m                                 Traceback (most recent call last)",
      "Input \u001b[1;32mIn [39]\u001b[0m, in \u001b[0;36m<cell line: 1>\u001b[1;34m()\u001b[0m\n\u001b[1;32m----> 1\u001b[0m \u001b[43mFriday\u001b[49m\u001b[38;5;241;43m.\u001b[39;49m\u001b[43mdemo\u001b[49m\u001b[43m(\u001b[49m\u001b[43m)\u001b[49m\n",
      "\u001b[1;31mTypeError\u001b[0m: demo() missing 1 required positional argument: 'self'"
     ]
    }
   ],
   "source": [
    "Friday.demo() #Compulsory we have to use the object to call function of the class"
   ]
  },
  {
   "cell_type": "code",
   "execution_count": 40,
   "id": "bb300ba9",
   "metadata": {},
   "outputs": [],
   "source": [
    "f1 = Friday()"
   ]
  },
  {
   "cell_type": "code",
   "execution_count": 41,
   "id": "ab0cfd48",
   "metadata": {},
   "outputs": [
    {
     "name": "stdout",
     "output_type": "stream",
     "text": [
      "I am in Friday class\n"
     ]
    }
   ],
   "source": [
    "f1.demo()"
   ]
  },
  {
   "cell_type": "code",
   "execution_count": 42,
   "id": "d8c235d5",
   "metadata": {},
   "outputs": [
    {
     "name": "stdout",
     "output_type": "stream",
     "text": [
      "i am a function called with out object\n"
     ]
    }
   ],
   "source": [
    "Friday.Ramya()"
   ]
  },
  {
   "cell_type": "code",
   "execution_count": 47,
   "id": "fee99055",
   "metadata": {},
   "outputs": [
    {
     "name": "stdout",
     "output_type": "stream",
     "text": [
      "You are Kid\n"
     ]
    }
   ],
   "source": [
    "Friday.checkMyAge(24)"
   ]
  },
  {
   "cell_type": "markdown",
   "id": "0b7ecfc9",
   "metadata": {},
   "source": [
    "## Class method in python"
   ]
  },
  {
   "cell_type": "code",
   "execution_count": 61,
   "id": "a334c1ce",
   "metadata": {},
   "outputs": [],
   "source": [
    "class Saturday:\n",
    "    salary = 70000\n",
    "    def demo(self, m):\n",
    "        salary = m\n",
    "        print(\"I am in Saturday class\", salary)"
   ]
  },
  {
   "cell_type": "code",
   "execution_count": 62,
   "id": "f473b653",
   "metadata": {},
   "outputs": [
    {
     "name": "stdout",
     "output_type": "stream",
     "text": [
      "I am in Saturday class 40\n"
     ]
    }
   ],
   "source": [
    "s1 = Saturday()\n",
    "s1.demo(40)"
   ]
  },
  {
   "cell_type": "code",
   "execution_count": 63,
   "id": "240c7659",
   "metadata": {},
   "outputs": [
    {
     "data": {
      "text/plain": [
       "70000"
      ]
     },
     "execution_count": 63,
     "metadata": {},
     "output_type": "execute_result"
    }
   ],
   "source": [
    "s1.salary"
   ]
  },
  {
   "cell_type": "code",
   "execution_count": 64,
   "id": "743b6655",
   "metadata": {},
   "outputs": [],
   "source": [
    "Saturday.demo_demo = classmethod(Saturday.demo)"
   ]
  },
  {
   "cell_type": "code",
   "execution_count": 65,
   "id": "3b2f3989",
   "metadata": {},
   "outputs": [
    {
     "name": "stdout",
     "output_type": "stream",
     "text": [
      "I am in Saturday class 45000\n"
     ]
    }
   ],
   "source": [
    "Saturday.demo_demo(45000)"
   ]
  },
  {
   "cell_type": "code",
   "execution_count": 66,
   "id": "632fa67f",
   "metadata": {},
   "outputs": [
    {
     "data": {
      "text/plain": [
       "70000"
      ]
     },
     "execution_count": 66,
     "metadata": {},
     "output_type": "execute_result"
    }
   ],
   "source": [
    "s1.salary"
   ]
  },
  {
   "cell_type": "code",
   "execution_count": 68,
   "id": "cac71e98",
   "metadata": {},
   "outputs": [],
   "source": [
    "from datetime import date\n",
    "class Person:\n",
    "    def __init__(self,age):\n",
    "        self.age = age\n",
    "    @classmethod\n",
    "    def computeAge(cls, year):\n",
    "        return cls(date.today().year-year)\n",
    "    def showAge(self):\n",
    "        print(self.age)"
   ]
  },
  {
   "cell_type": "code",
   "execution_count": 77,
   "id": "15cd6078",
   "metadata": {},
   "outputs": [
    {
     "data": {
      "text/plain": [
       "30"
      ]
     },
     "execution_count": 77,
     "metadata": {},
     "output_type": "execute_result"
    }
   ],
   "source": [
    "p1 = Person(30)\n",
    "p1.age"
   ]
  },
  {
   "cell_type": "code",
   "execution_count": 81,
   "id": "42eac196",
   "metadata": {},
   "outputs": [],
   "source": [
    "var =p1.computeAge(1998)"
   ]
  },
  {
   "cell_type": "code",
   "execution_count": 82,
   "id": "064e734d",
   "metadata": {},
   "outputs": [
    {
     "name": "stdout",
     "output_type": "stream",
     "text": [
      "24\n"
     ]
    }
   ],
   "source": [
    "var.showAge()"
   ]
  },
  {
   "cell_type": "code",
   "execution_count": 83,
   "id": "f7a23a97",
   "metadata": {},
   "outputs": [
    {
     "data": {
      "text/plain": [
       "30"
      ]
     },
     "execution_count": 83,
     "metadata": {},
     "output_type": "execute_result"
    }
   ],
   "source": [
    "p1.age"
   ]
  },
  {
   "cell_type": "code",
   "execution_count": 84,
   "id": "53b645b2",
   "metadata": {},
   "outputs": [],
   "source": [
    "class Student:\n",
    "    company = \"Mouritech\"\n",
    "    @classmethod\n",
    "    def change_company(cls, c):\n",
    "        cls.company = c"
   ]
  },
  {
   "cell_type": "code",
   "execution_count": 85,
   "id": "98b73658",
   "metadata": {},
   "outputs": [],
   "source": [
    "s1 = Student()"
   ]
  },
  {
   "cell_type": "code",
   "execution_count": 86,
   "id": "3bde02d1",
   "metadata": {},
   "outputs": [
    {
     "data": {
      "text/plain": [
       "'Mouritech'"
      ]
     },
     "execution_count": 86,
     "metadata": {},
     "output_type": "execute_result"
    }
   ],
   "source": [
    "s1.company"
   ]
  },
  {
   "cell_type": "code",
   "execution_count": 87,
   "id": "408c4c42",
   "metadata": {},
   "outputs": [],
   "source": [
    "s1.change_company(\"TCS\")"
   ]
  },
  {
   "cell_type": "code",
   "execution_count": 88,
   "id": "8dbadb00",
   "metadata": {},
   "outputs": [
    {
     "data": {
      "text/plain": [
       "'TCS'"
      ]
     },
     "execution_count": 88,
     "metadata": {},
     "output_type": "execute_result"
    }
   ],
   "source": [
    "s1.company"
   ]
  },
  {
   "cell_type": "code",
   "execution_count": 89,
   "id": "35e4f9e2",
   "metadata": {},
   "outputs": [],
   "source": [
    "class Student:\n",
    "    company = \"Mouritech\"\n",
    "    def Sun(self,c):\n",
    "        self.company = c\n",
    "    @classmethod\n",
    "    def change_company(cls, c):\n",
    "        cls.company = c"
   ]
  },
  {
   "cell_type": "code",
   "execution_count": 90,
   "id": "e523eeca",
   "metadata": {},
   "outputs": [],
   "source": [
    "s1 = Student()\n",
    "s2 = Student()"
   ]
  },
  {
   "cell_type": "code",
   "execution_count": 91,
   "id": "0a2a9a34",
   "metadata": {},
   "outputs": [
    {
     "data": {
      "text/plain": [
       "'Mouritech'"
      ]
     },
     "execution_count": 91,
     "metadata": {},
     "output_type": "execute_result"
    }
   ],
   "source": [
    "s1.company"
   ]
  },
  {
   "cell_type": "code",
   "execution_count": 92,
   "id": "b4876bf4",
   "metadata": {},
   "outputs": [
    {
     "data": {
      "text/plain": [
       "'Mouritech'"
      ]
     },
     "execution_count": 92,
     "metadata": {},
     "output_type": "execute_result"
    }
   ],
   "source": [
    "s2.company"
   ]
  },
  {
   "cell_type": "code",
   "execution_count": 93,
   "id": "cf331936",
   "metadata": {},
   "outputs": [],
   "source": [
    "s1.Sun(\"TCS\")"
   ]
  },
  {
   "cell_type": "code",
   "execution_count": 94,
   "id": "05e095c2",
   "metadata": {},
   "outputs": [
    {
     "data": {
      "text/plain": [
       "'TCS'"
      ]
     },
     "execution_count": 94,
     "metadata": {},
     "output_type": "execute_result"
    }
   ],
   "source": [
    "s1.company"
   ]
  },
  {
   "cell_type": "code",
   "execution_count": 95,
   "id": "e3c2e412",
   "metadata": {},
   "outputs": [
    {
     "data": {
      "text/plain": [
       "'Mouritech'"
      ]
     },
     "execution_count": 95,
     "metadata": {},
     "output_type": "execute_result"
    }
   ],
   "source": [
    "s2.company"
   ]
  },
  {
   "cell_type": "code",
   "execution_count": 96,
   "id": "c3904814",
   "metadata": {},
   "outputs": [],
   "source": [
    "s1.change_company(\"capgemini\")"
   ]
  },
  {
   "cell_type": "code",
   "execution_count": 97,
   "id": "b363e91e",
   "metadata": {},
   "outputs": [
    {
     "data": {
      "text/plain": [
       "'TCS'"
      ]
     },
     "execution_count": 97,
     "metadata": {},
     "output_type": "execute_result"
    }
   ],
   "source": [
    "s1.company"
   ]
  },
  {
   "cell_type": "code",
   "execution_count": 98,
   "id": "e06da451",
   "metadata": {},
   "outputs": [
    {
     "data": {
      "text/plain": [
       "'capgemini'"
      ]
     },
     "execution_count": 98,
     "metadata": {},
     "output_type": "execute_result"
    }
   ],
   "source": [
    "s2.company"
   ]
  },
  {
   "cell_type": "code",
   "execution_count": 100,
   "id": "6adc0eb8",
   "metadata": {},
   "outputs": [
    {
     "data": {
      "text/plain": [
       "'capgemini'"
      ]
     },
     "execution_count": 100,
     "metadata": {},
     "output_type": "execute_result"
    }
   ],
   "source": [
    "s3 = Student()\n",
    "s2.company"
   ]
  },
  {
   "cell_type": "code",
   "execution_count": 101,
   "id": "cf182301",
   "metadata": {},
   "outputs": [],
   "source": [
    "class Student:\n",
    "    company = \"Mouritech\"\n",
    "    def Sun(self,c):\n",
    "        self.company = c\n",
    "    @classmethod\n",
    "    def change_company(cls, c):\n",
    "        cls.company = c"
   ]
  },
  {
   "cell_type": "code",
   "execution_count": 102,
   "id": "409e9e1c",
   "metadata": {},
   "outputs": [],
   "source": [
    "s1 = Student()"
   ]
  },
  {
   "cell_type": "code",
   "execution_count": 103,
   "id": "3dc91951",
   "metadata": {},
   "outputs": [],
   "source": [
    "s2 = Student()"
   ]
  },
  {
   "cell_type": "code",
   "execution_count": 104,
   "id": "d92f07d3",
   "metadata": {},
   "outputs": [
    {
     "data": {
      "text/plain": [
       "('Mouritech', 'Mouritech')"
      ]
     },
     "execution_count": 104,
     "metadata": {},
     "output_type": "execute_result"
    }
   ],
   "source": [
    "s1.company, s2.company"
   ]
  },
  {
   "cell_type": "code",
   "execution_count": 105,
   "id": "7107d458",
   "metadata": {},
   "outputs": [],
   "source": [
    "s1.Sun(\"Google\")"
   ]
  },
  {
   "cell_type": "code",
   "execution_count": 106,
   "id": "6c619880",
   "metadata": {},
   "outputs": [
    {
     "data": {
      "text/plain": [
       "('Google', 'Mouritech')"
      ]
     },
     "execution_count": 106,
     "metadata": {},
     "output_type": "execute_result"
    }
   ],
   "source": [
    "s1.company, s2.company"
   ]
  },
  {
   "cell_type": "code",
   "execution_count": 107,
   "id": "8eb646e5",
   "metadata": {},
   "outputs": [],
   "source": [
    "s2.change_company(\"TCS\")"
   ]
  },
  {
   "cell_type": "code",
   "execution_count": 108,
   "id": "dcf9373f",
   "metadata": {},
   "outputs": [
    {
     "data": {
      "text/plain": [
       "('Google', 'TCS')"
      ]
     },
     "execution_count": 108,
     "metadata": {},
     "output_type": "execute_result"
    }
   ],
   "source": [
    "s1.company, s2.company"
   ]
  },
  {
   "cell_type": "code",
   "execution_count": 110,
   "id": "d71fb184",
   "metadata": {},
   "outputs": [],
   "source": [
    "s3 = Student()"
   ]
  },
  {
   "cell_type": "code",
   "execution_count": 111,
   "id": "bf33c668",
   "metadata": {},
   "outputs": [
    {
     "data": {
      "text/plain": [
       "'TCS'"
      ]
     },
     "execution_count": 111,
     "metadata": {},
     "output_type": "execute_result"
    }
   ],
   "source": [
    "s3.company"
   ]
  },
  {
   "cell_type": "markdown",
   "id": "83b4ce2e",
   "metadata": {},
   "source": [
    "## by using the class method we can modify state of the class"
   ]
  },
  {
   "cell_type": "code",
   "execution_count": 121,
   "id": "b1116bf7",
   "metadata": {},
   "outputs": [],
   "source": [
    "class Emp:\n",
    "    def __init__(self,age):\n",
    "        self.age = age\n",
    "  \n",
    "    @classmethod\n",
    "    def byBday(cls, year):\n",
    "        return cls(date.today().year - year)\n",
    "  \n",
    "    def disp(self):\n",
    "        print(\"Emp Age : \", self.age)"
   ]
  },
  {
   "cell_type": "code",
   "execution_count": 124,
   "id": "dc22ee69",
   "metadata": {},
   "outputs": [
    {
     "data": {
      "text/plain": [
       "<__main__.Emp at 0x19547179550>"
      ]
     },
     "execution_count": 124,
     "metadata": {},
     "output_type": "execute_result"
    }
   ],
   "source": [
    "emp1 = Emp(21)\n",
    "emp1.byBday(1998)"
   ]
  },
  {
   "cell_type": "code",
   "execution_count": 125,
   "id": "22d67ac7",
   "metadata": {},
   "outputs": [
    {
     "data": {
      "text/plain": [
       "21"
      ]
     },
     "execution_count": 125,
     "metadata": {},
     "output_type": "execute_result"
    }
   ],
   "source": [
    "emp1.age"
   ]
  },
  {
   "cell_type": "code",
   "execution_count": 126,
   "id": "bc0a46fa",
   "metadata": {},
   "outputs": [
    {
     "data": {
      "text/plain": [
       "24"
      ]
     },
     "execution_count": 126,
     "metadata": {},
     "output_type": "execute_result"
    }
   ],
   "source": [
    "emp2.age"
   ]
  },
  {
   "cell_type": "code",
   "execution_count": 142,
   "id": "6b761b51",
   "metadata": {},
   "outputs": [],
   "source": [
    "class Messcard:\n",
    "    balance = 5000\n",
    "    def eatBraekfast(self):\n",
    "        self.balance -= 50\n",
    "    def eatLunch(self):\n",
    "        self.balance -=150"
   ]
  },
  {
   "cell_type": "code",
   "execution_count": 143,
   "id": "574f3acd",
   "metadata": {},
   "outputs": [],
   "source": [
    "ramya = Messcard()"
   ]
  },
  {
   "cell_type": "raw",
   "id": "a67ae1a6",
   "metadata": {},
   "source": [
    "sudeb = Messcard()"
   ]
  },
  {
   "cell_type": "code",
   "execution_count": 144,
   "id": "87470243",
   "metadata": {},
   "outputs": [],
   "source": [
    "ramya.eatLunch()"
   ]
  },
  {
   "cell_type": "raw",
   "id": "98b34821",
   "metadata": {},
   "source": [
    "ramya.balance"
   ]
  },
  {
   "cell_type": "code",
   "execution_count": 145,
   "id": "cd0f47e9",
   "metadata": {},
   "outputs": [
    {
     "ename": "NameError",
     "evalue": "name 'sudeb' is not defined",
     "output_type": "error",
     "traceback": [
      "\u001b[1;31m---------------------------------------------------------------------------\u001b[0m",
      "\u001b[1;31mNameError\u001b[0m                                 Traceback (most recent call last)",
      "Input \u001b[1;32mIn [145]\u001b[0m, in \u001b[0;36m<cell line: 1>\u001b[1;34m()\u001b[0m\n\u001b[1;32m----> 1\u001b[0m \u001b[43msudeb\u001b[49m\u001b[38;5;241m.\u001b[39mbalance\n",
      "\u001b[1;31mNameError\u001b[0m: name 'sudeb' is not defined"
     ]
    }
   ],
   "source": [
    "sudeb.balance"
   ]
  },
  {
   "cell_type": "code",
   "execution_count": 147,
   "id": "b4808687",
   "metadata": {},
   "outputs": [],
   "source": [
    "class MessCard:\n",
    "    balance = 5000\n",
    "    def eatBraekfast(self):\n",
    "        self.balance -= 50\n",
    "    def eatLunch(self):\n",
    "        self.balance -=150"
   ]
  },
  {
   "cell_type": "code",
   "execution_count": 152,
   "id": "97202225",
   "metadata": {},
   "outputs": [],
   "source": [
    "aditya = MessCard()\n",
    "Sravya = MessCard()"
   ]
  },
  {
   "cell_type": "code",
   "execution_count": 153,
   "id": "1e85d598",
   "metadata": {},
   "outputs": [],
   "source": [
    "Sravya.eatLunch()"
   ]
  },
  {
   "cell_type": "code",
   "execution_count": 154,
   "id": "44953cae",
   "metadata": {},
   "outputs": [
    {
     "data": {
      "text/plain": [
       "4850"
      ]
     },
     "execution_count": 154,
     "metadata": {},
     "output_type": "execute_result"
    }
   ],
   "source": [
    "Sravya.balance"
   ]
  },
  {
   "cell_type": "code",
   "execution_count": 155,
   "id": "6a52d201",
   "metadata": {},
   "outputs": [
    {
     "data": {
      "text/plain": [
       "5000"
      ]
     },
     "execution_count": 155,
     "metadata": {},
     "output_type": "execute_result"
    }
   ],
   "source": [
    "aditya.balance"
   ]
  },
  {
   "cell_type": "code",
   "execution_count": 156,
   "id": "dcf5a508",
   "metadata": {},
   "outputs": [],
   "source": [
    "aditya.eatBraekfast()"
   ]
  },
  {
   "cell_type": "code",
   "execution_count": 157,
   "id": "a10a64d2",
   "metadata": {},
   "outputs": [
    {
     "data": {
      "text/plain": [
       "4950"
      ]
     },
     "execution_count": 157,
     "metadata": {},
     "output_type": "execute_result"
    }
   ],
   "source": [
    "aditya.balance"
   ]
  },
  {
   "cell_type": "code",
   "execution_count": 159,
   "id": "2f7b9914",
   "metadata": {},
   "outputs": [],
   "source": [
    "Sravya.eatBraekfast()"
   ]
  },
  {
   "cell_type": "code",
   "execution_count": 161,
   "id": "45a6d9ba",
   "metadata": {},
   "outputs": [
    {
     "data": {
      "text/plain": [
       "4800"
      ]
     },
     "execution_count": 161,
     "metadata": {},
     "output_type": "execute_result"
    }
   ],
   "source": [
    "Sravya.balance"
   ]
  },
  {
   "cell_type": "markdown",
   "id": "c8ea42ca",
   "metadata": {},
   "source": [
    "- Data Hiding\n",
    "- static method\n",
    "- class method\n",
    "- class variable"
   ]
  },
  {
   "cell_type": "markdown",
   "id": "828bf9be",
   "metadata": {},
   "source": [
    "### Inheritence in python"
   ]
  },
  {
   "cell_type": "code",
   "execution_count": 165,
   "id": "28ffdd7a",
   "metadata": {},
   "outputs": [],
   "source": [
    "class A:\n",
    "    def f1(self):\n",
    "        print(\"I am in class A\")\n",
    "class B:\n",
    "    def f2(self):\n",
    "        print(\"I am in class B\")        "
   ]
  },
  {
   "cell_type": "code",
   "execution_count": 167,
   "id": "8813d777",
   "metadata": {},
   "outputs": [
    {
     "name": "stdout",
     "output_type": "stream",
     "text": [
      "I am in class A\n",
      "I am in class B\n"
     ]
    }
   ],
   "source": [
    "a1 = A()\n",
    "b1 = B()\n",
    "a1.f1()\n",
    "b1.f2()"
   ]
  },
  {
   "cell_type": "code",
   "execution_count": 169,
   "id": "c444fb76",
   "metadata": {},
   "outputs": [],
   "source": [
    "class C:\n",
    "    def f1(self):\n",
    "        print(\"I am in class A\")\n",
    "class D(C):\n",
    "    def f2(self):\n",
    "        print(\"I am in class B\")"
   ]
  },
  {
   "cell_type": "code",
   "execution_count": 170,
   "id": "6c925910",
   "metadata": {},
   "outputs": [],
   "source": [
    "d1 = D()"
   ]
  },
  {
   "cell_type": "code",
   "execution_count": 171,
   "id": "f6b92aca",
   "metadata": {},
   "outputs": [
    {
     "name": "stdout",
     "output_type": "stream",
     "text": [
      "I am in class A\n"
     ]
    }
   ],
   "source": [
    "d1.f1()"
   ]
  },
  {
   "cell_type": "code",
   "execution_count": 172,
   "id": "0abce8ca",
   "metadata": {},
   "outputs": [
    {
     "name": "stdout",
     "output_type": "stream",
     "text": [
      "I am in class B\n"
     ]
    }
   ],
   "source": [
    "d1.f2()"
   ]
  },
  {
   "cell_type": "code",
   "execution_count": 184,
   "id": "26ed16ad",
   "metadata": {},
   "outputs": [],
   "source": [
    "class F:\n",
    "    def f3(self):\n",
    "        print(\"I am in class F\")\n",
    "        \n",
    "class G:\n",
    "    def f4(self):\n",
    "        print(\"I am in class G\")\n",
    "        \n",
    "class C:\n",
    "    def f1(self):\n",
    "        print(\"I am in class C\")\n",
    "        \n",
    "class D(C, F, G): # multiple inhertitence\n",
    "    def f2(self):\n",
    "        print(\"I am in class D\")"
   ]
  },
  {
   "cell_type": "code",
   "execution_count": 185,
   "id": "0b1f3ca9",
   "metadata": {},
   "outputs": [],
   "source": [
    "d1 = D()"
   ]
  },
  {
   "cell_type": "code",
   "execution_count": 186,
   "id": "96c43dd6",
   "metadata": {},
   "outputs": [
    {
     "name": "stdout",
     "output_type": "stream",
     "text": [
      "I am in class C\n",
      "I am in class D\n",
      "I am in class F\n",
      "I am in class G\n"
     ]
    }
   ],
   "source": [
    "d1.f1()\n",
    "d1.f2()\n",
    "d1.f3()\n",
    "d1.f4()"
   ]
  },
  {
   "cell_type": "code",
   "execution_count": 192,
   "id": "43e22e10",
   "metadata": {},
   "outputs": [],
   "source": [
    "class Programmer:\n",
    "    companyName = \"Mouritech\"\n",
    "    def coding(self):\n",
    "        print(\"I like coding\")\n",
    "class Dancer:\n",
    "    GroupName =\"Mouritech\"\n",
    "    def coding(self):\n",
    "        print(\"I like Bhatatanatya\")\n",
    "class Singer:\n",
    "    bandName = \"Mouritech\"\n",
    "    def singing(self):\n",
    "        print(\"I like singing karthikeya song\")\n",
    "    def playingGuitar(self):\n",
    "        print(\"I like playing guitar\")\n",
    "        "
   ]
  },
  {
   "cell_type": "code",
   "execution_count": 193,
   "id": "d2d955c9",
   "metadata": {},
   "outputs": [],
   "source": [
    "class Person(Programmer, Dancer, Singer):\n",
    "    def learn(self):\n",
    "        pass\n",
    "    def walk(self):\n",
    "        pass\n",
    "    def eat(self):\n",
    "        pass"
   ]
  },
  {
   "cell_type": "code",
   "execution_count": 194,
   "id": "3bdd6eaf",
   "metadata": {},
   "outputs": [
    {
     "data": {
      "text/plain": [
       "'Mouritech'"
      ]
     },
     "execution_count": 194,
     "metadata": {},
     "output_type": "execute_result"
    }
   ],
   "source": [
    "p1 = Person()\n",
    "p1.bandName"
   ]
  },
  {
   "cell_type": "code",
   "execution_count": 197,
   "id": "a5b569c8",
   "metadata": {},
   "outputs": [],
   "source": [
    "class Vehicle():\n",
    "    def fuleAmount(self):\n",
    "        print(\"I like fuelamount\")\n",
    "    def capacity(self):\n",
    "        print(\"I like capacity\")\n",
    "    def applyBreaks(self):\n",
    "        print(\"I like aplybreaks\")\n",
    "class Bus(Vehicle):\n",
    "    companyName=\"AshokLeyland\"\n",
    "    def sleeper(self):\n",
    "        print(\"I like sleeper bus\")\n",
    "class Truck(Vehicle):\n",
    "    groupName=\"Volvo\"\n",
    "    def opentruck(self):\n",
    "        print(\"I like truck\")\n",
    "class Car(Vehicle):\n",
    "    bandName=\"Tata\"\n",
    "    def suv(self):\n",
    "        print(\"I like suv\")\n",
    "    def sedan(self):\n",
    "        print(\"I like sedan\")\n",
    "\n",
    "class Punch(car):\n",
    "    make = 'Tata'\n",
    "    def engine(self):\n",
    "        print(\"1299cc\")\n",
    "    def seating(self):\n",
    "        print(\"5 seater\")"
   ]
  },
  {
   "cell_type": "markdown",
   "id": "81df1ddd",
   "metadata": {},
   "source": [
    "### Method oveeriding or function overriding "
   ]
  },
  {
   "cell_type": "code",
   "execution_count": 244,
   "id": "d2964230",
   "metadata": {},
   "outputs": [],
   "source": [
    "class Ramya:\n",
    "    def f1(self):\n",
    "        print(\"I am in Ramya class\")\n",
    "        super().f1()\n",
    "class Sudeb:\n",
    "    def f1(self):\n",
    "        print(\"I am in Sudeb class\")\n",
    "class Mouritech(Ramya, Sudeb):\n",
    "    pass"
   ]
  },
  {
   "cell_type": "code",
   "execution_count": 245,
   "id": "6944b392",
   "metadata": {},
   "outputs": [],
   "source": [
    "m1 = Mouritech()"
   ]
  },
  {
   "cell_type": "code",
   "execution_count": 246,
   "id": "cdefcc18",
   "metadata": {},
   "outputs": [
    {
     "name": "stdout",
     "output_type": "stream",
     "text": [
      "I am in Ramya class\n",
      "I am in Sudeb class\n"
     ]
    }
   ],
   "source": [
    "m1.f1() #we will get output in the sequence we provide for inheritence"
   ]
  },
  {
   "cell_type": "code",
   "execution_count": 256,
   "id": "b951055b",
   "metadata": {},
   "outputs": [],
   "source": [
    "class Last:\n",
    "    a = 100"
   ]
  },
  {
   "cell_type": "code",
   "execution_count": 257,
   "id": "f83b5527",
   "metadata": {},
   "outputs": [],
   "source": [
    "l1 = Last()"
   ]
  },
  {
   "cell_type": "code",
   "execution_count": 258,
   "id": "6a84788f",
   "metadata": {},
   "outputs": [
    {
     "data": {
      "text/plain": [
       "100"
      ]
     },
     "execution_count": 258,
     "metadata": {},
     "output_type": "execute_result"
    }
   ],
   "source": [
    "l1.a"
   ]
  },
  {
   "cell_type": "code",
   "execution_count": 259,
   "id": "d12fb9ce",
   "metadata": {},
   "outputs": [
    {
     "data": {
      "text/plain": [
       "100"
      ]
     },
     "execution_count": 259,
     "metadata": {},
     "output_type": "execute_result"
    }
   ],
   "source": [
    "getattr(l1,\"a\")"
   ]
  },
  {
   "cell_type": "code",
   "execution_count": 263,
   "id": "75c7c7a8",
   "metadata": {},
   "outputs": [],
   "source": [
    "l1.a = 200"
   ]
  },
  {
   "cell_type": "code",
   "execution_count": 264,
   "id": "23e9b11a",
   "metadata": {},
   "outputs": [
    {
     "data": {
      "text/plain": [
       "200"
      ]
     },
     "execution_count": 264,
     "metadata": {},
     "output_type": "execute_result"
    }
   ],
   "source": [
    "l1.a"
   ]
  },
  {
   "cell_type": "code",
   "execution_count": 265,
   "id": "dc307002",
   "metadata": {},
   "outputs": [],
   "source": [
    "setattr(l1, \"a\", 500)"
   ]
  },
  {
   "cell_type": "code",
   "execution_count": 266,
   "id": "007ee556",
   "metadata": {},
   "outputs": [
    {
     "data": {
      "text/plain": [
       "500"
      ]
     },
     "execution_count": 266,
     "metadata": {},
     "output_type": "execute_result"
    }
   ],
   "source": [
    "l1.a"
   ]
  },
  {
   "cell_type": "code",
   "execution_count": null,
   "id": "1975b3f5",
   "metadata": {},
   "outputs": [],
   "source": []
  }
 ],
 "metadata": {
  "kernelspec": {
   "display_name": "Python 3 (ipykernel)",
   "language": "python",
   "name": "python3"
  },
  "language_info": {
   "codemirror_mode": {
    "name": "ipython",
    "version": 3
   },
   "file_extension": ".py",
   "mimetype": "text/x-python",
   "name": "python",
   "nbconvert_exporter": "python",
   "pygments_lexer": "ipython3",
   "version": "3.9.12"
  }
 },
 "nbformat": 4,
 "nbformat_minor": 5
}
