{
 "cells": [
  {
   "cell_type": "markdown",
   "id": "35c4ec14",
   "metadata": {},
   "source": [
    "# Regular Expression in Python"
   ]
  },
  {
   "cell_type": "markdown",
   "id": "210078b1",
   "metadata": {},
   "source": [
    "Regular expression is sequence of characters that forms pattern"
   ]
  },
  {
   "cell_type": "code",
   "execution_count": 7,
   "id": "007222fe",
   "metadata": {},
   "outputs": [],
   "source": [
    "import re"
   ]
  },
  {
   "cell_type": "code",
   "execution_count": 8,
   "id": "c5f8ba29",
   "metadata": {},
   "outputs": [],
   "source": [
    "data = \"This is my first regular expression program\""
   ]
  },
  {
   "cell_type": "code",
   "execution_count": 9,
   "id": "44ff01ee",
   "metadata": {},
   "outputs": [
    {
     "name": "stdout",
     "output_type": "stream",
     "text": [
      "<re.Match object; span=(8, 10), match='my'>\n"
     ]
    }
   ],
   "source": [
    "print(re.search(\"my\", data))"
   ]
  },
  {
   "cell_type": "code",
   "execution_count": 10,
   "id": "713a6bbc",
   "metadata": {},
   "outputs": [
    {
     "name": "stdout",
     "output_type": "stream",
     "text": [
      "None\n"
     ]
    }
   ],
   "source": [
    "print(re.search(\"my$\", data))"
   ]
  },
  {
   "cell_type": "code",
   "execution_count": 11,
   "id": "2bbf6499",
   "metadata": {},
   "outputs": [
    {
     "name": "stdout",
     "output_type": "stream",
     "text": [
      "None\n"
     ]
    }
   ],
   "source": [
    "print(re.search(\"^this\", data))"
   ]
  },
  {
   "cell_type": "code",
   "execution_count": 12,
   "id": "233c4e1b",
   "metadata": {},
   "outputs": [
    {
     "name": "stdout",
     "output_type": "stream",
     "text": [
      "None\n"
     ]
    }
   ],
   "source": [
    "print(re.search(\"^regular\", data))"
   ]
  },
  {
   "cell_type": "code",
   "execution_count": 13,
   "id": "a7893145",
   "metadata": {},
   "outputs": [
    {
     "data": {
      "text/plain": [
       "<re.Match object; span=(1, 2), match='h'>"
      ]
     },
     "execution_count": 13,
     "metadata": {},
     "output_type": "execute_result"
    }
   ],
   "source": [
    "re.search(\"[a-z]\", data)"
   ]
  },
  {
   "cell_type": "code",
   "execution_count": 14,
   "id": "8368acae",
   "metadata": {},
   "outputs": [
    {
     "data": {
      "text/plain": [
       "['T']"
      ]
     },
     "execution_count": 14,
     "metadata": {},
     "output_type": "execute_result"
    }
   ],
   "source": [
    "re.findall(\"[A-Z]\", data)"
   ]
  },
  {
   "cell_type": "code",
   "execution_count": 15,
   "id": "2776f368",
   "metadata": {},
   "outputs": [
    {
     "data": {
      "text/plain": [
       "<callable_iterator at 0x24b40bf7e80>"
      ]
     },
     "execution_count": 15,
     "metadata": {},
     "output_type": "execute_result"
    }
   ],
   "source": [
    "re.finditer(\"[a-z]\", data)"
   ]
  },
  {
   "cell_type": "code",
   "execution_count": 16,
   "id": "7d7a72b4",
   "metadata": {},
   "outputs": [],
   "source": [
    "ramya = \"my date of birth is 20-03-1998\""
   ]
  },
  {
   "cell_type": "raw",
   "id": "e896d09a",
   "metadata": {},
   "source": [
    "re.findall(\"[0-9]\", ramya)"
   ]
  },
  {
   "cell_type": "code",
   "execution_count": 17,
   "id": "0df18ead",
   "metadata": {},
   "outputs": [],
   "source": [
    "dob = \"My date of birth is 20-03-1998 booth\""
   ]
  },
  {
   "cell_type": "code",
   "execution_count": 18,
   "id": "b6e76a34",
   "metadata": {},
   "outputs": [
    {
     "data": {
      "text/plain": [
       "['M', '2', '0', '0', '3', '1', '9', '9', '8']"
      ]
     },
     "execution_count": 18,
     "metadata": {},
     "output_type": "execute_result"
    }
   ],
   "source": [
    "re.findall(\"[0-9A-Z]\", dob)"
   ]
  },
  {
   "cell_type": "code",
   "execution_count": 19,
   "id": "a51461d7",
   "metadata": {},
   "outputs": [
    {
     "data": {
      "text/plain": [
       "9"
      ]
     },
     "execution_count": 19,
     "metadata": {},
     "output_type": "execute_result"
    }
   ],
   "source": [
    "len(re.findall(\"[0-9A-Z]\", dob))"
   ]
  },
  {
   "cell_type": "code",
   "execution_count": 20,
   "id": "83f704f9",
   "metadata": {},
   "outputs": [
    {
     "data": {
      "text/plain": [
       "['birth', 'booth']"
      ]
     },
     "execution_count": 20,
     "metadata": {},
     "output_type": "execute_result"
    }
   ],
   "source": [
    "re.findall(\"b..th\", dob)\n",
    "# . reprsent one character in regularexpression"
   ]
  },
  {
   "cell_type": "code",
   "execution_count": 21,
   "id": "f83b9780",
   "metadata": {},
   "outputs": [
    {
     "data": {
      "text/plain": [
       "['birth is 20-03-1998 booth']"
      ]
     },
     "execution_count": 21,
     "metadata": {},
     "output_type": "execute_result"
    }
   ],
   "source": [
    "re.findall(\"b.*th\", dob)\n",
    "# . is 0 or more occurences"
   ]
  },
  {
   "cell_type": "code",
   "execution_count": 22,
   "id": "c40e2af5",
   "metadata": {},
   "outputs": [
    {
     "data": {
      "text/plain": [
       "['birth is 20-03-1998 booth']"
      ]
     },
     "execution_count": 22,
     "metadata": {},
     "output_type": "execute_result"
    }
   ],
   "source": [
    "re.findall(\"b.+th\", dob)\n",
    "# + is 1 or more occurence"
   ]
  },
  {
   "cell_type": "code",
   "execution_count": 23,
   "id": "75eed218",
   "metadata": {},
   "outputs": [
    {
     "data": {
      "text/plain": [
       "['bir', 'boo']"
      ]
     },
     "execution_count": 23,
     "metadata": {},
     "output_type": "execute_result"
    }
   ],
   "source": [
    "re.findall(\"b.{2}\", dob)"
   ]
  },
  {
   "cell_type": "code",
   "execution_count": 25,
   "id": "2c443b81",
   "metadata": {},
   "outputs": [],
   "source": [
    "#re.findall(\"bo.{2}th\", dob)\n",
    "# {2} finds preceding character '0' repeated twice"
   ]
  },
  {
   "cell_type": "code",
   "execution_count": 26,
   "id": "f22ba3a4",
   "metadata": {},
   "outputs": [
    {
     "data": {
      "text/plain": [
       "['th']"
      ]
     },
     "execution_count": 26,
     "metadata": {},
     "output_type": "execute_result"
    }
   ],
   "source": [
    "re.findall(\"b.*(th)\", dob)"
   ]
  },
  {
   "cell_type": "code",
   "execution_count": 27,
   "id": "2c947ece",
   "metadata": {},
   "outputs": [
    {
     "data": {
      "text/plain": [
       "['birth', 'booth']"
      ]
     },
     "execution_count": 27,
     "metadata": {},
     "output_type": "execute_result"
    }
   ],
   "source": [
    "re.findall(\"birth|booth\", dob)\n",
    "# like or operator"
   ]
  },
  {
   "cell_type": "code",
   "execution_count": 28,
   "id": "8e87faba",
   "metadata": {},
   "outputs": [
    {
     "data": {
      "text/plain": [
       "['1998']"
      ]
     },
     "execution_count": 28,
     "metadata": {},
     "output_type": "execute_result"
    }
   ],
   "source": [
    "re.findall(\"\\d{4}\", dob) #"
   ]
  },
  {
   "cell_type": "code",
   "execution_count": 29,
   "id": "6f5e30f5",
   "metadata": {},
   "outputs": [
    {
     "data": {
      "text/plain": [
       "['20-03-1998']"
      ]
     },
     "execution_count": 29,
     "metadata": {},
     "output_type": "execute_result"
    }
   ],
   "source": [
    "#dob = \"1998-03-20\"\n",
    "re.findall(\"\\d{2}-\\d{2}-\\d{4}\", dob)"
   ]
  },
  {
   "cell_type": "code",
   "execution_count": 30,
   "id": "0a11f439",
   "metadata": {},
   "outputs": [
    {
     "data": {
      "text/plain": [
       "['20-03-1998']"
      ]
     },
     "execution_count": 30,
     "metadata": {},
     "output_type": "execute_result"
    }
   ],
   "source": [
    "re.findall(\"\\d{1,2}-\\d{1,2}-\\d{1,4}\", dob)"
   ]
  },
  {
   "cell_type": "code",
   "execution_count": 35,
   "id": "3ee3fe0d",
   "metadata": {},
   "outputs": [
    {
     "data": {
      "text/plain": [
       "['T']"
      ]
     },
     "execution_count": 35,
     "metadata": {},
     "output_type": "execute_result"
    }
   ],
   "source": [
    "regEx = \"This is Character Example\"\n",
    "re.findall(\"\\AT\", regEx)"
   ]
  },
  {
   "cell_type": "code",
   "execution_count": 42,
   "id": "aad5ce74",
   "metadata": {},
   "outputs": [
    {
     "data": {
      "text/plain": [
       "['is']"
      ]
     },
     "execution_count": 42,
     "metadata": {},
     "output_type": "execute_result"
    }
   ],
   "source": [
    "regEx = \"This is Character Example\"\n",
    "re.findall(\"\\\\bis\", regEx)"
   ]
  },
  {
   "cell_type": "code",
   "execution_count": 50,
   "id": "ffa10779",
   "metadata": {},
   "outputs": [
    {
     "name": "stdout",
     "output_type": "stream",
     "text": [
      "I have found atleast 1 in the beginning\n"
     ]
    }
   ],
   "source": [
    "regEx = \"This is Character Example\"\n",
    "demo = re.findall(r\"\\b\", regEx)\n",
    "if demo:\n",
    "    print(\"I have found atleast 1 in the beginning\")\n",
    "else:\n",
    "    print(\"Sorry\")"
   ]
  },
  {
   "cell_type": "code",
   "execution_count": 51,
   "id": "94d743dd",
   "metadata": {},
   "outputs": [
    {
     "ename": "SyntaxError",
     "evalue": "(unicode error) 'unicodeescape' codec can't decode bytes in position 2-3: truncated \\UXXXXXXXX escape (4123848916.py, line 1)",
     "output_type": "error",
     "traceback": [
      "\u001b[1;36m  Input \u001b[1;32mIn [51]\u001b[1;36m\u001b[0m\n\u001b[1;33m    f1 = open(\"C:\\Users\\ramyatr\\Downloads\\decentralization.png\")\u001b[0m\n\u001b[1;37m                                                               ^\u001b[0m\n\u001b[1;31mSyntaxError\u001b[0m\u001b[1;31m:\u001b[0m (unicode error) 'unicodeescape' codec can't decode bytes in position 2-3: truncated \\UXXXXXXXX escape\n"
     ]
    }
   ],
   "source": [
    "f1 = open(\"C:\\Users\\ramyatr\\Downloads\\decentralization.png\")"
   ]
  },
  {
   "cell_type": "code",
   "execution_count": 57,
   "id": "487bc1a5",
   "metadata": {},
   "outputs": [
    {
     "name": "stdout",
     "output_type": "stream",
     "text": [
      "Sorry\n"
     ]
    }
   ],
   "source": [
    "regEx = \"This is x a Character Example \"\n",
    "demo = re.findall(r\"is\\B\", regEx) # checks word and not character\n",
    "if demo:\n",
    "    print(\"I have found atleast 1 in the beginning\", demo)\n",
    "else:\n",
    "    print(\"Sorry\")"
   ]
  },
  {
   "cell_type": "code",
   "execution_count": 62,
   "id": "7d4d4f83",
   "metadata": {},
   "outputs": [
    {
     "name": "stdout",
     "output_type": "stream",
     "text": [
      "I have found atleast 1 in the beginning ['T', 'h', 'i', 's', ' ', 'i', 's', ' ', 'x', ' ', 'a', ' ', 'C', 'h', 'a', 'r', 'a', 'c', 't', 'e', 'r', ' ', 'E', 'x', 'a', 'm', 'p', 'l', 'e', ' ']\n"
     ]
    }
   ],
   "source": [
    "regEx = \"This is x a Character Example 06\"\n",
    "demo = re.findall(r\"\\D\", regEx) # checks word and not character\n",
    "if demo:\n",
    "    print(\"I have found atleast 1 in the beginning\", demo)\n",
    "else:\n",
    "    print(\"Sorry\")"
   ]
  },
  {
   "cell_type": "code",
   "execution_count": 63,
   "id": "af0356fd",
   "metadata": {},
   "outputs": [
    {
     "name": "stdout",
     "output_type": "stream",
     "text": [
      "I have found atleast 1 in the beginning ['T', 'h', 'i', 's', 'i', 's', 'x', 'a', 'C', 'h', 'a', 'r', 'a', 'c', 't', 'e', 'r', 'E', 'x', 'a', 'm', 'p', 'l', 'e']\n"
     ]
    }
   ],
   "source": [
    "regEx = \"This is x a Character Example\"\n",
    "demo = re.findall(r\"\\S\", regEx) # checks word and not character\n",
    "if demo:\n",
    "    print(\"I have found atleast 1 in the beginning\", demo)\n",
    "else:\n",
    "    print(\"Sorry\")"
   ]
  },
  {
   "cell_type": "code",
   "execution_count": 65,
   "id": "5899377b",
   "metadata": {},
   "outputs": [
    {
     "name": "stdout",
     "output_type": "stream",
     "text": [
      "I have found atleast 1 in the beginning ['T', 'h', 'i', 's', 'i', 's', 'x', 'a', 'C', 'h', 'a', 'r', 'a', 'c', 't', 'e', 'r', 'E', 'x', 'a', 'm', 'p', 'l', 'e', '0', '6']\n"
     ]
    }
   ],
   "source": [
    "regEx = \"This is x a Character Example 06\"\n",
    "demo = re.findall(r\"\\S\", regEx) # checks word and not character\n",
    "if demo:\n",
    "    print(\"I have found atleast 1 in the beginning\", demo)\n",
    "else:\n",
    "    print(\"Sorry\")"
   ]
  },
  {
   "cell_type": "code",
   "execution_count": 67,
   "id": "43d63e25",
   "metadata": {},
   "outputs": [
    {
     "name": "stdout",
     "output_type": "stream",
     "text": [
      "I have found atleast 1 in the beginning ['T', 'h', 'i', 's', 'i', 's', 'x', 'a', 'C', 'h', 'a', 'r', 'a', 'c', 't', 'e', 'r', '6', 'E', 'x', 'a', 'm', 'p', 'l', 'e', '0', '6']\n"
     ]
    }
   ],
   "source": [
    "regEx = \"This is x a Character6$ Example 06\"\n",
    "demo = re.findall(r\"\\w\", regEx) # checks word and not character\n",
    "if demo:\n",
    "    print(\"I have found atleast 1 in the beginning\", demo)\n",
    "else:\n",
    "    print(\"Sorry\")"
   ]
  },
  {
   "cell_type": "code",
   "execution_count": 68,
   "id": "31ee59da",
   "metadata": {},
   "outputs": [
    {
     "name": "stdout",
     "output_type": "stream",
     "text": [
      "I have found atleast 1 in the beginning [' ', ' ', ' ', ' ', '$', ' ', ' ']\n"
     ]
    }
   ],
   "source": [
    "regEx = \"This is x a Character6$ Example 06\"\n",
    "demo = re.findall(r\"\\W\", regEx) # checks word and not character\n",
    "if demo:\n",
    "    print(\"I have found atleast 1 in the beginning\", demo)\n",
    "else:\n",
    "    print(\"Sorry\")"
   ]
  },
  {
   "cell_type": "code",
   "execution_count": 73,
   "id": "3724af52",
   "metadata": {},
   "outputs": [
    {
     "name": "stdout",
     "output_type": "stream",
     "text": [
      "I have found atleast 1 in the beginning ['6']\n"
     ]
    }
   ],
   "source": [
    "regEx = \"This is x a Character6$ Example 06\"\n",
    "demo = re.findall(r\"6$\\Z\", regEx) # Here we place o6 in checks end of the string\n",
    "if demo:\n",
    "    print(\"I have found atleast 1 in the beginning\", demo)\n",
    "else:\n",
    "    print(\"Sorry\")"
   ]
  },
  {
   "cell_type": "code",
   "execution_count": 79,
   "id": "a94ab975",
   "metadata": {},
   "outputs": [
    {
     "name": "stdout",
     "output_type": "stream",
     "text": [
      "I have found atleast 1 in the beginning ['7']\n"
     ]
    }
   ],
   "source": [
    "regEx = \"This is x a Character6$ Example 07\"\n",
    "demo = re.findall(r\"7\\Z\", regEx) # Here we place o7 in checks end of the string\n",
    "if demo:\n",
    "    print(\"I have found atleast 1 in the beginning\", demo)\n",
    "else:\n",
    "    print(\"Sorry\")"
   ]
  },
  {
   "cell_type": "code",
   "execution_count": 81,
   "id": "317a2ae7",
   "metadata": {},
   "outputs": [
    {
     "name": "stdout",
     "output_type": "stream",
     "text": [
      "['123456789', '987654321']\n"
     ]
    }
   ],
   "source": [
    "# A Python program to demonstrate working of\n",
    "# findall()\n",
    "import re\n",
    " \n",
    "# A sample text string where regular expression\n",
    "# is searched.\n",
    "string = \"\"\"Hello my Number is 123456789 and\n",
    "            my friend's number is 987654321\"\"\"\n",
    " \n",
    "# A sample regular expression to find digits.\n",
    "regex = '\\d+'\n",
    " \n",
    "match = re.findall(regex, string)\n",
    "print(match)"
   ]
  },
  {
   "cell_type": "code",
   "execution_count": 82,
   "id": "1a61dfb8",
   "metadata": {},
   "outputs": [
    {
     "name": "stdout",
     "output_type": "stream",
     "text": [
      "['e', 'a', 'd', 'b', 'e', 'a']\n"
     ]
    }
   ],
   "source": [
    "# Module Regular Expression is imported\n",
    "# using __import__().\n",
    "import re\n",
    " \n",
    "# compile() creates regular expression\n",
    "# character class [a-e],\n",
    "# which is equivalent to [abcde].\n",
    "# class [abcde] will match with string with\n",
    "# 'a', 'b', 'c', 'd', 'e'.\n",
    "p = re.compile('[a-e]')\n",
    " \n",
    "# findall() searches for the Regular Expression\n",
    "# and return a list upon finding\n",
    "print(p.findall(\"Aye, said Mr. Gibenson Stark\"))"
   ]
  },
  {
   "cell_type": "code",
   "execution_count": 86,
   "id": "72e63118",
   "metadata": {},
   "outputs": [
    {
     "name": "stdout",
     "output_type": "stream",
     "text": [
      "['A', 'y', 'e', 's', 'a', 'i', 'd', 'M', 'r', 'G', 'i', 'b', 'e', 'n', 's', 'o', 'n', 'S', 't', 'a', 'r', 'k']\n"
     ]
    }
   ],
   "source": [
    "# Module Regular Expression is imported\n",
    "# using __import__().\n",
    "import re\n",
    " \n",
    "# compile() creates regular expression\n",
    "# character class [a-e],\n",
    "# which is equivalent to [abcde].\n",
    "# class [abcde] will match with string with\n",
    "# 'a', 'b', 'c', 'd', 'e'.\n",
    "p = re.compile('[a-e]')\n",
    " \n",
    "# findall() searches for the Regular Expression\n",
    "# and return a list upon finding\n",
    "print(re.findall(r\"\\w\", \"Aye, said Mr. Gibenson Stark\"))"
   ]
  },
  {
   "cell_type": "code",
   "execution_count": 90,
   "id": "1955d127",
   "metadata": {},
   "outputs": [
    {
     "name": "stdout",
     "output_type": "stream",
     "text": [
      "\n",
      " This is a single quote \n",
      "      \n"
     ]
    }
   ],
   "source": [
    "print(\"\"\"\n",
    " This is a single quote \n",
    "      \"\"\")"
   ]
  },
  {
   "cell_type": "code",
   "execution_count": 94,
   "id": "1f44be63",
   "metadata": {},
   "outputs": [
    {
     "data": {
      "text/plain": [
       "<re.Match object; span=(0, 24), match='ramyatr.in@mouritech.com'>"
      ]
     },
     "execution_count": 94,
     "metadata": {},
     "output_type": "execute_result"
    }
   ],
   "source": [
    "# write a program to validate mail id using regular expression \n",
    "\n",
    "mail =\"ramyatr.in@mouritech.com\"\n",
    "re.match(\"\\w.+@\\w+.{2,4}\", mail)"
   ]
  },
  {
   "cell_type": "code",
   "execution_count": 95,
   "id": "dffeb70d",
   "metadata": {},
   "outputs": [],
   "source": [
    "# write a program to delete all the spaces from the sentence using regular expression"
   ]
  },
  {
   "cell_type": "code",
   "execution_count": 96,
   "id": "de3a0990",
   "metadata": {},
   "outputs": [
    {
     "data": {
      "text/plain": [
       "[' ', ' ', ' ', ' ']"
      ]
     },
     "execution_count": 96,
     "metadata": {},
     "output_type": "execute_result"
    }
   ],
   "source": [
    "testSentence = \"This is the test sentence\"\n",
    "re.findall(\"\\s+\", testSentence)"
   ]
  },
  {
   "cell_type": "code",
   "execution_count": 101,
   "id": "8fbad129",
   "metadata": {},
   "outputs": [
    {
     "data": {
      "text/plain": [
       "'This👍 is👍 the👍 test👍 sentence'"
      ]
     },
     "execution_count": 101,
     "metadata": {},
     "output_type": "execute_result"
    }
   ],
   "source": [
    "replace = \"👍 \"\n",
    "pattern =\"\\s+\"\n",
    "re.sub(pattern, replace, testSentence)"
   ]
  },
  {
   "cell_type": "code",
   "execution_count": 107,
   "id": "3ced171c",
   "metadata": {},
   "outputs": [
    {
     "data": {
      "text/plain": [
       "'This👍 is👍 the test sentence'"
      ]
     },
     "execution_count": 107,
     "metadata": {},
     "output_type": "execute_result"
    }
   ],
   "source": [
    "replace = \"👍 \"\n",
    "pattern =\"\\s+\"\n",
    "re.sub(pattern, replace, testSentence, 2)"
   ]
  },
  {
   "cell_type": "code",
   "execution_count": 110,
   "id": "0166df47",
   "metadata": {},
   "outputs": [
    {
     "data": {
      "text/plain": [
       "['On ', '', 'th Jan ', '', '', '', ', at ', '', ':', '', ' AM']"
      ]
     },
     "execution_count": 110,
     "metadata": {},
     "output_type": "execute_result"
    }
   ],
   "source": [
    "re.split(\"\\d\", \"On 20th Jan 2016, at 11:02 AM\")"
   ]
  },
  {
   "cell_type": "code",
   "execution_count": 111,
   "id": "3b365055",
   "metadata": {},
   "outputs": [
    {
     "name": "stdout",
     "output_type": "stream",
     "text": [
      "['', 'y, ', 'oy oh ', 'oy, ', 'om', ' h', 'r', '']\n"
     ]
    }
   ],
   "source": [
    "print(re.split('[a-f]+', 'Aey, Boy oh boy, come here', flags=re.IGNORECASE))"
   ]
  },
  {
   "cell_type": "code",
   "execution_count": 128,
   "id": "0bf96084",
   "metadata": {},
   "outputs": [],
   "source": [
    "data = '39801 356, 2102 1111'"
   ]
  },
  {
   "cell_type": "code",
   "execution_count": 120,
   "id": "4049baa0",
   "metadata": {},
   "outputs": [
    {
     "data": {
      "text/plain": [
       "'2102 1111'"
      ]
     },
     "execution_count": 120,
     "metadata": {},
     "output_type": "execute_result"
    }
   ],
   "source": [
    "re.search(\"(\\d{4}) (\\d{4})\", data).group()"
   ]
  },
  {
   "cell_type": "code",
   "execution_count": 129,
   "id": "62698cc4",
   "metadata": {},
   "outputs": [
    {
     "name": "stdout",
     "output_type": "stream",
     "text": [
      "[]\n",
      "2102 1111\n"
     ]
    }
   ],
   "source": [
    "print(re.findall(\"(\\d{5}) (\\d{3}) (\\d{4})\", data))\n",
    "print(re.search(\"(\\d{4}) (\\d{4})\", data).group())"
   ]
  },
  {
   "cell_type": "code",
   "execution_count": 130,
   "id": "f1e0c2d2",
   "metadata": {},
   "outputs": [],
   "source": [
    "#Write a Python program to check that a string contains only a certain set of characters (in this case a-z, A-Z and 0-9)"
   ]
  },
  {
   "cell_type": "code",
   "execution_count": 131,
   "id": "c4531c20",
   "metadata": {},
   "outputs": [
    {
     "name": "stdout",
     "output_type": "stream",
     "text": [
      "True\n",
      "False\n"
     ]
    }
   ],
   "source": [
    "import re\n",
    "def is_allowed_specific_char(string):\n",
    "    charRe = re.compile(r'[^a-zA-Z0-9]')\n",
    "    string = charRe.search(string)\n",
    "    return not bool(string)\n",
    "\n",
    "print(is_allowed_specific_char(\"ABCDEFabcdef123450\")) \n",
    "print(is_allowed_specific_char(\"*&%@#!}{\"))"
   ]
  },
  {
   "cell_type": "code",
   "execution_count": null,
   "id": "cae507dd",
   "metadata": {},
   "outputs": [],
   "source": []
  }
 ],
 "metadata": {
  "kernelspec": {
   "display_name": "Python 3 (ipykernel)",
   "language": "python",
   "name": "python3"
  },
  "language_info": {
   "codemirror_mode": {
    "name": "ipython",
    "version": 3
   },
   "file_extension": ".py",
   "mimetype": "text/x-python",
   "name": "python",
   "nbconvert_exporter": "python",
   "pygments_lexer": "ipython3",
   "version": "3.9.12"
  }
 },
 "nbformat": 4,
 "nbformat_minor": 5
}
