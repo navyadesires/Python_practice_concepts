{
 "cells": [
  {
   "cell_type": "markdown",
   "id": "919c0311",
   "metadata": {},
   "source": [
    "### Data hiding"
   ]
  },
  {
   "cell_type": "code",
   "execution_count": 1,
   "id": "77aca0bc",
   "metadata": {},
   "outputs": [],
   "source": [
    "class Hide:\n",
    "    a = 10\n",
    "    __b = 20"
   ]
  },
  {
   "cell_type": "code",
   "execution_count": 4,
   "id": "41ec9591",
   "metadata": {},
   "outputs": [],
   "source": [
    "h1 = Hide()"
   ]
  },
  {
   "cell_type": "code",
   "execution_count": 5,
   "id": "37f33cf2",
   "metadata": {},
   "outputs": [
    {
     "data": {
      "text/plain": [
       "10"
      ]
     },
     "execution_count": 5,
     "metadata": {},
     "output_type": "execute_result"
    }
   ],
   "source": [
    "h1.a"
   ]
  },
  {
   "cell_type": "code",
   "execution_count": 6,
   "id": "f9b2dffa",
   "metadata": {},
   "outputs": [
    {
     "ename": "NameError",
     "evalue": "name 'h1__b' is not defined",
     "output_type": "error",
     "traceback": [
      "\u001b[1;31m---------------------------------------------------------------------------\u001b[0m",
      "\u001b[1;31mNameError\u001b[0m                                 Traceback (most recent call last)",
      "Input \u001b[1;32mIn [6]\u001b[0m, in \u001b[0;36m<cell line: 1>\u001b[1;34m()\u001b[0m\n\u001b[1;32m----> 1\u001b[0m \u001b[43mh1__b\u001b[49m\n",
      "\u001b[1;31mNameError\u001b[0m: name 'h1__b' is not defined"
     ]
    }
   ],
   "source": [
    "h1__b"
   ]
  },
  {
   "cell_type": "code",
   "execution_count": 7,
   "id": "4fe122c3",
   "metadata": {},
   "outputs": [],
   "source": [
    "#__variable is a hidden variable in phython"
   ]
  },
  {
   "cell_type": "code",
   "execution_count": 8,
   "id": "e2e62a77",
   "metadata": {},
   "outputs": [],
   "source": [
    "# How to get dat of hidden variable"
   ]
  },
  {
   "cell_type": "code",
   "execution_count": 10,
   "id": "ece32deb",
   "metadata": {},
   "outputs": [
    {
     "data": {
      "text/plain": [
       "20"
      ]
     },
     "execution_count": 10,
     "metadata": {},
     "output_type": "execute_result"
    }
   ],
   "source": [
    "h1._Hide__b"
   ]
  },
  {
   "cell_type": "code",
   "execution_count": 11,
   "id": "fd2958c7",
   "metadata": {},
   "outputs": [],
   "source": [
    "# Above is the first way of getting hidden variable data out of the class"
   ]
  },
  {
   "cell_type": "code",
   "execution_count": 16,
   "id": "f6511d0b",
   "metadata": {},
   "outputs": [],
   "source": [
    "class Hello:\n",
    "    __pin = 1234\n",
    "    def demo(self):\n",
    "        print(self.__pin)"
   ]
  },
  {
   "cell_type": "code",
   "execution_count": 20,
   "id": "41ce43d4",
   "metadata": {},
   "outputs": [],
   "source": [
    "h2= Hello()"
   ]
  },
  {
   "cell_type": "code",
   "execution_count": 22,
   "id": "05103af8",
   "metadata": {},
   "outputs": [
    {
     "name": "stdout",
     "output_type": "stream",
     "text": [
      "1234\n"
     ]
    }
   ],
   "source": [
    "h2.demo()"
   ]
  },
  {
   "cell_type": "markdown",
   "id": "7afa9e86",
   "metadata": {},
   "source": [
    "### Above is the second way of getting the hidden data"
   ]
  },
  {
   "cell_type": "markdown",
   "id": "5609dc9e",
   "metadata": {},
   "source": [
    "## static function or method in Python\n",
    "   "
   ]
  },
  {
   "cell_type": "code",
   "execution_count": 38,
   "id": "89dbdbc7",
   "metadata": {},
   "outputs": [],
   "source": [
    "class Friday:\n",
    "    def demo(self):\n",
    "        print(\"I am in Friday class\")\n",
    "    @staticmethod\n",
    "    def Ramya():\n",
    "        print(\"i am a function called with out object\")\n",
    "    @staticmethod\n",
    "    def checkMyAge(age):\n",
    "        if age>30:\n",
    "            print(\"you are Genius\")\n",
    "        else:\n",
    "            print(\"You are Kid\")"
   ]
  },
  {
   "cell_type": "code",
   "execution_count": 39,
   "id": "d9d5c722",
   "metadata": {},
   "outputs": [
    {
     "ename": "TypeError",
     "evalue": "demo() missing 1 required positional argument: 'self'",
     "output_type": "error",
     "traceback": [
      "\u001b[1;31m---------------------------------------------------------------------------\u001b[0m",
      "\u001b[1;31mTypeError\u001b[0m                                 Traceback (most recent call last)",
      "Input \u001b[1;32mIn [39]\u001b[0m, in \u001b[0;36m<cell line: 1>\u001b[1;34m()\u001b[0m\n\u001b[1;32m----> 1\u001b[0m \u001b[43mFriday\u001b[49m\u001b[38;5;241;43m.\u001b[39;49m\u001b[43mdemo\u001b[49m\u001b[43m(\u001b[49m\u001b[43m)\u001b[49m\n",
      "\u001b[1;31mTypeError\u001b[0m: demo() missing 1 required positional argument: 'self'"
     ]
    }
   ],
   "source": [
    "Friday.demo() #Compulsory we have to use the object to call function of the class"
   ]
  },
  {
   "cell_type": "code",
   "execution_count": 40,
   "id": "9ff35b6a",
   "metadata": {},
   "outputs": [],
   "source": [
    "f1 = Friday()"
   ]
  },
  {
   "cell_type": "code",
   "execution_count": 41,
   "id": "3c242809",
   "metadata": {},
   "outputs": [
    {
     "name": "stdout",
     "output_type": "stream",
     "text": [
      "I am in Friday class\n"
     ]
    }
   ],
   "source": [
    "f1.demo()"
   ]
  },
  {
   "cell_type": "code",
   "execution_count": 42,
   "id": "f346cfab",
   "metadata": {},
   "outputs": [
    {
     "name": "stdout",
     "output_type": "stream",
     "text": [
      "i am a function called with out object\n"
     ]
    }
   ],
   "source": [
    "Friday.Ramya()"
   ]
  },
  {
   "cell_type": "code",
   "execution_count": 47,
   "id": "cf942fdd",
   "metadata": {},
   "outputs": [
    {
     "name": "stdout",
     "output_type": "stream",
     "text": [
      "You are Kid\n"
     ]
    }
   ],
   "source": [
    "Friday.checkMyAge(24)"
   ]
  },
  {
   "cell_type": "markdown",
   "id": "3e1d8032",
   "metadata": {},
   "source": [
    "## Class method in python"
   ]
  },
  {
   "cell_type": "code",
   "execution_count": 61,
   "id": "d41a2d61",
   "metadata": {},
   "outputs": [],
   "source": [
    "class Saturday:\n",
    "    salary = 70000\n",
    "    def demo(self, m):\n",
    "        salary = m\n",
    "        print(\"I am in Saturday class\", salary)"
   ]
  },
  {
   "cell_type": "code",
   "execution_count": 62,
   "id": "2a3aefd9",
   "metadata": {},
   "outputs": [
    {
     "name": "stdout",
     "output_type": "stream",
     "text": [
      "I am in Saturday class 40\n"
     ]
    }
   ],
   "source": [
    "s1 = Saturday()\n",
    "s1.demo(40)"
   ]
  },
  {
   "cell_type": "code",
   "execution_count": 63,
   "id": "5fe42d72",
   "metadata": {},
   "outputs": [
    {
     "data": {
      "text/plain": [
       "70000"
      ]
     },
     "execution_count": 63,
     "metadata": {},
     "output_type": "execute_result"
    }
   ],
   "source": [
    "s1.salary"
   ]
  },
  {
   "cell_type": "code",
   "execution_count": 64,
   "id": "afd42baa",
   "metadata": {},
   "outputs": [],
   "source": [
    "Saturday.demo_demo = classmethod(Saturday.demo)"
   ]
  },
  {
   "cell_type": "code",
   "execution_count": 65,
   "id": "049ed578",
   "metadata": {},
   "outputs": [
    {
     "name": "stdout",
     "output_type": "stream",
     "text": [
      "I am in Saturday class 45000\n"
     ]
    }
   ],
   "source": [
    "Saturday.demo_demo(45000)"
   ]
  },
  {
   "cell_type": "code",
   "execution_count": 66,
   "id": "c0c50568",
   "metadata": {},
   "outputs": [
    {
     "data": {
      "text/plain": [
       "70000"
      ]
     },
     "execution_count": 66,
     "metadata": {},
     "output_type": "execute_result"
    }
   ],
   "source": [
    "s1.salary"
   ]
  },
  {
   "cell_type": "code",
   "execution_count": 68,
   "id": "60d5de14",
   "metadata": {},
   "outputs": [],
   "source": [
    "from datetime import date\n",
    "class Person:\n",
    "    def __init__(self,age):\n",
    "        self.age = age\n",
    "    @classmethod\n",
    "    def computeAge(cls, year):\n",
    "        return cls(date.today().year-year)\n",
    "    def showAge(self):\n",
    "        print(self.age)"
   ]
  },
  {
   "cell_type": "code",
   "execution_count": 77,
   "id": "d84734ef",
   "metadata": {},
   "outputs": [
    {
     "data": {
      "text/plain": [
       "30"
      ]
     },
     "execution_count": 77,
     "metadata": {},
     "output_type": "execute_result"
    }
   ],
   "source": [
    "p1 = Person(30)\n",
    "p1.age"
   ]
  },
  {
   "cell_type": "code",
   "execution_count": 81,
   "id": "406c0099",
   "metadata": {},
   "outputs": [],
   "source": [
    "var =p1.computeAge(1998)"
   ]
  },
  {
   "cell_type": "code",
   "execution_count": 82,
   "id": "39aecab5",
   "metadata": {},
   "outputs": [
    {
     "name": "stdout",
     "output_type": "stream",
     "text": [
      "24\n"
     ]
    }
   ],
   "source": [
    "var.showAge()"
   ]
  },
  {
   "cell_type": "code",
   "execution_count": 83,
   "id": "04ee43d5",
   "metadata": {},
   "outputs": [
    {
     "data": {
      "text/plain": [
       "30"
      ]
     },
     "execution_count": 83,
     "metadata": {},
     "output_type": "execute_result"
    }
   ],
   "source": [
    "p1.age"
   ]
  },
  {
   "cell_type": "code",
   "execution_count": 84,
   "id": "ba3ecff5",
   "metadata": {},
   "outputs": [],
   "source": [
    "class Student:\n",
    "    company = \"Mouritech\"\n",
    "    @classmethod\n",
    "    def change_company(cls, c):\n",
    "        cls.company = c"
   ]
  },
  {
   "cell_type": "code",
   "execution_count": 85,
   "id": "d9555a47",
   "metadata": {},
   "outputs": [],
   "source": [
    "s1 = Student()"
   ]
  },
  {
   "cell_type": "code",
   "execution_count": 86,
   "id": "dca73841",
   "metadata": {},
   "outputs": [
    {
     "data": {
      "text/plain": [
       "'Mouritech'"
      ]
     },
     "execution_count": 86,
     "metadata": {},
     "output_type": "execute_result"
    }
   ],
   "source": [
    "s1.company"
   ]
  },
  {
   "cell_type": "code",
   "execution_count": 87,
   "id": "e56b6144",
   "metadata": {},
   "outputs": [],
   "source": [
    "s1.change_company(\"TCS\")"
   ]
  },
  {
   "cell_type": "code",
   "execution_count": 88,
   "id": "e133fc4d",
   "metadata": {},
   "outputs": [
    {
     "data": {
      "text/plain": [
       "'TCS'"
      ]
     },
     "execution_count": 88,
     "metadata": {},
     "output_type": "execute_result"
    }
   ],
   "source": [
    "s1.company"
   ]
  },
  {
   "cell_type": "code",
   "execution_count": 89,
   "id": "98a033a3",
   "metadata": {},
   "outputs": [],
   "source": [
    "class Student:\n",
    "    company = \"Mouritech\"\n",
    "    def Sun(self,c):\n",
    "        self.company = c\n",
    "    @classmethod\n",
    "    def change_company(cls, c):\n",
    "        cls.company = c"
   ]
  },
  {
   "cell_type": "code",
   "execution_count": 90,
   "id": "bd42d6fc",
   "metadata": {},
   "outputs": [],
   "source": [
    "s1 = Student()\n",
    "s2 = Student()"
   ]
  },
  {
   "cell_type": "code",
   "execution_count": 91,
   "id": "bd588335",
   "metadata": {},
   "outputs": [
    {
     "data": {
      "text/plain": [
       "'Mouritech'"
      ]
     },
     "execution_count": 91,
     "metadata": {},
     "output_type": "execute_result"
    }
   ],
   "source": [
    "s1.company"
   ]
  },
  {
   "cell_type": "code",
   "execution_count": 92,
   "id": "46703dc7",
   "metadata": {},
   "outputs": [
    {
     "data": {
      "text/plain": [
       "'Mouritech'"
      ]
     },
     "execution_count": 92,
     "metadata": {},
     "output_type": "execute_result"
    }
   ],
   "source": [
    "s2.company"
   ]
  },
  {
   "cell_type": "code",
   "execution_count": 93,
   "id": "a9197c5d",
   "metadata": {},
   "outputs": [],
   "source": [
    "s1.Sun(\"TCS\")"
   ]
  },
  {
   "cell_type": "code",
   "execution_count": 94,
   "id": "6cfc805f",
   "metadata": {},
   "outputs": [
    {
     "data": {
      "text/plain": [
       "'TCS'"
      ]
     },
     "execution_count": 94,
     "metadata": {},
     "output_type": "execute_result"
    }
   ],
   "source": [
    "s1.company"
   ]
  },
  {
   "cell_type": "code",
   "execution_count": 95,
   "id": "5532afb1",
   "metadata": {},
   "outputs": [
    {
     "data": {
      "text/plain": [
       "'Mouritech'"
      ]
     },
     "execution_count": 95,
     "metadata": {},
     "output_type": "execute_result"
    }
   ],
   "source": [
    "s2.company"
   ]
  },
  {
   "cell_type": "code",
   "execution_count": 96,
   "id": "62b38be8",
   "metadata": {},
   "outputs": [],
   "source": [
    "s1.change_company(\"capgemini\")"
   ]
  },
  {
   "cell_type": "code",
   "execution_count": 97,
   "id": "fcc42a06",
   "metadata": {},
   "outputs": [
    {
     "data": {
      "text/plain": [
       "'TCS'"
      ]
     },
     "execution_count": 97,
     "metadata": {},
     "output_type": "execute_result"
    }
   ],
   "source": [
    "s1.company"
   ]
  },
  {
   "cell_type": "code",
   "execution_count": 98,
   "id": "a4249f11",
   "metadata": {},
   "outputs": [
    {
     "data": {
      "text/plain": [
       "'capgemini'"
      ]
     },
     "execution_count": 98,
     "metadata": {},
     "output_type": "execute_result"
    }
   ],
   "source": [
    "s2.company"
   ]
  },
  {
   "cell_type": "code",
   "execution_count": 100,
   "id": "ce1486b1",
   "metadata": {},
   "outputs": [
    {
     "data": {
      "text/plain": [
       "'capgemini'"
      ]
     },
     "execution_count": 100,
     "metadata": {},
     "output_type": "execute_result"
    }
   ],
   "source": [
    "s3 = Student()\n",
    "s2.company"
   ]
  },
  {
   "cell_type": "code",
   "execution_count": 101,
   "id": "0a36934c",
   "metadata": {},
   "outputs": [],
   "source": [
    "class Student:\n",
    "    company = \"Mouritech\"\n",
    "    def Sun(self,c):\n",
    "        self.company = c\n",
    "    @classmethod\n",
    "    def change_company(cls, c):\n",
    "        cls.company = c"
   ]
  },
  {
   "cell_type": "code",
   "execution_count": 102,
   "id": "356614a3",
   "metadata": {},
   "outputs": [],
   "source": [
    "s1 = Student()"
   ]
  },
  {
   "cell_type": "code",
   "execution_count": 103,
   "id": "69764d66",
   "metadata": {},
   "outputs": [],
   "source": [
    "s2 = Student()"
   ]
  },
  {
   "cell_type": "code",
   "execution_count": 104,
   "id": "dc2f4240",
   "metadata": {},
   "outputs": [
    {
     "data": {
      "text/plain": [
       "('Mouritech', 'Mouritech')"
      ]
     },
     "execution_count": 104,
     "metadata": {},
     "output_type": "execute_result"
    }
   ],
   "source": [
    "s1.company, s2.company"
   ]
  },
  {
   "cell_type": "code",
   "execution_count": 105,
   "id": "08bc60ff",
   "metadata": {},
   "outputs": [],
   "source": [
    "s1.Sun(\"Google\")"
   ]
  },
  {
   "cell_type": "code",
   "execution_count": 106,
   "id": "b93880f0",
   "metadata": {},
   "outputs": [
    {
     "data": {
      "text/plain": [
       "('Google', 'Mouritech')"
      ]
     },
     "execution_count": 106,
     "metadata": {},
     "output_type": "execute_result"
    }
   ],
   "source": [
    "s1.company, s2.company"
   ]
  },
  {
   "cell_type": "code",
   "execution_count": 107,
   "id": "a6d8311c",
   "metadata": {},
   "outputs": [],
   "source": [
    "s2.change_company(\"TCS\")"
   ]
  },
  {
   "cell_type": "code",
   "execution_count": 108,
   "id": "89f9f671",
   "metadata": {},
   "outputs": [
    {
     "data": {
      "text/plain": [
       "('Google', 'TCS')"
      ]
     },
     "execution_count": 108,
     "metadata": {},
     "output_type": "execute_result"
    }
   ],
   "source": [
    "s1.company, s2.company"
   ]
  },
  {
   "cell_type": "code",
   "execution_count": 110,
   "id": "9231f512",
   "metadata": {},
   "outputs": [],
   "source": [
    "s3 = Student()"
   ]
  },
  {
   "cell_type": "code",
   "execution_count": 111,
   "id": "6e08269c",
   "metadata": {},
   "outputs": [
    {
     "data": {
      "text/plain": [
       "'TCS'"
      ]
     },
     "execution_count": 111,
     "metadata": {},
     "output_type": "execute_result"
    }
   ],
   "source": [
    "s3.company"
   ]
  },
  {
   "cell_type": "markdown",
   "id": "e54b592e",
   "metadata": {},
   "source": [
    "## by using the class method we can modify state of the class"
   ]
  },
  {
   "cell_type": "code",
   "execution_count": 121,
   "id": "f0b2b8ec",
   "metadata": {},
   "outputs": [],
   "source": [
    "class Emp:\n",
    "    def __init__(self,age):\n",
    "        self.age = age\n",
    "  \n",
    "    @classmethod\n",
    "    def byBday(cls, year):\n",
    "        return cls(date.today().year - year)\n",
    "  \n",
    "    def disp(self):\n",
    "        print(\"Emp Age : \", self.age)"
   ]
  },
  {
   "cell_type": "code",
   "execution_count": 124,
   "id": "cbc29326",
   "metadata": {},
   "outputs": [
    {
     "data": {
      "text/plain": [
       "<__main__.Emp at 0x19547179550>"
      ]
     },
     "execution_count": 124,
     "metadata": {},
     "output_type": "execute_result"
    }
   ],
   "source": [
    "emp1 = Emp(21)\n",
    "emp1.byBday(1998)"
   ]
  },
  {
   "cell_type": "code",
   "execution_count": 125,
   "id": "66e33863",
   "metadata": {},
   "outputs": [
    {
     "data": {
      "text/plain": [
       "21"
      ]
     },
     "execution_count": 125,
     "metadata": {},
     "output_type": "execute_result"
    }
   ],
   "source": [
    "emp1.age"
   ]
  },
  {
   "cell_type": "code",
   "execution_count": 126,
   "id": "13661416",
   "metadata": {},
   "outputs": [
    {
     "data": {
      "text/plain": [
       "24"
      ]
     },
     "execution_count": 126,
     "metadata": {},
     "output_type": "execute_result"
    }
   ],
   "source": [
    "emp2.age"
   ]
  },
  {
   "cell_type": "code",
   "execution_count": 142,
   "id": "bc5a4c20",
   "metadata": {},
   "outputs": [],
   "source": [
    "class Messcard:\n",
    "    balance = 5000\n",
    "    def eatBraekfast(self):\n",
    "        self.balance -= 50\n",
    "    def eatLunch(self):\n",
    "        self.balance -=150"
   ]
  },
  {
   "cell_type": "code",
   "execution_count": 143,
   "id": "3a18c11b",
   "metadata": {},
   "outputs": [],
   "source": [
    "ramya = Messcard()"
   ]
  },
  {
   "cell_type": "raw",
   "id": "58474f80",
   "metadata": {},
   "source": [
    "sudeb = Messcard()"
   ]
  },
  {
   "cell_type": "code",
   "execution_count": 144,
   "id": "8f423f5f",
   "metadata": {},
   "outputs": [],
   "source": [
    "ramya.eatLunch()"
   ]
  },
  {
   "cell_type": "raw",
   "id": "30886eed",
   "metadata": {},
   "source": [
    "ramya.balance"
   ]
  },
  {
   "cell_type": "code",
   "execution_count": 145,
   "id": "3712aa62",
   "metadata": {},
   "outputs": [
    {
     "ename": "NameError",
     "evalue": "name 'sudeb' is not defined",
     "output_type": "error",
     "traceback": [
      "\u001b[1;31m---------------------------------------------------------------------------\u001b[0m",
      "\u001b[1;31mNameError\u001b[0m                                 Traceback (most recent call last)",
      "Input \u001b[1;32mIn [145]\u001b[0m, in \u001b[0;36m<cell line: 1>\u001b[1;34m()\u001b[0m\n\u001b[1;32m----> 1\u001b[0m \u001b[43msudeb\u001b[49m\u001b[38;5;241m.\u001b[39mbalance\n",
      "\u001b[1;31mNameError\u001b[0m: name 'sudeb' is not defined"
     ]
    }
   ],
   "source": [
    "sudeb.balance"
   ]
  },
  {
   "cell_type": "code",
   "execution_count": 147,
   "id": "993d9b6f",
   "metadata": {},
   "outputs": [],
   "source": [
    "class MessCard:\n",
    "    balance = 5000\n",
    "    def eatBraekfast(self):\n",
    "        self.balance -= 50\n",
    "    def eatLunch(self):\n",
    "        self.balance -=150"
   ]
  },
  {
   "cell_type": "code",
   "execution_count": 152,
   "id": "813642ec",
   "metadata": {},
   "outputs": [],
   "source": [
    "aditya = MessCard()\n",
    "Sravya = MessCard()"
   ]
  },
  {
   "cell_type": "code",
   "execution_count": 153,
   "id": "97b2c3e4",
   "metadata": {},
   "outputs": [],
   "source": [
    "Sravya.eatLunch()"
   ]
  },
  {
   "cell_type": "code",
   "execution_count": 154,
   "id": "07884009",
   "metadata": {},
   "outputs": [
    {
     "data": {
      "text/plain": [
       "4850"
      ]
     },
     "execution_count": 154,
     "metadata": {},
     "output_type": "execute_result"
    }
   ],
   "source": [
    "Sravya.balance"
   ]
  },
  {
   "cell_type": "code",
   "execution_count": 155,
   "id": "10c3fe66",
   "metadata": {},
   "outputs": [
    {
     "data": {
      "text/plain": [
       "5000"
      ]
     },
     "execution_count": 155,
     "metadata": {},
     "output_type": "execute_result"
    }
   ],
   "source": [
    "aditya.balance"
   ]
  },
  {
   "cell_type": "code",
   "execution_count": 156,
   "id": "265c8ebf",
   "metadata": {},
   "outputs": [],
   "source": [
    "aditya.eatBraekfast()"
   ]
  },
  {
   "cell_type": "code",
   "execution_count": 157,
   "id": "f866c9d6",
   "metadata": {},
   "outputs": [
    {
     "data": {
      "text/plain": [
       "4950"
      ]
     },
     "execution_count": 157,
     "metadata": {},
     "output_type": "execute_result"
    }
   ],
   "source": [
    "aditya.balance"
   ]
  },
  {
   "cell_type": "code",
   "execution_count": 159,
   "id": "d631d642",
   "metadata": {},
   "outputs": [],
   "source": [
    "Sravya.eatBraekfast()"
   ]
  },
  {
   "cell_type": "code",
   "execution_count": 161,
   "id": "d960b279",
   "metadata": {},
   "outputs": [
    {
     "data": {
      "text/plain": [
       "4800"
      ]
     },
     "execution_count": 161,
     "metadata": {},
     "output_type": "execute_result"
    }
   ],
   "source": [
    "Sravya.balance"
   ]
  },
  {
   "cell_type": "markdown",
   "id": "b7e0797d",
   "metadata": {},
   "source": [
    "- Data Hiding\n",
    "- static method\n",
    "- class method\n",
    "- class variable"
   ]
  },
  {
   "cell_type": "markdown",
   "id": "9aa01e73",
   "metadata": {},
   "source": [
    "### Inheritence in python"
   ]
  },
  {
   "cell_type": "code",
   "execution_count": 165,
   "id": "1c2c60cd",
   "metadata": {},
   "outputs": [],
   "source": [
    "class A:\n",
    "    def f1(self):\n",
    "        print(\"I am in class A\")\n",
    "class B:\n",
    "    def f2(self):\n",
    "        print(\"I am in class B\")        "
   ]
  },
  {
   "cell_type": "code",
   "execution_count": 167,
   "id": "7efa4142",
   "metadata": {},
   "outputs": [
    {
     "name": "stdout",
     "output_type": "stream",
     "text": [
      "I am in class A\n",
      "I am in class B\n"
     ]
    }
   ],
   "source": [
    "a1 = A()\n",
    "b1 = B()\n",
    "a1.f1()\n",
    "b1.f2()"
   ]
  },
  {
   "cell_type": "code",
   "execution_count": 169,
   "id": "231a43cb",
   "metadata": {},
   "outputs": [],
   "source": [
    "class C:\n",
    "    def f1(self):\n",
    "        print(\"I am in class A\")\n",
    "class D(C):\n",
    "    def f2(self):\n",
    "        print(\"I am in class B\")"
   ]
  },
  {
   "cell_type": "code",
   "execution_count": 170,
   "id": "5d65d3d8",
   "metadata": {},
   "outputs": [],
   "source": [
    "d1 = D()"
   ]
  },
  {
   "cell_type": "code",
   "execution_count": 171,
   "id": "e58549ef",
   "metadata": {},
   "outputs": [
    {
     "name": "stdout",
     "output_type": "stream",
     "text": [
      "I am in class A\n"
     ]
    }
   ],
   "source": [
    "d1.f1()"
   ]
  },
  {
   "cell_type": "code",
   "execution_count": 172,
   "id": "ba8a7d47",
   "metadata": {},
   "outputs": [
    {
     "name": "stdout",
     "output_type": "stream",
     "text": [
      "I am in class B\n"
     ]
    }
   ],
   "source": [
    "d1.f2()"
   ]
  },
  {
   "cell_type": "code",
   "execution_count": 184,
   "id": "16307515",
   "metadata": {},
   "outputs": [],
   "source": [
    "class F:\n",
    "    def f3(self):\n",
    "        print(\"I am in class F\")\n",
    "        \n",
    "class G:\n",
    "    def f4(self):\n",
    "        print(\"I am in class G\")\n",
    "        \n",
    "class C:\n",
    "    def f1(self):\n",
    "        print(\"I am in class C\")\n",
    "        \n",
    "class D(C, F, G): # multiple inhertitence\n",
    "    def f2(self):\n",
    "        print(\"I am in class D\")"
   ]
  },
  {
   "cell_type": "code",
   "execution_count": 185,
   "id": "396eda31",
   "metadata": {},
   "outputs": [],
   "source": [
    "d1 = D()"
   ]
  },
  {
   "cell_type": "code",
   "execution_count": 186,
   "id": "603f1257",
   "metadata": {},
   "outputs": [
    {
     "name": "stdout",
     "output_type": "stream",
     "text": [
      "I am in class C\n",
      "I am in class D\n",
      "I am in class F\n",
      "I am in class G\n"
     ]
    }
   ],
   "source": [
    "d1.f1()\n",
    "d1.f2()\n",
    "d1.f3()\n",
    "d1.f4()"
   ]
  },
  {
   "cell_type": "code",
   "execution_count": 192,
   "id": "819ffd63",
   "metadata": {},
   "outputs": [],
   "source": [
    "class Programmer:\n",
    "    companyName = \"Mouritech\"\n",
    "    def coding(self):\n",
    "        print(\"I like coding\")\n",
    "class Dancer:\n",
    "    GroupName =\"Mouritech\"\n",
    "    def coding(self):\n",
    "        print(\"I like Bhatatanatya\")\n",
    "class Singer:\n",
    "    bandName = \"Mouritech\"\n",
    "    def singing(self):\n",
    "        print(\"I like singing karthikeya song\")\n",
    "    def playingGuitar(self):\n",
    "        print(\"I like playing guitar\")\n",
    "        "
   ]
  },
  {
   "cell_type": "code",
   "execution_count": 193,
   "id": "057a9c38",
   "metadata": {},
   "outputs": [],
   "source": [
    "class Person(Programmer, Dancer, Singer):\n",
    "    def learn(self):\n",
    "        pass\n",
    "    def walk(self):\n",
    "        pass\n",
    "    def eat(self):\n",
    "        pass"
   ]
  },
  {
   "cell_type": "code",
   "execution_count": 194,
   "id": "67fa0933",
   "metadata": {},
   "outputs": [
    {
     "data": {
      "text/plain": [
       "'Mouritech'"
      ]
     },
     "execution_count": 194,
     "metadata": {},
     "output_type": "execute_result"
    }
   ],
   "source": [
    "p1 = Person()\n",
    "p1.bandName"
   ]
  },
  {
   "cell_type": "code",
   "execution_count": 197,
   "id": "247aa66e",
   "metadata": {},
   "outputs": [],
   "source": [
    "class Vehicle():\n",
    "    def fuleAmount(self):\n",
    "        print(\"I like fuelamount\")\n",
    "    def capacity(self):\n",
    "        print(\"I like capacity\")\n",
    "    def applyBreaks(self):\n",
    "        print(\"I like aplybreaks\")\n",
    "class Bus(Vehicle):\n",
    "    companyName=\"AshokLeyland\"\n",
    "    def sleeper(self):\n",
    "        print(\"I like sleeper bus\")\n",
    "class Truck(Vehicle):\n",
    "    groupName=\"Volvo\"\n",
    "    def opentruck(self):\n",
    "        print(\"I like truck\")\n",
    "class Car(Vehicle):\n",
    "    bandName=\"Tata\"\n",
    "    def suv(self):\n",
    "        print(\"I like suv\")\n",
    "    def sedan(self):\n",
    "        print(\"I like sedan\")\n",
    "\n",
    "class Punch(car):\n",
    "    make = 'Tata'\n",
    "    def engine(self):\n",
    "        print(\"1299cc\")\n",
    "    def seating(self):\n",
    "        print(\"5 seater\")"
   ]
  },
  {
   "cell_type": "markdown",
   "id": "bbeee2a3",
   "metadata": {},
   "source": [
    "### Method oveeriding or function overriding "
   ]
  },
  {
   "cell_type": "code",
   "execution_count": 213,
   "id": "18627c3c",
   "metadata": {},
   "outputs": [],
   "source": [
    "class Ramya:\n",
    "    def f1(self):\n",
    "        print(\"I am in ramya class\")\n",
    "class Sudeb:\n",
    "    def f1(self):\n",
    "        super().f1()\n",
    "        print(\"I am in Sudeb class\")\n",
    "class Mouritech(Ramya, Sudeb):\n",
    "    pass"
   ]
  },
  {
   "cell_type": "code",
   "execution_count": 214,
   "id": "1be1dba8",
   "metadata": {},
   "outputs": [],
   "source": [
    "m1 = Mouritech()"
   ]
  },
  {
   "cell_type": "code",
   "execution_count": 215,
   "id": "ca06f762",
   "metadata": {},
   "outputs": [
    {
     "name": "stdout",
     "output_type": "stream",
     "text": [
      "I am in ramya class\n",
      "I am in Sudeb class\n"
     ]
    }
   ],
   "source": [
    "m1.f1() #we will get output in the sequence we provide for inheritence"
   ]
  },
  {
   "cell_type": "code",
   "execution_count": null,
   "id": "245ba541",
   "metadata": {},
   "outputs": [],
   "source": []
  }
 ],
 "metadata": {
  "kernelspec": {
   "display_name": "Python 3 (ipykernel)",
   "language": "python",
   "name": "python3"
  },
  "language_info": {
   "codemirror_mode": {
    "name": "ipython",
    "version": 3
   },
   "file_extension": ".py",
   "mimetype": "text/x-python",
   "name": "python",
   "nbconvert_exporter": "python",
   "pygments_lexer": "ipython3",
   "version": "3.9.12"
  }
 },
 "nbformat": 4,
 "nbformat_minor": 5
}
