{
 "cells": [
  {
   "cell_type": "markdown",
   "id": "4db1b67d",
   "metadata": {},
   "source": [
    "# File Handling in Python"
   ]
  },
  {
   "cell_type": "markdown",
   "id": "46929c38",
   "metadata": {},
   "source": [
    " file is a set of data used for reading writing and executing explicit operation on file-open,rename...."
   ]
  },
  {
   "cell_type": "code",
   "execution_count": 2,
   "id": "7672b4ac",
   "metadata": {},
   "outputs": [
    {
     "ename": "FileNotFoundError",
     "evalue": "[Errno 2] No such file or directory: 'Ramya.txt'",
     "output_type": "error",
     "traceback": [
      "\u001b[1;31m---------------------------------------------------------------------------\u001b[0m",
      "\u001b[1;31mFileNotFoundError\u001b[0m                         Traceback (most recent call last)",
      "Input \u001b[1;32mIn [2]\u001b[0m, in \u001b[0;36m<cell line: 1>\u001b[1;34m()\u001b[0m\n\u001b[1;32m----> 1\u001b[0m f1 \u001b[38;5;241m=\u001b[39m \u001b[38;5;28;43mopen\u001b[39;49m\u001b[43m(\u001b[49m\u001b[38;5;124;43m\"\u001b[39;49m\u001b[38;5;124;43mRamya.txt\u001b[39;49m\u001b[38;5;124;43m\"\u001b[39;49m\u001b[43m)\u001b[49m\n",
      "\u001b[1;31mFileNotFoundError\u001b[0m: [Errno 2] No such file or directory: 'Ramya.txt'"
     ]
    }
   ],
   "source": [
    "f1 = open(\"Ramya.txt\")"
   ]
  },
  {
   "cell_type": "code",
   "execution_count": 3,
   "id": "27ad43f1",
   "metadata": {},
   "outputs": [],
   "source": [
    "# Above cell,since there is no Ramya,txt available, we are getting error. "
   ]
  },
  {
   "cell_type": "code",
   "execution_count": 7,
   "id": "c16da967",
   "metadata": {},
   "outputs": [],
   "source": [
    "f2 = open(\"ramya.txt\", \"w\")\n",
    "f2.write(\" This is My first file program\")\n",
    "f2.write(\"\\nThis will be my second line\")\n",
    "f2.close()"
   ]
  },
  {
   "cell_type": "code",
   "execution_count": 8,
   "id": "f580b795",
   "metadata": {},
   "outputs": [],
   "source": [
    "f2 = open(\"ramya.txt\", \"w\")\n",
    "f2.write(\"\\n This will be my second line\")\n",
    "f2.close()"
   ]
  },
  {
   "cell_type": "code",
   "execution_count": 17,
   "id": "7fcbf4d4",
   "metadata": {},
   "outputs": [],
   "source": [
    "#write mode always overide the existing data"
   ]
  },
  {
   "cell_type": "code",
   "execution_count": 15,
   "id": "655c2cee",
   "metadata": {},
   "outputs": [],
   "source": [
    "# to avoid override we use \"a\" which appends data to existing file\n",
    "f2 = open(\"ramya.txt\", \"a\")\n",
    "f2.write(\"\\n This is new sentence\")\n",
    "f2.close()"
   ]
  },
  {
   "cell_type": "code",
   "execution_count": 19,
   "id": "62031c2c",
   "metadata": {},
   "outputs": [
    {
     "name": "stdout",
     "output_type": "stream",
     "text": [
      "\n",
      " This will be my second line\n",
      " This is new sentence\n",
      " This is new sentence\n"
     ]
    }
   ],
   "source": [
    "# to read the file content we use read function\n",
    "f3 = open(\"ramya.txt\")\n",
    "print(f3.read())\n",
    "f3.close()"
   ]
  },
  {
   "cell_type": "code",
   "execution_count": 22,
   "id": "aca8e69d",
   "metadata": {},
   "outputs": [
    {
     "name": "stdout",
     "output_type": "stream",
     "text": [
      "\n",
      " This will be my second line\n",
      " This is new sentence\n",
      " This is new sentence\n"
     ]
    }
   ],
   "source": [
    "#read every line as list\n",
    "f3 = open(\"ramya.txt\",\"r\")\n",
    "print(f3.read())\n",
    "f3.close()"
   ]
  },
  {
   "cell_type": "code",
   "execution_count": 27,
   "id": "02ca8bcf",
   "metadata": {},
   "outputs": [
    {
     "name": "stdout",
     "output_type": "stream",
     "text": [
      "Tu jo roota to kaun hansega\n",
      "Tu jo chhoota toh kaun rahega\n",
      "Tu chup hai toh yeh darr lagta hai\n",
      "Apna mujhko ko ab kaun kahega\n"
     ]
    }
   ],
   "source": [
    "song = open(r\"C:\\Users\\ramyatr\\Music\\hinditext.txt\", \"r\", encoding=\"utf-8\")\n",
    "print(song.read())\n",
    "song.close()"
   ]
  },
  {
   "cell_type": "code",
   "execution_count": 28,
   "id": "f7032d92",
   "metadata": {},
   "outputs": [
    {
     "name": "stdout",
     "output_type": "stream",
     "text": [
      "['Tu jo roota to kaun hansega\\n', 'Tu jo chhoota toh kaun rahega\\n', 'Tu chup hai toh yeh darr lagta hai\\n', 'Apna mujhko ko ab kaun kahega']\n"
     ]
    }
   ],
   "source": [
    "song = open(r\"C:\\Users\\ramyatr\\Music\\hinditext.txt\", \"r\", encoding=\"utf-8\")\n",
    "print(song.readlines())\n",
    "song.close()"
   ]
  },
  {
   "cell_type": "code",
   "execution_count": 30,
   "id": "98c65810",
   "metadata": {},
   "outputs": [
    {
     "name": "stdout",
     "output_type": "stream",
     "text": [
      "Tu jo roota to kaun hansega\n",
      "\n",
      "Tu jo chhoota toh kaun rahega\n",
      "Tu chup hai toh yeh darr lagta hai\n",
      "Apna mujhko ko ab kaun kahega\n"
     ]
    }
   ],
   "source": [
    "song = open(r\"C:\\Users\\ramyatr\\Music\\hinditext.txt\", \"r\", encoding=\"utf-8\")\n",
    "print(song.readline())# function to read one line\n",
    "print(song.read())\n",
    "song.close()"
   ]
  },
  {
   "cell_type": "code",
   "execution_count": 31,
   "id": "951bca4c",
   "metadata": {},
   "outputs": [
    {
     "name": "stdout",
     "output_type": "stream",
     "text": [
      "Tu \n"
     ]
    }
   ],
   "source": [
    "song = open(r\"C:\\Users\\ramyatr\\Music\\hinditext.txt\", \"r\", encoding=\"utf-8\")\n",
    "print(song.read(3))\n",
    "song.close()"
   ]
  },
  {
   "cell_type": "code",
   "execution_count": 17,
   "id": "679b71a3",
   "metadata": {},
   "outputs": [],
   "source": [
    "#example of writing telugu song\n",
    "#triple quote to accept multi line sentence as one sentence(to accept new line)\n",
    "rrr = open(\"telugulyrics.txt\",\"w\", encoding=\"utf-8\")\n",
    "rrr.write(\"\"\"గిర గిర గిర తిరగలి లాగా… తిరిగి అరిగిపోయినా, దినుసే నలగా లేదులే\n",
    "హొయ్ హొయ్ హొయ్ హొయ్…\n",
    "అలుపెరగక తనవెనకాలే అలసి సొలసి పోయినా… మనసే కరగా లేదులే…\n",
    "హొయ్ హొయ్ హొయ్ హొయ్…\n",
    "చినదేమో తిరిగే చూడదే… ప్రేమంటే అసలే పడదే, హోయ్…\"\"\")\n",
    "rrr.close()"
   ]
  },
  {
   "cell_type": "code",
   "execution_count": 39,
   "id": "34ed7671",
   "metadata": {},
   "outputs": [
    {
     "ename": "UnicodeDecodeError",
     "evalue": "'utf-8' codec can't decode byte 0xb0 in position 100: invalid start byte",
     "output_type": "error",
     "traceback": [
      "\u001b[1;31m---------------------------------------------------------------------------\u001b[0m",
      "\u001b[1;31mUnicodeDecodeError\u001b[0m                        Traceback (most recent call last)",
      "Input \u001b[1;32mIn [39]\u001b[0m, in \u001b[0;36m<cell line: 2>\u001b[1;34m()\u001b[0m\n\u001b[0;32m      1\u001b[0m ramya\u001b[38;5;241m=\u001b[39m \u001b[38;5;28mopen\u001b[39m(\u001b[38;5;124m\"\u001b[39m\u001b[38;5;124mtelugulyrics.txt\u001b[39m\u001b[38;5;124m\"\u001b[39m, encoding\u001b[38;5;241m=\u001b[39m\u001b[38;5;124m\"\u001b[39m\u001b[38;5;124mutf-8\u001b[39m\u001b[38;5;124m\"\u001b[39m) \u001b[38;5;66;03m#by default mode is r\u001b[39;00m\n\u001b[1;32m----> 2\u001b[0m \u001b[38;5;28mprint\u001b[39m(\u001b[43mramya\u001b[49m\u001b[38;5;241;43m.\u001b[39;49m\u001b[43mread\u001b[49m\u001b[43m(\u001b[49m\u001b[43m)\u001b[49m)\n\u001b[0;32m      3\u001b[0m ramya\u001b[38;5;241m.\u001b[39mclose()\n",
      "File \u001b[1;32m~\\Anaconda3\\lib\\codecs.py:322\u001b[0m, in \u001b[0;36mBufferedIncrementalDecoder.decode\u001b[1;34m(self, input, final)\u001b[0m\n\u001b[0;32m    319\u001b[0m \u001b[38;5;28;01mdef\u001b[39;00m \u001b[38;5;21mdecode\u001b[39m(\u001b[38;5;28mself\u001b[39m, \u001b[38;5;28minput\u001b[39m, final\u001b[38;5;241m=\u001b[39m\u001b[38;5;28;01mFalse\u001b[39;00m):\n\u001b[0;32m    320\u001b[0m     \u001b[38;5;66;03m# decode input (taking the buffer into account)\u001b[39;00m\n\u001b[0;32m    321\u001b[0m     data \u001b[38;5;241m=\u001b[39m \u001b[38;5;28mself\u001b[39m\u001b[38;5;241m.\u001b[39mbuffer \u001b[38;5;241m+\u001b[39m \u001b[38;5;28minput\u001b[39m\n\u001b[1;32m--> 322\u001b[0m     (result, consumed) \u001b[38;5;241m=\u001b[39m \u001b[38;5;28;43mself\u001b[39;49m\u001b[38;5;241;43m.\u001b[39;49m\u001b[43m_buffer_decode\u001b[49m\u001b[43m(\u001b[49m\u001b[43mdata\u001b[49m\u001b[43m,\u001b[49m\u001b[43m \u001b[49m\u001b[38;5;28;43mself\u001b[39;49m\u001b[38;5;241;43m.\u001b[39;49m\u001b[43merrors\u001b[49m\u001b[43m,\u001b[49m\u001b[43m \u001b[49m\u001b[43mfinal\u001b[49m\u001b[43m)\u001b[49m\n\u001b[0;32m    323\u001b[0m     \u001b[38;5;66;03m# keep undecoded input until the next call\u001b[39;00m\n\u001b[0;32m    324\u001b[0m     \u001b[38;5;28mself\u001b[39m\u001b[38;5;241m.\u001b[39mbuffer \u001b[38;5;241m=\u001b[39m data[consumed:]\n",
      "\u001b[1;31mUnicodeDecodeError\u001b[0m: 'utf-8' codec can't decode byte 0xb0 in position 100: invalid start byte"
     ]
    }
   ],
   "source": [
    "ramya= open(\"telugulyrics.txt\", encoding=\"utf-8\") #by default mode is r\n",
    "print(ramya.read())\n",
    "ramya.close()"
   ]
  },
  {
   "cell_type": "code",
   "execution_count": 39,
   "id": "1b857a43",
   "metadata": {},
   "outputs": [
    {
     "name": "stdout",
     "output_type": "stream",
     "text": [
      "\n",
      "-----\n",
      " -                    Ramya\n",
      " -\n",
      "\n"
     ]
    }
   ],
   "source": [
    "print(\"\"\"\n",
    "-----\n",
    " -                    Ramya\n",
    " -\n",
    "\"\"\")"
   ]
  },
  {
   "cell_type": "code",
   "execution_count": 40,
   "id": "ddbc28a3",
   "metadata": {},
   "outputs": [],
   "source": [
    "# Write a program to generate even in even file odd number is odd file"
   ]
  },
  {
   "cell_type": "code",
   "execution_count": null,
   "id": "679b8135",
   "metadata": {},
   "outputs": [],
   "source": [
    "even = open(\"even.txt\", \"w\")\n",
    "odd = open(\"odd.txt\", \"w\")\n",
    "for i in range(1,100):\n",
    "    if i%2==0:\n",
    "        even.write(str(i)+\"\")\n",
    "    else:\n",
    "        odd.write(str(i)+\"\")\n",
    "    \n",
    "even.close()\n",
    "odd.close()\n",
    "# to write content in file, the writing characters should of type string"
   ]
  },
  {
   "cell_type": "code",
   "execution_count": 2,
   "id": "bb30a9c1",
   "metadata": {
    "scrolled": false
   },
   "outputs": [
    {
     "name": "stdout",
     "output_type": "stream",
     "text": [
      "56734\n"
     ]
    }
   ],
   "source": [
    "num = int(input())\n",
    "file = open(\"file.txt\", \"w\")\n",
    "file.write(\"f{num} is even number\") if num%2== 0 else file.write(f\"{num} is odd number\")\n",
    "file.write(f\"\\n{num} reverse is {str(num)[::-1]}\")\n",
    "file.close()"
   ]
  },
  {
   "cell_type": "code",
   "execution_count": null,
   "id": "4f0f6b02",
   "metadata": {},
   "outputs": [],
   "source": [
    "# binary file in python (reading, writing)"
   ]
  },
  {
   "cell_type": "code",
   "execution_count": 4,
   "id": "9a6ddfd6",
   "metadata": {},
   "outputs": [],
   "source": [
    "f4 = open(\"file.bin\", \"wb\")\n",
    "f4.write(b\"this is a binary file demo\")\n",
    "f4.close()"
   ]
  },
  {
   "cell_type": "code",
   "execution_count": 6,
   "id": "9987ed85",
   "metadata": {},
   "outputs": [
    {
     "ename": "FileNotFoundError",
     "evalue": "[Errno 2] No such file or directory: 'file'",
     "output_type": "error",
     "traceback": [
      "\u001b[1;31m---------------------------------------------------------------------------\u001b[0m",
      "\u001b[1;31mFileNotFoundError\u001b[0m                         Traceback (most recent call last)",
      "Input \u001b[1;32mIn [6]\u001b[0m, in \u001b[0;36m<cell line: 1>\u001b[1;34m()\u001b[0m\n\u001b[1;32m----> 1\u001b[0m f5 \u001b[38;5;241m=\u001b[39m \u001b[38;5;28;43mopen\u001b[39;49m\u001b[43m(\u001b[49m\u001b[38;5;124;43m\"\u001b[39;49m\u001b[38;5;124;43mfile\u001b[39;49m\u001b[38;5;124;43m\"\u001b[39;49m\u001b[43m,\u001b[49m\u001b[38;5;124;43m\"\u001b[39;49m\u001b[38;5;124;43mrb\u001b[39;49m\u001b[38;5;124;43m\"\u001b[39;49m\u001b[43m)\u001b[49m\n\u001b[0;32m      2\u001b[0m \u001b[38;5;28mprint\u001b[39m(f5\u001b[38;5;241m.\u001b[39mread()\u001b[38;5;241m.\u001b[39mdecode())\n\u001b[0;32m      3\u001b[0m f5\u001b[38;5;241m.\u001b[39mclose()\n",
      "\u001b[1;31mFileNotFoundError\u001b[0m: [Errno 2] No such file or directory: 'file'"
     ]
    }
   ],
   "source": [
    "f5 = open(\"file\",\"rb\")\n",
    "print(f5.read().decode())\n",
    "f5.close()"
   ]
  },
  {
   "cell_type": "code",
   "execution_count": 34,
   "id": "d2d61a46",
   "metadata": {},
   "outputs": [
    {
     "name": "stdout",
     "output_type": "stream",
     "text": [
      "à°",
      "à°²à±à°ªà±à°°à°à° à°¤à°¨à°µà±à°¨à°à°¾à°²à± à°",
      "à°²à°¸à°¿ à°¸à±à°²à°¸à°¿ à°ªà±à°¯à°¿à°¨à°¾°ªà±à°¯à°¿à°¨à°¾, à°¦à°¿à°¨à±à°¸à± à°¨à°²à°à°¾ à°²à±à°¦à±à°²à±\n",
      "à°¹à±à°¯à± à°¹à±à°¯à± à°¹à±à°¯à± à°¹à±à°¯à±â¦\n",
      "à°",
      "à°²à±à°ªà±à°°à°à° à°¤à°¨à°µà±à°¨à°à°¾à°²à± à°",
      "à°²à°¸à°¿ à°¸à±à°²à°¸à°¿ à°ªà±à°¯à°¿à°¨à°¾â¦ à°®à°¨à°¸à± à°à°°à°à°¾ à°²à±à°¦à±à°²à±â¦\n",
      "à°¹à±à°¯à± à°¹à±à°¯à± à°¹à±à°¯à± à°¹à±à°¯à±â¦\n",
      "à°à°¿à°¨à°¦à±à°®à± à°¤à°¿à°°à°¿à°à± à°à±à°¡à°¦à±â¦ à°ªà±à°°à±à°®à°à°à± à°",
      "à°¸à°²à± à°ªà°¡à°¦à±, à°¹à±à°¯à±â¦\n"
     ]
    }
   ],
   "source": [
    "f6 = open(\"telugulyrics.txt\", \"r+\", encoding=\"latin-1\")\n",
    "print(f6.read())\n",
    "f6.close()"
   ]
  },
  {
   "cell_type": "code",
   "execution_count": 28,
   "id": "d8d81f7b",
   "metadata": {},
   "outputs": [],
   "source": [
    "f6 = open(\"telugulyrics.txt\", \"r+\", encoding=\"utf-8\")\n",
    "f6.write(\"song deleted by ramya tr\")\n",
    "f6.close()"
   ]
  },
  {
   "cell_type": "code",
   "execution_count": 36,
   "id": "12302f5b",
   "metadata": {},
   "outputs": [],
   "source": [
    "f6 = open(\"telugulyrics.txt\", \"r+\", encoding=\"utf-8\")\n",
    "f6.write(\"అలుపెరగక తనవెనకాలే అలసి సొలసి పోయినా\")\n",
    "f6.close()"
   ]
  },
  {
   "cell_type": "code",
   "execution_count": 26,
   "id": "ec404e63",
   "metadata": {},
   "outputs": [
    {
     "name": "stdout",
     "output_type": "stream",
     "text": [
      "\n",
      " This will be my second line\n",
      " This is new sentence\n",
      " This is new sentence\n"
     ]
    }
   ],
   "source": [
    "f7 = open(\"ramya.txt\", \"r+\")\n",
    "print(f7.read())\n",
    "f7.close()"
   ]
  },
  {
   "cell_type": "code",
   "execution_count": 27,
   "id": "5c715557",
   "metadata": {},
   "outputs": [],
   "source": [
    "f6 = open(\"ramya.txt\", \"r+\")\n",
    "f6.write(\"additional english by ramya\")\n",
    "f6.close()"
   ]
  },
  {
   "cell_type": "code",
   "execution_count": 31,
   "id": "66bcb6ed",
   "metadata": {},
   "outputs": [],
   "source": [
    "# Note: r+ works well only with language english, regional language it may give error until extra precaution is taken "
   ]
  },
  {
   "cell_type": "code",
   "execution_count": 32,
   "id": "fc6abe28",
   "metadata": {},
   "outputs": [],
   "source": [
    "# with operator close the file automatically "
   ]
  },
  {
   "cell_type": "code",
   "execution_count": 37,
   "id": "b44f519a",
   "metadata": {},
   "outputs": [
    {
     "ename": "UnicodeDecodeError",
     "evalue": "'utf-8' codec can't decode byte 0xb0 in position 100: invalid start byte",
     "output_type": "error",
     "traceback": [
      "\u001b[1;31m---------------------------------------------------------------------------\u001b[0m",
      "\u001b[1;31mUnicodeDecodeError\u001b[0m                        Traceback (most recent call last)",
      "Input \u001b[1;32mIn [37]\u001b[0m, in \u001b[0;36m<cell line: 1>\u001b[1;34m()\u001b[0m\n\u001b[0;32m      1\u001b[0m \u001b[38;5;28;01mwith\u001b[39;00m \u001b[38;5;28mopen\u001b[39m(\u001b[38;5;124m\"\u001b[39m\u001b[38;5;124mtelugulyrics.txt\u001b[39m\u001b[38;5;124m\"\u001b[39m, encoding\u001b[38;5;241m=\u001b[39m\u001b[38;5;124m\"\u001b[39m\u001b[38;5;124mutf-8\u001b[39m\u001b[38;5;124m\"\u001b[39m) \u001b[38;5;28;01mas\u001b[39;00m f9:\n\u001b[1;32m----> 2\u001b[0m     \u001b[38;5;28mprint\u001b[39m(\u001b[43mf9\u001b[49m\u001b[38;5;241;43m.\u001b[39;49m\u001b[43mread\u001b[49m\u001b[43m(\u001b[49m\u001b[43m)\u001b[49m)\n",
      "File \u001b[1;32m~\\Anaconda3\\lib\\codecs.py:322\u001b[0m, in \u001b[0;36mBufferedIncrementalDecoder.decode\u001b[1;34m(self, input, final)\u001b[0m\n\u001b[0;32m    319\u001b[0m \u001b[38;5;28;01mdef\u001b[39;00m \u001b[38;5;21mdecode\u001b[39m(\u001b[38;5;28mself\u001b[39m, \u001b[38;5;28minput\u001b[39m, final\u001b[38;5;241m=\u001b[39m\u001b[38;5;28;01mFalse\u001b[39;00m):\n\u001b[0;32m    320\u001b[0m     \u001b[38;5;66;03m# decode input (taking the buffer into account)\u001b[39;00m\n\u001b[0;32m    321\u001b[0m     data \u001b[38;5;241m=\u001b[39m \u001b[38;5;28mself\u001b[39m\u001b[38;5;241m.\u001b[39mbuffer \u001b[38;5;241m+\u001b[39m \u001b[38;5;28minput\u001b[39m\n\u001b[1;32m--> 322\u001b[0m     (result, consumed) \u001b[38;5;241m=\u001b[39m \u001b[38;5;28;43mself\u001b[39;49m\u001b[38;5;241;43m.\u001b[39;49m\u001b[43m_buffer_decode\u001b[49m\u001b[43m(\u001b[49m\u001b[43mdata\u001b[49m\u001b[43m,\u001b[49m\u001b[43m \u001b[49m\u001b[38;5;28;43mself\u001b[39;49m\u001b[38;5;241;43m.\u001b[39;49m\u001b[43merrors\u001b[49m\u001b[43m,\u001b[49m\u001b[43m \u001b[49m\u001b[43mfinal\u001b[49m\u001b[43m)\u001b[49m\n\u001b[0;32m    323\u001b[0m     \u001b[38;5;66;03m# keep undecoded input until the next call\u001b[39;00m\n\u001b[0;32m    324\u001b[0m     \u001b[38;5;28mself\u001b[39m\u001b[38;5;241m.\u001b[39mbuffer \u001b[38;5;241m=\u001b[39m data[consumed:]\n",
      "\u001b[1;31mUnicodeDecodeError\u001b[0m: 'utf-8' codec can't decode byte 0xb0 in position 100: invalid start byte"
     ]
    }
   ],
   "source": [
    "with open(\"telugulyrics.txt\", encoding=\"utf-8\") as f9:\n",
    "    print(f9.read())"
   ]
  },
  {
   "cell_type": "code",
   "execution_count": 40,
   "id": "a3a92915",
   "metadata": {},
   "outputs": [],
   "source": [
    "with open(\"demo.txt\",\"w\") as demo:\n",
    "    demo.write(\"\\nIt is useing git operator\")"
   ]
  },
  {
   "cell_type": "code",
   "execution_count": null,
   "id": "7d65c009",
   "metadata": {},
   "outputs": [],
   "source": [
    "#wap to reverse the content of given file \n"
   ]
  }
 ],
 "metadata": {
  "kernelspec": {
   "display_name": "Python 3 (ipykernel)",
   "language": "python",
   "name": "python3"
  },
  "language_info": {
   "codemirror_mode": {
    "name": "ipython",
    "version": 3
   },
   "file_extension": ".py",
   "mimetype": "text/x-python",
   "name": "python",
   "nbconvert_exporter": "python",
   "pygments_lexer": "ipython3",
   "version": "3.9.12"
  }
 },
 "nbformat": 4,
 "nbformat_minor": 5
}
