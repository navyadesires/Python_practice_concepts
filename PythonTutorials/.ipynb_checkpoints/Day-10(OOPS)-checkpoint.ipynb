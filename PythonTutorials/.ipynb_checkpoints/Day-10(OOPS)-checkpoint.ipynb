{
 "cells": [
  {
   "cell_type": "markdown",
   "id": "e44ddbb1",
   "metadata": {},
   "source": [
    "# Day10"
   ]
  },
  {
   "cell_type": "markdown",
   "id": "105cd2ff",
   "metadata": {},
   "source": [
    "### Object oriented programming Concepts"
   ]
  },
  {
   "cell_type": "markdown",
   "id": "14a6a3a0",
   "metadata": {},
   "source": [
    "###object oriented Paradigm Scheme-OOPS full form"
   ]
  },
  {
   "cell_type": "markdown",
   "id": "7e3a8ab6",
   "metadata": {},
   "source": [
    ".class"
   ]
  },
  {
   "cell_type": "markdown",
   "id": "7174b43d",
   "metadata": {},
   "source": [
    ".object"
   ]
  },
  {
   "cell_type": "markdown",
   "id": "fb729ee8",
   "metadata": {},
   "source": [
    "what is class?\n",
    "Class is a collection of state and behaviour"
   ]
  },
  {
   "cell_type": "markdown",
   "id": "1c28cf14",
   "metadata": {},
   "source": [
    "State-variable"
   ]
  },
  {
   "cell_type": "markdown",
   "id": "6ce835a6",
   "metadata": {},
   "source": [
    "behaviour-Function"
   ]
  },
  {
   "cell_type": "code",
   "execution_count": 5,
   "id": "34bc628a",
   "metadata": {},
   "outputs": [],
   "source": [
    "# class starts with captial in java so we use the same here\n",
    "class Dog:\n",
    "    pass"
   ]
  },
  {
   "cell_type": "code",
   "execution_count": 6,
   "id": "dc9c9549",
   "metadata": {},
   "outputs": [
    {
     "name": "stdout",
     "output_type": "stream",
     "text": [
      "Help on class Dog in module __main__:\n",
      "\n",
      "class Dog(builtins.object)\n",
      " |  Data descriptors defined here:\n",
      " |  \n",
      " |  __dict__\n",
      " |      dictionary for instance variables (if defined)\n",
      " |  \n",
      " |  __weakref__\n",
      " |      list of weak references to the object (if defined)\n",
      "\n"
     ]
    }
   ],
   "source": [
    "help(Dog)"
   ]
  },
  {
   "cell_type": "code",
   "execution_count": 7,
   "id": "e46c41c8",
   "metadata": {},
   "outputs": [
    {
     "data": {
      "text/plain": [
       "['__class__',\n",
       " '__delattr__',\n",
       " '__dict__',\n",
       " '__dir__',\n",
       " '__doc__',\n",
       " '__eq__',\n",
       " '__format__',\n",
       " '__ge__',\n",
       " '__getattribute__',\n",
       " '__gt__',\n",
       " '__hash__',\n",
       " '__init__',\n",
       " '__init_subclass__',\n",
       " '__le__',\n",
       " '__lt__',\n",
       " '__module__',\n",
       " '__ne__',\n",
       " '__new__',\n",
       " '__reduce__',\n",
       " '__reduce_ex__',\n",
       " '__repr__',\n",
       " '__setattr__',\n",
       " '__sizeof__',\n",
       " '__str__',\n",
       " '__subclasshook__',\n",
       " '__weakref__']"
      ]
     },
     "execution_count": 7,
     "metadata": {},
     "output_type": "execute_result"
    }
   ],
   "source": [
    "dir(Dog)"
   ]
  },
  {
   "cell_type": "code",
   "execution_count": 21,
   "id": "d46e2c0b",
   "metadata": {},
   "outputs": [],
   "source": [
    "#class with a body:\n",
    "class Dog:\n",
    "    name = \"Tommy\"\n",
    "    breed = \"Bulldog\"\n",
    "    price = 15000.456 \n",
    "    color = \"Cream\"\n",
    "# Above are the properties of the Dog or state of the Dog.\n",
    "    def bite():\n",
    "        print(\"Dog Bites causes Rabies\", breed)\n",
    "    def bark():\n",
    "        print(\"Dog barks at strangers\")"
   ]
  },
  {
   "cell_type": "code",
   "execution_count": 22,
   "id": "e8ab82a5",
   "metadata": {
    "collapsed": true
   },
   "outputs": [
    {
     "name": "stdout",
     "output_type": "stream",
     "text": [
      "Help on class Dog in module __main__:\n",
      "\n",
      "class Dog(builtins.object)\n",
      " |  Methods defined here:\n",
      " |  \n",
      " |  bark()\n",
      " |  \n",
      " |  bite()\n",
      " |  \n",
      " |  ----------------------------------------------------------------------\n",
      " |  Data descriptors defined here:\n",
      " |  \n",
      " |  __dict__\n",
      " |      dictionary for instance variables (if defined)\n",
      " |  \n",
      " |  __weakref__\n",
      " |      list of weak references to the object (if defined)\n",
      " |  \n",
      " |  ----------------------------------------------------------------------\n",
      " |  Data and other attributes defined here:\n",
      " |  \n",
      " |  breed = 'Bulldog'\n",
      " |  \n",
      " |  color = 'Cream'\n",
      " |  \n",
      " |  name = 'Tommy'\n",
      " |  \n",
      " |  price = 15000.456\n",
      "\n"
     ]
    }
   ],
   "source": [
    "help(Dog)"
   ]
  },
  {
   "cell_type": "code",
   "execution_count": 23,
   "id": "389a817f",
   "metadata": {
    "collapsed": true
   },
   "outputs": [
    {
     "data": {
      "text/plain": [
       "['__class__',\n",
       " '__delattr__',\n",
       " '__dict__',\n",
       " '__dir__',\n",
       " '__doc__',\n",
       " '__eq__',\n",
       " '__format__',\n",
       " '__ge__',\n",
       " '__getattribute__',\n",
       " '__gt__',\n",
       " '__hash__',\n",
       " '__init__',\n",
       " '__init_subclass__',\n",
       " '__le__',\n",
       " '__lt__',\n",
       " '__module__',\n",
       " '__ne__',\n",
       " '__new__',\n",
       " '__reduce__',\n",
       " '__reduce_ex__',\n",
       " '__repr__',\n",
       " '__setattr__',\n",
       " '__sizeof__',\n",
       " '__str__',\n",
       " '__subclasshook__',\n",
       " '__weakref__',\n",
       " 'bark',\n",
       " 'bite',\n",
       " 'breed',\n",
       " 'color',\n",
       " 'name',\n",
       " 'price']"
      ]
     },
     "execution_count": 23,
     "metadata": {},
     "output_type": "execute_result"
    }
   ],
   "source": [
    "dir(Dog) # Does be the same with additional parameter like state and behaviour."
   ]
  },
  {
   "cell_type": "markdown",
   "id": "f6612b0f",
   "metadata": {},
   "source": [
    "# Create of object"
   ]
  },
  {
   "cell_type": "code",
   "execution_count": 24,
   "id": "ca95ca5f",
   "metadata": {},
   "outputs": [],
   "source": [
    "d1 = Dog"
   ]
  },
  {
   "cell_type": "code",
   "execution_count": 25,
   "id": "f831914f",
   "metadata": {},
   "outputs": [
    {
     "data": {
      "text/plain": [
       "__main__.Dog"
      ]
     },
     "execution_count": 25,
     "metadata": {},
     "output_type": "execute_result"
    }
   ],
   "source": [
    "d1"
   ]
  },
  {
   "cell_type": "code",
   "execution_count": 26,
   "id": "14bc7a10",
   "metadata": {},
   "outputs": [
    {
     "data": {
      "text/plain": [
       "type"
      ]
     },
     "execution_count": 26,
     "metadata": {},
     "output_type": "execute_result"
    }
   ],
   "source": [
    "type(d1) #d1 is not a kind of object. it's reffrence kind of variable "
   ]
  },
  {
   "cell_type": "code",
   "execution_count": 27,
   "id": "ba5448d8",
   "metadata": {},
   "outputs": [
    {
     "name": "stdout",
     "output_type": "stream",
     "text": [
      "Dog barks at strangers\n"
     ]
    }
   ],
   "source": [
    "d1.bark()"
   ]
  },
  {
   "cell_type": "code",
   "execution_count": 28,
   "id": "7d44d0fb",
   "metadata": {},
   "outputs": [
    {
     "data": {
      "text/plain": [
       "'Cream'"
      ]
     },
     "execution_count": 28,
     "metadata": {},
     "output_type": "execute_result"
    }
   ],
   "source": [
    "d1.color"
   ]
  },
  {
   "cell_type": "code",
   "execution_count": 30,
   "id": "06bb51a2",
   "metadata": {},
   "outputs": [
    {
     "ename": "NameError",
     "evalue": "name 'breed' is not defined",
     "output_type": "error",
     "traceback": [
      "\u001b[1;31m---------------------------------------------------------------------------\u001b[0m",
      "\u001b[1;31mNameError\u001b[0m                                 Traceback (most recent call last)",
      "Input \u001b[1;32mIn [30]\u001b[0m, in \u001b[0;36m<cell line: 1>\u001b[1;34m()\u001b[0m\n\u001b[1;32m----> 1\u001b[0m \u001b[43md1\u001b[49m\u001b[38;5;241;43m.\u001b[39;49m\u001b[43mbite\u001b[49m\u001b[43m(\u001b[49m\u001b[43m)\u001b[49m\n",
      "Input \u001b[1;32mIn [21]\u001b[0m, in \u001b[0;36mDog.bite\u001b[1;34m()\u001b[0m\n\u001b[0;32m      8\u001b[0m \u001b[38;5;28;01mdef\u001b[39;00m \u001b[38;5;21mbite\u001b[39m():\n\u001b[1;32m----> 9\u001b[0m     \u001b[38;5;28mprint\u001b[39m(\u001b[38;5;124m\"\u001b[39m\u001b[38;5;124mDog Bites causes Rabies\u001b[39m\u001b[38;5;124m\"\u001b[39m, \u001b[43mbreed\u001b[49m)\n",
      "\u001b[1;31mNameError\u001b[0m: name 'breed' is not defined"
     ]
    }
   ],
   "source": [
    "d1.bite() #using reffrence variable we cannot access state of the class inside the function"
   ]
  },
  {
   "cell_type": "markdown",
   "id": "8b8f4cb9",
   "metadata": {},
   "source": [
    "Type Markdown and LaTeX:a"
   ]
  },
  {
   "cell_type": "code",
   "execution_count": 55,
   "id": "03b4939e",
   "metadata": {},
   "outputs": [],
   "source": [
    "class Employee:\n",
    "    eid = 4700\n",
    "    ename = \"TestName\"\n",
    "    edept =\"Digital\"\n",
    "    esalary =150000\n",
    "    #like this we are using ramya as reffrence here, first paramerater to the class\n",
    "    def work(ref):\n",
    "        print(ref.ename,\"is working with the salary of \", ref.esalary)\n",
    "    def takeLeave(ref, days):\n",
    "      #  print(ref.ename, \"is taking leave for\", days)\n",
    "         print(f\"{ref.ename} is taking leave for {days} days\")"
   ]
  },
  {
   "cell_type": "code",
   "execution_count": 56,
   "id": "a1f2ae1f",
   "metadata": {},
   "outputs": [],
   "source": [
    "e1 = Employee() # Like function use() to use class"
   ]
  },
  {
   "cell_type": "raw",
   "id": "e4a992b4",
   "metadata": {},
   "source": [
    "type(e1)"
   ]
  },
  {
   "cell_type": "code",
   "execution_count": 58,
   "id": "a64ee43b",
   "metadata": {},
   "outputs": [
    {
     "name": "stdout",
     "output_type": "stream",
     "text": [
      "TestName is working with the salary of  150000\n"
     ]
    }
   ],
   "source": [
    "e1.work()"
   ]
  },
  {
   "cell_type": "code",
   "execution_count": 57,
   "id": "f7f9e45b",
   "metadata": {},
   "outputs": [
    {
     "name": "stdout",
     "output_type": "stream",
     "text": [
      "TestName is taking leave for 2 days\n"
     ]
    }
   ],
   "source": [
    "e1.takeLeave(2)"
   ]
  },
  {
   "cell_type": "markdown",
   "id": "eb92bc71",
   "metadata": {},
   "source": [
    "#Task: Create a class for bank"
   ]
  },
  {
   "cell_type": "code",
   "execution_count": 84,
   "id": "55dca452",
   "metadata": {},
   "outputs": [],
   "source": [
    "class Bank:\n",
    "    bName = \"Bank of Andaman\"\n",
    "    bOffers = 150\n",
    "    \n",
    "    def loanInterest(ref, intretRate):\n",
    "         print(f\"{ref.bName} is gives a loan Interest of {IntrestRate}%\")\n",
    "    def emiInterest(ref,emi):\n",
    "        print(ref.bName, \"gives EMI of\", emi, \"%\")\n",
    "    def offers(ref):\n",
    "        print(ref.bName, \"has\", ref.bOffers, \"offers and plans\")    "
   ]
  },
  {
   "cell_type": "code",
   "execution_count": 85,
   "id": "65e77514",
   "metadata": {},
   "outputs": [],
   "source": [
    "sbi = Bank()\n",
    "sbi.bName = \"state Bank of India\"\n",
    "sbi.bOffers = 1500"
   ]
  },
  {
   "cell_type": "code",
   "execution_count": 86,
   "id": "d82ff120",
   "metadata": {},
   "outputs": [
    {
     "name": "stdout",
     "output_type": "stream",
     "text": [
      "state Bank of India has 1500 offers and plans\n"
     ]
    },
    {
     "ename": "NameError",
     "evalue": "name 'IntrestRate' is not defined",
     "output_type": "error",
     "traceback": [
      "\u001b[1;31m---------------------------------------------------------------------------\u001b[0m",
      "\u001b[1;31mNameError\u001b[0m                                 Traceback (most recent call last)",
      "Input \u001b[1;32mIn [86]\u001b[0m, in \u001b[0;36m<cell line: 2>\u001b[1;34m()\u001b[0m\n\u001b[0;32m      1\u001b[0m sbi\u001b[38;5;241m.\u001b[39moffers()\n\u001b[1;32m----> 2\u001b[0m \u001b[43msbi\u001b[49m\u001b[38;5;241;43m.\u001b[39;49m\u001b[43mloanInterest\u001b[49m\u001b[43m(\u001b[49m\u001b[38;5;241;43m5\u001b[39;49m\u001b[43m)\u001b[49m\n\u001b[0;32m      3\u001b[0m sbi\u001b[38;5;241m.\u001b[39memiInterest(\u001b[38;5;241m2\u001b[39m)\n",
      "Input \u001b[1;32mIn [84]\u001b[0m, in \u001b[0;36mBank.loanInterest\u001b[1;34m(ref, intretRate)\u001b[0m\n\u001b[0;32m      5\u001b[0m \u001b[38;5;28;01mdef\u001b[39;00m \u001b[38;5;21mloanInterest\u001b[39m(ref, intretRate):\n\u001b[1;32m----> 6\u001b[0m      \u001b[38;5;28mprint\u001b[39m(\u001b[38;5;124mf\u001b[39m\u001b[38;5;124m\"\u001b[39m\u001b[38;5;132;01m{\u001b[39;00mref\u001b[38;5;241m.\u001b[39mbName\u001b[38;5;132;01m}\u001b[39;00m\u001b[38;5;124m is gives a loan Interest of \u001b[39m\u001b[38;5;132;01m{\u001b[39;00mIntrestRate\u001b[38;5;132;01m}\u001b[39;00m\u001b[38;5;124m%\u001b[39m\u001b[38;5;124m\"\u001b[39m)\n",
      "\u001b[1;31mNameError\u001b[0m: name 'IntrestRate' is not defined"
     ]
    }
   ],
   "source": [
    "sbi.offers()\n",
    "sbi.loanInterest(5)\n",
    "sbi.emiInterest(2)"
   ]
  },
  {
   "cell_type": "code",
   "execution_count": 72,
   "id": "ff90d979",
   "metadata": {},
   "outputs": [],
   "source": [
    "icici = Bank()\n",
    "icici.bName = \"ICICI\"\n",
    "icici.bOffers =10000"
   ]
  },
  {
   "cell_type": "code",
   "execution_count": null,
   "id": "305990e3",
   "metadata": {},
   "outputs": [],
   "source": []
  }
 ],
 "metadata": {
  "kernelspec": {
   "display_name": "Python 3 (ipykernel)",
   "language": "python",
   "name": "python3"
  },
  "language_info": {
   "codemirror_mode": {
    "name": "ipython",
    "version": 3
   },
   "file_extension": ".py",
   "mimetype": "text/x-python",
   "name": "python",
   "nbconvert_exporter": "python",
   "pygments_lexer": "ipython3",
   "version": "3.9.12"
  }
 },
 "nbformat": 4,
 "nbformat_minor": 5
}
