{
 "cells": [
  {
   "cell_type": "markdown",
   "id": "b256f320",
   "metadata": {},
   "source": [
    "There are 2 types of databases\n",
    "-Internal,\n",
    "-External"
   ]
  },
  {
   "cell_type": "markdown",
   "id": "ca0e095b",
   "metadata": {},
   "source": [
    "Database is a collection of tables, view and all schemas.\n",
    "Table is a collections of rows and column"
   ]
  },
  {
   "cell_type": "markdown",
   "id": "ad37ede8",
   "metadata": {},
   "source": [
    "## Operations of database"
   ]
  },
  {
   "cell_type": "markdown",
   "id": "59dc5b3e",
   "metadata": {},
   "source": [
    "1. Create table or database \n",
    "2. Insert into the table \n",
    "3. Delete data from the table\n",
    "4. Update the data in the table\n",
    "5. Get all the data from the table"
   ]
  },
  {
   "cell_type": "code",
   "execution_count": 1,
   "id": "5fd678b3",
   "metadata": {},
   "outputs": [],
   "source": [
    "#SQLite database is the default database in python"
   ]
  },
  {
   "cell_type": "code",
   "execution_count": 2,
   "id": "d799ce4c",
   "metadata": {},
   "outputs": [],
   "source": [
    "import sqlite3"
   ]
  },
  {
   "cell_type": "code",
   "execution_count": 16,
   "id": "a6e932ab",
   "metadata": {},
   "outputs": [],
   "source": [
    "ramya = sqlite3.connect(\"MouriTechdemo.db\")\n",
    "ramya.close()"
   ]
  },
  {
   "cell_type": "code",
   "execution_count": 19,
   "id": "a4c94db2",
   "metadata": {},
   "outputs": [],
   "source": [
    "# above cell is to create databse file "
   ]
  },
  {
   "cell_type": "code",
   "execution_count": 22,
   "id": "00465278",
   "metadata": {},
   "outputs": [],
   "source": [
    "ramya = sqlite3.connect(\"MouriTechdemo.db\")\n",
    "create = \"create table Employeedem(eid integer, ename text, edept text);\"\n",
    "ramya.execute(create)\n",
    "ramya.close()"
   ]
  },
  {
   "cell_type": "code",
   "execution_count": 9,
   "id": "44b88969",
   "metadata": {},
   "outputs": [],
   "source": [
    "# Above cell is to create a table"
   ]
  },
  {
   "cell_type": "code",
   "execution_count": 37,
   "id": "980d58b7",
   "metadata": {},
   "outputs": [],
   "source": [
    "ramya = sqlite3.connect(\"Mouritechdemo.db\")\n",
    "insert = \"insert into Employeedem(eid, ename, edept) values(503249, 'Navya', 'Digital');\"\n",
    "ramya.execute(insert)\n",
    "#we need to save the data after inserting\n",
    "ramya.commit()\n",
    "ramya.close()"
   ]
  },
  {
   "cell_type": "markdown",
   "id": "8e25ba04",
   "metadata": {},
   "source": [
    "#Above cell is for inserting values into table"
   ]
  },
  {
   "cell_type": "code",
   "execution_count": 12,
   "id": "f210e88b",
   "metadata": {},
   "outputs": [],
   "source": [
    "#inserting multiple values"
   ]
  },
  {
   "cell_type": "code",
   "execution_count": 55,
   "id": "318f75cb",
   "metadata": {},
   "outputs": [],
   "source": [
    "# insert multiple values\n",
    "ramya = sqlite3.connect(\"Mouritechdemo.db\")\n",
    "insert = \"insert into Employeedem(eid, ename, edept) values(503249, 'Ome', 'Digital'), (503251, 'Charan', 'UI/UX');\"\n",
    "ramya.execute(insert)\n",
    "#we need to save the data after inserting\n",
    "ramya.commit()\n",
    "ramya.close()"
   ]
  },
  {
   "cell_type": "code",
   "execution_count": 28,
   "id": "2ea4b209",
   "metadata": {},
   "outputs": [],
   "source": [
    "#Delect entire table data\n",
    "ramya = sqlite3.connect(\"Mouritechdemo.db\")\n",
    "delete = \"delete from Employeedem\"\n",
    "ramya.execute(delete)\n",
    "# we need to save the data after inserting\n",
    "ramya.commit()\n",
    "ramya.close()\n"
   ]
  },
  {
   "cell_type": "code",
   "execution_count": 33,
   "id": "b9be59dc",
   "metadata": {},
   "outputs": [],
   "source": [
    "#Delete a particular data\n",
    "ramya = sqlite3.connect(\"Mouritechdemo.db\")\n",
    "delete = \"delete from Employeedem where eid = 503249\"\n",
    "ramya.execute(delete)\n",
    "# we need to save the data after inseting\n",
    "ramya.commit()\n",
    "ramya.close()"
   ]
  },
  {
   "cell_type": "code",
   "execution_count": 56,
   "id": "32b4b926",
   "metadata": {},
   "outputs": [
    {
     "name": "stdout",
     "output_type": "stream",
     "text": [
      "[(503251, 'Charan', 'Web Development'), (503248, 'Ramya', 'Digital'), (503249, 'Navya', 'Web Development'), (503249, 'Ome', 'Digital'), (503251, 'Charan', 'UI/UX')]\n"
     ]
    }
   ],
   "source": [
    "#show the data of the table\n",
    "ramya = sqlite3.connect(\"Mouritechdemo.db\")\n",
    "select = \"select * from Employeedem;\"\n",
    "res = ramya.execute(select)\n",
    "print(list(res))\n",
    "ramya.close()"
   ]
  },
  {
   "cell_type": "code",
   "execution_count": 54,
   "id": "b52f611c",
   "metadata": {},
   "outputs": [
    {
     "name": "stdout",
     "output_type": "stream",
     "text": [
      "503251 Charan Web Development\n",
      "503248 Ramya Digital\n",
      "503249 Navya Web Development\n"
     ]
    }
   ],
   "source": [
    "ramya = sqlite3.connect(\"Mouritechdemo.db\")\n",
    "select = \"select * from Employeedem;\"\n",
    "res = ramya.execute(select)\n",
    "for i in res:\n",
    "    print(i[0], i[1], i[2])\n",
    "ramya.close()"
   ]
  },
  {
   "cell_type": "code",
   "execution_count": 40,
   "id": "28bee931",
   "metadata": {},
   "outputs": [
    {
     "name": "stdout",
     "output_type": "stream",
     "text": [
      "503251\n",
      "503248\n",
      "503249\n"
     ]
    }
   ],
   "source": [
    "ramya = sqlite3.connect(\"Mouritechdemo.db\")\n",
    "select = \"select * from Employeedem;\"\n",
    "res = ramya.execute(select)\n",
    "for i in res:\n",
    "    print(i[0])\n",
    "ramya.close()"
   ]
  },
  {
   "cell_type": "code",
   "execution_count": 42,
   "id": "bb80d757",
   "metadata": {},
   "outputs": [],
   "source": [
    "#Update the whole table\n",
    "ramya = sqlite3.connect(\"Mouritechdemo.db\")\n",
    "update =\"update Employeedem set edept ='python';\"\n",
    "ramya.execute(update)\n",
    "#we need to save the data after inserting\n",
    "ramya.commit()\n",
    "ramya.close()"
   ]
  },
  {
   "cell_type": "code",
   "execution_count": 47,
   "id": "947496ff",
   "metadata": {},
   "outputs": [],
   "source": [
    "# Update particular value\n",
    "ramya = sqlite3.connect(\"Mouritechdemo.db\")\n",
    "update =\"update Employeedem set edept ='Digital' where eid =503248 ;\"\n",
    "ramya.execute(update)\n",
    "#we need to save the data after inserting\n",
    "ramya.commit()\n",
    "ramya.close()"
   ]
  },
  {
   "cell_type": "code",
   "execution_count": 53,
   "id": "300024de",
   "metadata": {},
   "outputs": [
    {
     "name": "stdout",
     "output_type": "stream",
     "text": [
      "2\n"
     ]
    }
   ],
   "source": [
    "ramya = sqlite3.connect(\"Mouritechdemo.db\")\n",
    "update =\"update Employeedem set edept ='Web Development' where eid =503251 or eid = 503249;\"\n",
    "ramya.execute(update)\n",
    "#we need to save the data after inserting\n",
    "print(ramya.total_changes) # This is for getting total number of changes in the table\n",
    "ramya.commit()\n",
    "ramya.close()"
   ]
  },
  {
   "cell_type": "code",
   "execution_count": 57,
   "id": "12051d71",
   "metadata": {},
   "outputs": [],
   "source": [
    "#Adding condition(constraints) to the column of table # avoid duplicates\n",
    "ramya = sqlite3.connect(\"Mouritechdemo.db\")\n",
    "student = \"create table student(sid integer primary key, sname text, same integer);\"\n",
    "ramya.execute(student)\n",
    "ramya.close()"
   ]
  },
  {
   "cell_type": "code",
   "execution_count": 60,
   "id": "8744b835",
   "metadata": {},
   "outputs": [],
   "source": [
    "ramya = sqlite3.connect(\"Mouritechdemo.db\")\n",
    "student = \"insert into student values(1,'Ramya', 20);\" #we cann't insert duplicate id again primary key\n",
    "ramya.execute(insert)\n",
    "ramya.commit()\n",
    "ramya.close()"
   ]
  },
  {
   "cell_type": "code",
   "execution_count": null,
   "id": "4012ef33",
   "metadata": {},
   "outputs": [],
   "source": [
    "ramya = sqlite3.connect(\"Mouritechdemo.db\")\n",
    "select = \"select * from Employeedem order by eid desc;\"\n",
    "res = ramya.executes(select)\n",
    "for i in res:\n",
    "    print(i[0], i[1],i[2])\n",
    "ramya.close()"
   ]
  },
  {
   "cell_type": "code",
   "execution_count": null,
   "id": "adb4d55a",
   "metadata": {},
   "outputs": [],
   "source": [
    "ramya = sqlite3.connect(\"Mouritechdemo.db\")\n",
    "select = \"select distinct eid,ename,edept from employee order by eid desc;\"\n",
    "res = ramya.executes(select)\n",
    "for i in res:\n",
    "    print(i[0])\n",
    "ramya.close()"
   ]
  },
  {
   "cell_type": "code",
   "execution_count": null,
   "id": "7fe0bdba",
   "metadata": {},
   "outputs": [],
   "source": [
    "!pip install mysql-connector-python"
   ]
  },
  {
   "cell_type": "code",
   "execution_count": null,
   "id": "1193f059",
   "metadata": {},
   "outputs": [],
   "source": [
    "!pip install pymysql"
   ]
  },
  {
   "cell_type": "code",
   "execution_count": null,
   "id": "3aa277bf",
   "metadata": {},
   "outputs": [],
   "source": [
    "import pymysql"
   ]
  },
  {
   "cell_type": "code",
   "execution_count": null,
   "id": "9fe6a5cd",
   "metadata": {},
   "outputs": [],
   "source": [
    "import mysql.connector"
   ]
  },
  {
   "cell_type": "code",
   "execution_count": null,
   "id": "28913bf7",
   "metadata": {},
   "outputs": [],
   "source": [
    "ramya = pysql.connect(host=\"localhost\", user =\"root\", password=\"\")\n",
    "ramya.close()"
   ]
  },
  {
   "cell_type": "code",
   "execution_count": null,
   "id": "42e5a55f",
   "metadata": {},
   "outputs": [],
   "source": [
    "#Above cell is used for connecting any of the databses"
   ]
  },
  {
   "cell_type": "code",
   "execution_count": null,
   "id": "7c7421d6",
   "metadata": {},
   "outputs": [],
   "source": [
    "ramya = pymysql.connect(host =\"localhost\", user=root, password=\"\", databse=\"\")\n",
    "create = \"create table Mouritechdemo(eid integer primary key)\""
   ]
  },
  {
   "cell_type": "code",
   "execution_count": null,
   "id": "c587b2cc",
   "metadata": {},
   "outputs": [],
   "source": [
    "ramya = pymysql.connect(host=\"localhost\", user=\"root\", password=\"\", database=\"MouriTech\")\n",
    "insert =\"insert into Mouritechdemo(ename, edept) values('Sudeb', 'Web');\"\n",
    "con = ramya.cursor()\n",
    "con.exexute(insert)\n",
    "ramya.commit()\n",
    "ramya.close()"
   ]
  },
  {
   "cell_type": "code",
   "execution_count": null,
   "id": "d8771996",
   "metadata": {},
   "outputs": [],
   "source": [
    "ramya = pymysql.connect(host=\"localhost\", user=\"root\", password=\"\", database=\"MouriTech\")\n",
    "update =\"update Mouritechdemo set ename ='Lata', edept = 'python' where eid=2;\"\n",
    "con = ramya.cursor()\n",
    "con.exexute(update)\n",
    "ramya.commit()\n",
    "ramya.close()"
   ]
  },
  {
   "cell_type": "code",
   "execution_count": null,
   "id": "d297176d",
   "metadata": {},
   "outputs": [],
   "source": [
    "ramya = pymysql.connect(host=\"localhost\", user=\"root\", password=\"\", database=\"MouriTech\")\n",
    "select = \"select * from Mouritechdemo\"\n",
    "con = ramya.cursor()\n",
    "res.con.execute(select)\n",
    "print(res)\n",
    "myres = con.fetchall()\n",
    "for i,j,k in myres:\n",
    "    print(i,j,k)\n",
    "ramya.close()"
   ]
  },
  {
   "cell_type": "code",
   "execution_count": null,
   "id": "bf06efc5",
   "metadata": {},
   "outputs": [],
   "source": [
    "# instead of python"
   ]
  },
  {
   "cell_type": "code",
   "execution_count": null,
   "id": "a095d6b7",
   "metadata": {},
   "outputs": [],
   "source": [
    "#WAP to find sum of all the ids\n"
   ]
  },
  {
   "cell_type": "code",
   "execution_count": null,
   "id": "999386a3",
   "metadata": {},
   "outputs": [],
   "source": []
  }
 ],
 "metadata": {
  "kernelspec": {
   "display_name": "Python 3 (ipykernel)",
   "language": "python",
   "name": "python3"
  },
  "language_info": {
   "codemirror_mode": {
    "name": "ipython",
    "version": 3
   },
   "file_extension": ".py",
   "mimetype": "text/x-python",
   "name": "python",
   "nbconvert_exporter": "python",
   "pygments_lexer": "ipython3",
   "version": "3.9.12"
  }
 },
 "nbformat": 4,
 "nbformat_minor": 5
}
