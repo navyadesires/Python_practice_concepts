{
 "cells": [
  {
   "cell_type": "markdown",
   "id": "29a002bd",
   "metadata": {},
   "source": [
    "# Dynamic input"
   ]
  },
  {
   "cell_type": "code",
   "execution_count": 2,
   "id": "328010e3",
   "metadata": {},
   "outputs": [
    {
     "name": "stdout",
     "output_type": "stream",
     "text": [
      "45.96\n"
     ]
    }
   ],
   "source": [
    "z=input()"
   ]
  },
  {
   "cell_type": "code",
   "execution_count": 3,
   "id": "2427cf5f",
   "metadata": {},
   "outputs": [
    {
     "data": {
      "text/plain": [
       "'45.96'"
      ]
     },
     "execution_count": 3,
     "metadata": {},
     "output_type": "execute_result"
    }
   ],
   "source": [
    "z"
   ]
  },
  {
   "cell_type": "code",
   "execution_count": 4,
   "id": "789af76c",
   "metadata": {},
   "outputs": [],
   "source": [
    "#python by default takes string as input"
   ]
  },
  {
   "cell_type": "code",
   "execution_count": 5,
   "id": "1902cf54",
   "metadata": {},
   "outputs": [
    {
     "name": "stdout",
     "output_type": "stream",
     "text": [
      "100\n"
     ]
    }
   ],
   "source": [
    "y = int(input())"
   ]
  },
  {
   "cell_type": "code",
   "execution_count": 6,
   "id": "6ae420a2",
   "metadata": {},
   "outputs": [
    {
     "data": {
      "text/plain": [
       "100"
      ]
     },
     "execution_count": 6,
     "metadata": {},
     "output_type": "execute_result"
    }
   ],
   "source": [
    "y"
   ]
  },
  {
   "cell_type": "code",
   "execution_count": null,
   "id": "e5921796",
   "metadata": {},
   "outputs": [],
   "source": [
    "name=input(\"Enter the value: \")\n",
    "age=float(input(\"Enter the age: \"))\n",
    "print(f\"Enter the name is {name} and enter age is {age}\")"
   ]
  },
  {
   "cell_type": "code",
   "execution_count": null,
   "id": "aa796c8d",
   "metadata": {},
   "outputs": [],
   "source": [
    "name, age"
   ]
  },
  {
   "cell_type": "code",
   "execution_count": 19,
   "id": "9de9d901",
   "metadata": {},
   "outputs": [],
   "source": [
    "# In Ramya last 3 letters should be printed mya\n",
    "# Number of words in a sentence\n"
   ]
  },
  {
   "cell_type": "code",
   "execution_count": 66,
   "id": "35995fdc",
   "metadata": {},
   "outputs": [],
   "source": [
    "a=\"Ramya\""
   ]
  },
  {
   "cell_type": "code",
   "execution_count": 67,
   "id": "74e7e77a",
   "metadata": {},
   "outputs": [],
   "source": [
    "x=slice(5,4)"
   ]
  },
  {
   "cell_type": "code",
   "execution_count": 69,
   "id": "963deafe",
   "metadata": {},
   "outputs": [
    {
     "name": "stdout",
     "output_type": "stream",
     "text": [
      "\n"
     ]
    }
   ],
   "source": [
    "print(a[x])"
   ]
  },
  {
   "cell_type": "code",
   "execution_count": 40,
   "id": "eb264c6f",
   "metadata": {},
   "outputs": [],
   "source": [
    "a=\"Navya\""
   ]
  },
  {
   "cell_type": "code",
   "execution_count": 65,
   "id": "9fbffaeb",
   "metadata": {},
   "outputs": [
    {
     "data": {
      "text/plain": [
       "('v', 'y', 'a')"
      ]
     },
     "execution_count": 65,
     "metadata": {},
     "output_type": "execute_result"
    }
   ],
   "source": [
    "a[-3], a[-2],a[-1]"
   ]
  },
  {
   "cell_type": "code",
   "execution_count": 81,
   "id": "c1ddb4f1",
   "metadata": {},
   "outputs": [
    {
     "data": {
      "text/plain": [
       "30"
      ]
     },
     "execution_count": 81,
     "metadata": {},
     "output_type": "execute_result"
    }
   ],
   "source": [
    "f2 = open(\"ramya.txt\", \"w\")\n",
    "f2.write(\" This is My first file program\")"
   ]
  },
  {
   "cell_type": "code",
   "execution_count": 101,
   "id": "8cba5545",
   "metadata": {},
   "outputs": [
    {
     "ename": "NameError",
     "evalue": "name 'write' is not defined",
     "output_type": "error",
     "traceback": [
      "\u001b[1;31m---------------------------------------------------------------------------\u001b[0m",
      "\u001b[1;31mNameError\u001b[0m                                 Traceback (most recent call last)",
      "Input \u001b[1;32mIn [101]\u001b[0m, in \u001b[0;36m<cell line: 1>\u001b[1;34m()\u001b[0m\n\u001b[1;32m----> 1\u001b[0m \u001b[38;5;28mprint\u001b[39m(\u001b[43mwrite\u001b[49m(\u001b[38;5;28minput\u001b[39m(\u001b[38;5;124m\"\u001b[39m\u001b[38;5;124mEnter a sentence\u001b[39m\u001b[38;5;124m\"\u001b[39m)))\n",
      "\u001b[1;31mNameError\u001b[0m: name 'write' is not defined"
     ]
    }
   ],
   "source": [
    "print(write(input(\"Enter a sentence\")))"
   ]
  },
  {
   "cell_type": "code",
   "execution_count": 96,
   "id": "0accec2b",
   "metadata": {},
   "outputs": [
    {
     "name": "stdout",
     "output_type": "stream",
     "text": [
      "Enter Input:gch  hbjxn ghcj\n",
      "hbjxn\n"
     ]
    }
   ],
   "source": [
    "print((input(\"Enter Input:\").split())[1])"
   ]
  },
  {
   "cell_type": "code",
   "execution_count": null,
   "id": "2c6b4f33",
   "metadata": {},
   "outputs": [],
   "source": [
    "countofWords=len(\"This is sentence\".split())\n",
    "print(\"count the given sentence:\",countofWords )"
   ]
  },
  {
   "cell_type": "code",
   "execution_count": 99,
   "id": "21422e5a",
   "metadata": {},
   "outputs": [],
   "source": [
    "countofWordsletters=len(\"This is sentence\".split())"
   ]
  },
  {
   "cell_type": "code",
   "execution_count": 102,
   "id": "9dbb66da",
   "metadata": {},
   "outputs": [
    {
     "name": "stdout",
     "output_type": "stream",
     "text": [
      "Enter the value:vvv ffvfv\n"
     ]
    },
    {
     "ename": "AttributeError",
     "evalue": "'str' object has no attribute 'write'",
     "output_type": "error",
     "traceback": [
      "\u001b[1;31m---------------------------------------------------------------------------\u001b[0m",
      "\u001b[1;31mAttributeError\u001b[0m                            Traceback (most recent call last)",
      "Input \u001b[1;32mIn [102]\u001b[0m, in \u001b[0;36m<cell line: 2>\u001b[1;34m()\u001b[0m\n\u001b[0;32m      1\u001b[0m words \u001b[38;5;241m=\u001b[39m \u001b[38;5;28minput\u001b[39m(\u001b[38;5;124m\"\u001b[39m\u001b[38;5;124mEnter the value:\u001b[39m\u001b[38;5;124m\"\u001b[39m)\n\u001b[1;32m----> 2\u001b[0m \u001b[43mwords\u001b[49m\u001b[38;5;241;43m.\u001b[39;49m\u001b[43mwrite\u001b[49m()\n",
      "\u001b[1;31mAttributeError\u001b[0m: 'str' object has no attribute 'write'"
     ]
    }
   ],
   "source": [
    "words = input(\"Enter the value:\")\n",
    "words.write()"
   ]
  },
  {
   "cell_type": "code",
   "execution_count": 119,
   "id": "2069f2a1",
   "metadata": {},
   "outputs": [
    {
     "name": "stdout",
     "output_type": "stream",
     "text": [
      "this is the one that obj\n",
      "4\n",
      "one\n"
     ]
    }
   ],
   "source": [
    "myInput = input()\n",
    "oplist = myInput.split()\n",
    "mWord=\"\"\n",
    "if len(oplist)%2:\n",
    "    mWord = oplist[len(oplist)//2]\n",
    "else:\n",
    "    print(((len(oplist)//2) + 1))\n",
    "    mWord = oplist[(len(oplist)//2)]\n",
    "print(mWord)"
   ]
  },
  {
   "cell_type": "code",
   "execution_count": 104,
   "id": "0de297a7",
   "metadata": {},
   "outputs": [
    {
     "data": {
      "text/plain": [
       "1"
      ]
     },
     "execution_count": 104,
     "metadata": {},
     "output_type": "execute_result"
    }
   ],
   "source": [
    "5%2"
   ]
  },
  {
   "cell_type": "code",
   "execution_count": 116,
   "id": "f470eec6",
   "metadata": {},
   "outputs": [
    {
     "data": {
      "text/plain": [
       "0"
      ]
     },
     "execution_count": 116,
     "metadata": {},
     "output_type": "execute_result"
    }
   ],
   "source": [
    "6%2"
   ]
  },
  {
   "cell_type": "code",
   "execution_count": 114,
   "id": "20099194",
   "metadata": {},
   "outputs": [
    {
     "data": {
      "text/plain": [
       "2"
      ]
     },
     "execution_count": 114,
     "metadata": {},
     "output_type": "execute_result"
    }
   ],
   "source": [
    "4//2"
   ]
  },
  {
   "cell_type": "code",
   "execution_count": 108,
   "id": "cf2ee408",
   "metadata": {},
   "outputs": [
    {
     "data": {
      "text/plain": [
       "3.142857142857143"
      ]
     },
     "execution_count": 108,
     "metadata": {},
     "output_type": "execute_result"
    }
   ],
   "source": [
    "22/7"
   ]
  },
  {
   "cell_type": "code",
   "execution_count": 109,
   "id": "e4943e9e",
   "metadata": {},
   "outputs": [
    {
     "data": {
      "text/plain": [
       "3"
      ]
     },
     "execution_count": 109,
     "metadata": {},
     "output_type": "execute_result"
    }
   ],
   "source": [
    "22//7"
   ]
  },
  {
   "cell_type": "code",
   "execution_count": 1,
   "id": "3e51e5bd",
   "metadata": {},
   "outputs": [
    {
     "name": "stdout",
     "output_type": "stream",
     "text": [
      "5\n"
     ]
    }
   ],
   "source": [
    "mylist=[1,2,3,4,5]\n",
    "print(mylist[-1])"
   ]
  },
  {
   "cell_type": "code",
   "execution_count": 3,
   "id": "7a904670",
   "metadata": {},
   "outputs": [
    {
     "name": "stdout",
     "output_type": "stream",
     "text": [
      "3 2\n"
     ]
    }
   ],
   "source": [
    "def swap(x,y):\n",
    "    x,y=y,x\n",
    "    return x,y\n",
    "x=2\n",
    "y=3\n",
    "x,y=swap(x,y)\n",
    "print(x, y)"
   ]
  },
  {
   "cell_type": "code",
   "execution_count": 4,
   "id": "b6e67d7e",
   "metadata": {},
   "outputs": [
    {
     "name": "stdout",
     "output_type": "stream",
     "text": [
      "None\n"
     ]
    }
   ],
   "source": [
    "points = [2,4,1,3]\n",
    "rank = points.sort()\n",
    "print(rank)"
   ]
  },
  {
   "cell_type": "code",
   "execution_count": 5,
   "id": "931f4a1f",
   "metadata": {},
   "outputs": [
    {
     "data": {
      "text/plain": [
       "['A', 'B', 'C']"
      ]
     },
     "execution_count": 5,
     "metadata": {},
     "output_type": "execute_result"
    }
   ],
   "source": [
    "a = {'B':5,'A':9,'C':7}\n",
    "sorted(a)"
   ]
  },
  {
   "cell_type": "code",
   "execution_count": 30,
   "id": "fa767e17",
   "metadata": {},
   "outputs": [
    {
     "ename": "TypeError",
     "evalue": "can only concatenate list (not \"int\") to list",
     "output_type": "error",
     "traceback": [
      "\u001b[1;31m---------------------------------------------------------------------------\u001b[0m",
      "\u001b[1;31mTypeError\u001b[0m                                 Traceback (most recent call last)",
      "Input \u001b[1;32mIn [30]\u001b[0m, in \u001b[0;36m<cell line: 4>\u001b[1;34m()\u001b[0m\n\u001b[0;32m      4\u001b[0m \u001b[38;5;28;01mfor\u001b[39;00m (x,y) \u001b[38;5;129;01min\u001b[39;00m \u001b[38;5;28mzip\u001b[39m(L1, L2):\n\u001b[0;32m      5\u001b[0m     \u001b[38;5;28;01mif\u001b[39;00m x\u001b[38;5;241m>\u001b[39m\u001b[38;5;241m10\u001b[39m \u001b[38;5;129;01mand\u001b[39;00m(y\u001b[38;5;241m<\u001b[39m\u001b[38;5;241m5\u001b[39m):\n\u001b[1;32m----> 6\u001b[0m         L3 \u001b[38;5;241m=\u001b[39m \u001b[43mL3\u001b[49m\u001b[43m \u001b[49m\u001b[38;5;241;43m+\u001b[39;49m\u001b[43m \u001b[49m\u001b[43m(\u001b[49m\u001b[43mx\u001b[49m\u001b[38;5;241;43m+\u001b[39;49m\u001b[43my\u001b[49m\u001b[43m)\u001b[49m\n\u001b[0;32m      7\u001b[0m         \u001b[38;5;28mprint\u001b[39m(L3)\n",
      "\u001b[1;31mTypeError\u001b[0m: can only concatenate list (not \"int\") to list"
     ]
    }
   ],
   "source": [
    "L1=[32,3,54,8,100]\n",
    "L2 =[2]\n",
    "L3=[]\n",
    "for (x,y) in zip(L1, L2):\n",
    "    print(L1, L2)\n",
    "    if x>10 and(y<5):\n",
    "#         L3 = L3 + (x+y)\n",
    "        print(L3)"
   ]
  },
  {
   "cell_type": "code",
   "execution_count": 9,
   "id": "f62e0b77",
   "metadata": {},
   "outputs": [],
   "source": [
    "x=1 <<2"
   ]
  },
  {
   "cell_type": "code",
   "execution_count": 10,
   "id": "c5db95ce",
   "metadata": {},
   "outputs": [
    {
     "ename": "SyntaxError",
     "evalue": "invalid syntax (3570539996.py, line 1)",
     "output_type": "error",
     "traceback": [
      "\u001b[1;36m  Input \u001b[1;32mIn [10]\u001b[1;36m\u001b[0m\n\u001b[1;33m    1st =[2,]*3\u001b[0m\n\u001b[1;37m     ^\u001b[0m\n\u001b[1;31mSyntaxError\u001b[0m\u001b[1;31m:\u001b[0m invalid syntax\n"
     ]
    }
   ],
   "source": [
    "1st =[2,]*3\n",
    "print(1st)"
   ]
  },
  {
   "cell_type": "code",
   "execution_count": 11,
   "id": "38658b52",
   "metadata": {},
   "outputs": [
    {
     "name": "stdout",
     "output_type": "stream",
     "text": [
      "1\n"
     ]
    }
   ],
   "source": [
    "print(\"xyyzxyzxzxyy\".count('yy',2))"
   ]
  },
  {
   "cell_type": "code",
   "execution_count": 15,
   "id": "2171eb26",
   "metadata": {},
   "outputs": [
    {
     "data": {
      "text/plain": [
       "\"a=H,bO,c=['E', 'L']\""
      ]
     },
     "execution_count": 15,
     "metadata": {},
     "output_type": "execute_result"
    }
   ],
   "source": [
    "I=list('HELLO')\n",
    "p=I[0],I[-1],I[1:3]\n",
    "'a={0},b{1},c={2}'.format(*p)"
   ]
  },
  {
   "cell_type": "code",
   "execution_count": 20,
   "id": "7960d2eb",
   "metadata": {},
   "outputs": [
    {
     "data": {
      "text/plain": [
       "'0b1111111111111111'"
      ]
     },
     "execution_count": 20,
     "metadata": {},
     "output_type": "execute_result"
    }
   ],
   "source": [
    "bin((2**16)-1)"
   ]
  },
  {
   "cell_type": "code",
   "execution_count": 21,
   "id": "8e80de37",
   "metadata": {},
   "outputs": [
    {
     "name": "stdout",
     "output_type": "stream",
     "text": [
      "0b1111111111111111\n"
     ]
    }
   ],
   "source": [
    "print(format(bin((2**16)-1)))"
   ]
  },
  {
   "cell_type": "code",
   "execution_count": 23,
   "id": "c2f6d501",
   "metadata": {},
   "outputs": [
    {
     "name": "stdout",
     "output_type": "stream",
     "text": [
      "34.000000\n"
     ]
    }
   ],
   "source": [
    "x=34\n",
    "print(\"%f\"%x)"
   ]
  },
  {
   "cell_type": "markdown",
   "id": "d7873ef7",
   "metadata": {},
   "source": [
    "s1={3,4}\n",
    "s2={1,2}\n",
    "s3=set()\n",
    "i=0\n",
    "j=0\n",
    "for i in s1:\n",
    "for j in s2:\n",
    "s3.add((i,j))\n",
    "i+=1\n",
    "j+=1\n",
    "print(s3"
   ]
  },
  {
   "cell_type": "code",
   "execution_count": 25,
   "id": "eceed90a",
   "metadata": {},
   "outputs": [
    {
     "ename": "IndentationError",
     "evalue": "unexpected indent (2443982454.py, line 8)",
     "output_type": "error",
     "traceback": [
      "\u001b[1;36m  Input \u001b[1;32mIn [25]\u001b[1;36m\u001b[0m\n\u001b[1;33m    i+=1 j+=1\u001b[0m\n\u001b[1;37m    ^\u001b[0m\n\u001b[1;31mIndentationError\u001b[0m\u001b[1;31m:\u001b[0m unexpected indent\n"
     ]
    }
   ],
   "source": [
    "s1={3,4} \n",
    "s2={1,2}\n",
    "s3=set()\n",
    "i=0 \n",
    "j=0 \n",
    "for i in s1: \n",
    "    for j in s2: s3.add((i,j)) \n",
    "        i+=1 j+=1 \n",
    "        print(s3)"
   ]
  },
  {
   "cell_type": "code",
   "execution_count": 27,
   "id": "cfbb9f65",
   "metadata": {},
   "outputs": [
    {
     "data": {
      "text/plain": [
       "'0b1000'"
      ]
     },
     "execution_count": 27,
     "metadata": {},
     "output_type": "execute_result"
    }
   ],
   "source": [
    "bin(0x8)"
   ]
  },
  {
   "cell_type": "code",
   "execution_count": null,
   "id": "39f496f6",
   "metadata": {},
   "outputs": [],
   "source": []
  }
 ],
 "metadata": {
  "kernelspec": {
   "display_name": "Python 3 (ipykernel)",
   "language": "python",
   "name": "python3"
  },
  "language_info": {
   "codemirror_mode": {
    "name": "ipython",
    "version": 3
   },
   "file_extension": ".py",
   "mimetype": "text/x-python",
   "name": "python",
   "nbconvert_exporter": "python",
   "pygments_lexer": "ipython3",
   "version": "3.9.12"
  }
 },
 "nbformat": 4,
 "nbformat_minor": 5
}
