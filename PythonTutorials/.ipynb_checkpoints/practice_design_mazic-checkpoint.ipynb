{
 "cells": [
  {
   "cell_type": "code",
   "execution_count": 6,
   "id": "56f04b2b",
   "metadata": {},
   "outputs": [],
   "source": [
    "from turtle import *\n",
    "color(\"red\")\n",
    "begin_fill()\n",
    "pensize(4)\n",
    "left(50)\n",
    "forward(133)\n",
    "circle(50,200)\n",
    "right(140)\n",
    "circle(50,200)\n",
    "forward(133)"
   ]
  },
  {
   "cell_type": "code",
   "execution_count": null,
   "id": "977b14de",
   "metadata": {},
   "outputs": [],
   "source": []
  },
  {
   "cell_type": "code",
   "execution_count": 5,
   "id": "d1e8222e",
   "metadata": {},
   "outputs": [],
   "source": [
    "from turtle import *\n",
    "width(10)\n",
    "begin_fill()\n",
    "left(160)\n",
    "circle(100, 100)\n",
    "circle(200, 60)\n",
    "circle(40,90)\n",
    "circle(-40, 100)\n",
    "circle(40,100)\n",
    "circle(200, 30)\n",
    "left(90)\n",
    "circle(-70,150)\n",
    "left(90)\n",
    "#circle(70,120)\n",
    "circle(90,140)\n",
    "# left(10)\n",
    "# circle(160,55)\n",
    "# end_fill()\n",
    "# right(110)\n",
    "# up()\n",
    "# forward(25)\n",
    "# down()\n",
    "# begin_fill()\n",
    "# circle(-100, 90)\n",
    "# right(90)\n",
    "# circle(-100,90)\n",
    "# end_fill()"
   ]
  },
  {
   "cell_type": "code",
   "execution_count": null,
   "id": "9ba3bac3",
   "metadata": {},
   "outputs": [],
   "source": []
  }
 ],
 "metadata": {
  "kernelspec": {
   "display_name": "Python 3 (ipykernel)",
   "language": "python",
   "name": "python3"
  },
  "language_info": {
   "codemirror_mode": {
    "name": "ipython",
    "version": 3
   },
   "file_extension": ".py",
   "mimetype": "text/x-python",
   "name": "python",
   "nbconvert_exporter": "python",
   "pygments_lexer": "ipython3",
   "version": "3.9.12"
  }
 },
 "nbformat": 4,
 "nbformat_minor": 5
}
