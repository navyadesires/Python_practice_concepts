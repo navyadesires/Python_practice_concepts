{
 "cells": [
  {
   "cell_type": "code",
   "execution_count": 6,
   "id": "1d6a0798",
   "metadata": {},
   "outputs": [
    {
     "name": "stdout",
     "output_type": "stream",
     "text": [
      "45.26\n"
     ]
    }
   ],
   "source": [
    "z = input()"
   ]
  },
  {
   "cell_type": "code",
   "execution_count": 7,
   "id": "5f2596a0",
   "metadata": {},
   "outputs": [
    {
     "data": {
      "text/plain": [
       "'45.26'"
      ]
     },
     "execution_count": 7,
     "metadata": {},
     "output_type": "execute_result"
    }
   ],
   "source": [
    "z"
   ]
  },
  {
   "cell_type": "code",
   "execution_count": 8,
   "id": "c579f89e",
   "metadata": {},
   "outputs": [
    {
     "data": {
      "text/plain": [
       "'45.26'"
      ]
     },
     "execution_count": 8,
     "metadata": {},
     "output_type": "execute_result"
    }
   ],
   "source": [
    "z"
   ]
  },
  {
   "cell_type": "code",
   "execution_count": 5,
   "id": "2e0d9214",
   "metadata": {},
   "outputs": [
    {
     "data": {
      "text/plain": [
       "'100'"
      ]
     },
     "execution_count": 5,
     "metadata": {},
     "output_type": "execute_result"
    }
   ],
   "source": [
    "z"
   ]
  },
  {
   "cell_type": "code",
   "execution_count": 9,
   "id": "6930b456",
   "metadata": {},
   "outputs": [],
   "source": [
    "#Python by default takes string as input"
   ]
  },
  {
   "cell_type": "code",
   "execution_count": 10,
   "id": "cc7a5e6c",
   "metadata": {},
   "outputs": [
    {
     "name": "stdout",
     "output_type": "stream",
     "text": [
      "100\n"
     ]
    }
   ],
   "source": [
    "y = int(input())"
   ]
  },
  {
   "cell_type": "code",
   "execution_count": 11,
   "id": "8c1b38d9",
   "metadata": {},
   "outputs": [
    {
     "data": {
      "text/plain": [
       "100"
      ]
     },
     "execution_count": 11,
     "metadata": {},
     "output_type": "execute_result"
    }
   ],
   "source": [
    "y"
   ]
  },
  {
   "cell_type": "code",
   "execution_count": null,
   "id": "54d47cbd",
   "metadata": {},
   "outputs": [],
   "source": []
  }
 ],
 "metadata": {
  "kernelspec": {
   "display_name": "Python 3 (ipykernel)",
   "language": "python",
   "name": "python3"
  },
  "language_info": {
   "codemirror_mode": {
    "name": "ipython",
    "version": 3
   },
   "file_extension": ".py",
   "mimetype": "text/x-python",
   "name": "python",
   "nbconvert_exporter": "python",
   "pygments_lexer": "ipython3",
   "version": "3.9.12"
  }
 },
 "nbformat": 4,
 "nbformat_minor": 5
}
