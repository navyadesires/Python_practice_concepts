{
 "cells": [
  {
   "cell_type": "code",
   "execution_count": 3,
   "id": "6ea63ca5",
   "metadata": {},
   "outputs": [],
   "source": [
    "#def is the keywprd to create a function\n"
   ]
  },
  {
   "cell_type": "code",
   "execution_count": 5,
   "id": "f4c4aefa",
   "metadata": {},
   "outputs": [],
   "source": [
    "def myfun():\n",
    "    print(\"this is my first demo function\")\n",
    "    print(\"this is user defined function\")"
   ]
  },
  {
   "cell_type": "code",
   "execution_count": 7,
   "id": "f4a304c1",
   "metadata": {},
   "outputs": [
    {
     "data": {
      "text/plain": [
       "['__annotations__',\n",
       " '__call__',\n",
       " '__class__',\n",
       " '__closure__',\n",
       " '__code__',\n",
       " '__defaults__',\n",
       " '__delattr__',\n",
       " '__dict__',\n",
       " '__dir__',\n",
       " '__doc__',\n",
       " '__eq__',\n",
       " '__format__',\n",
       " '__ge__',\n",
       " '__get__',\n",
       " '__getattribute__',\n",
       " '__globals__',\n",
       " '__gt__',\n",
       " '__hash__',\n",
       " '__init__',\n",
       " '__init_subclass__',\n",
       " '__kwdefaults__',\n",
       " '__le__',\n",
       " '__lt__',\n",
       " '__module__',\n",
       " '__name__',\n",
       " '__ne__',\n",
       " '__new__',\n",
       " '__qualname__',\n",
       " '__reduce__',\n",
       " '__reduce_ex__',\n",
       " '__repr__',\n",
       " '__setattr__',\n",
       " '__sizeof__',\n",
       " '__str__',\n",
       " '__subclasshook__']"
      ]
     },
     "execution_count": 7,
     "metadata": {},
     "output_type": "execute_result"
    }
   ],
   "source": [
    "dir(myfun)"
   ]
  },
  {
   "cell_type": "code",
   "execution_count": 8,
   "id": "359eb819",
   "metadata": {},
   "outputs": [
    {
     "name": "stdout",
     "output_type": "stream",
     "text": [
      "Help on function myfun in module __main__:\n",
      "\n",
      "myfun()\n",
      "\n"
     ]
    }
   ],
   "source": [
    "help(myfun)"
   ]
  },
  {
   "cell_type": "code",
   "execution_count": 9,
   "id": "a2537802",
   "metadata": {},
   "outputs": [
    {
     "data": {
      "text/plain": [
       "<function __main__.myfun()>"
      ]
     },
     "execution_count": 9,
     "metadata": {},
     "output_type": "execute_result"
    }
   ],
   "source": [
    "myfun"
   ]
  },
  {
   "cell_type": "code",
   "execution_count": 11,
   "id": "68f656a1",
   "metadata": {},
   "outputs": [
    {
     "name": "stdout",
     "output_type": "stream",
     "text": [
      "this is my first demo function\n",
      "this is user defined function\n",
      "this is my first demo function\n",
      "this is user defined function\n"
     ]
    }
   ],
   "source": [
    "myfun()\n",
    "myfun()"
   ]
  },
  {
   "cell_type": "code",
   "execution_count": 12,
   "id": "8168c8bb",
   "metadata": {},
   "outputs": [],
   "source": [
    "#above cell is for calling a function"
   ]
  },
  {
   "cell_type": "code",
   "execution_count": 20,
   "id": "75485b00",
   "metadata": {},
   "outputs": [],
   "source": [
    "#function with single arguments/parameters\n",
    "def myEven(num):\n",
    "    print(\"It is Even Number\") if num%2==0 else print(\"odd\")"
   ]
  },
  {
   "cell_type": "code",
   "execution_count": 21,
   "id": "447e8e78",
   "metadata": {},
   "outputs": [
    {
     "name": "stdout",
     "output_type": "stream",
     "text": [
      "It is Even Number\n"
     ]
    }
   ],
   "source": [
    "myEven(4)"
   ]
  },
  {
   "cell_type": "code",
   "execution_count": 23,
   "id": "de395750",
   "metadata": {},
   "outputs": [],
   "source": [
    "#function with two parameters\n",
    "def myadd(a,b):\n",
    "    print(f\"the addition of {a} and {b} is {a+b}\")"
   ]
  },
  {
   "cell_type": "code",
   "execution_count": 27,
   "id": "d47aaa08",
   "metadata": {},
   "outputs": [
    {
     "name": "stdout",
     "output_type": "stream",
     "text": [
      "the addition of 20 and 11 is 31\n",
      "the addition of 20 and 11 is 31\n",
      "the addition of 20 and 11 is 31\n",
      "the addition of 20 and 20 is 40\n"
     ]
    }
   ],
   "source": [
    "myadd(20, 11)\n",
    "myadd(20, 11)\n",
    "myadd(20, 11)\n",
    "myadd(20, 20)"
   ]
  },
  {
   "cell_type": "code",
   "execution_count": 29,
   "id": "b5667712",
   "metadata": {},
   "outputs": [],
   "source": [
    "#function with n parameters"
   ]
  },
  {
   "cell_type": "code",
   "execution_count": 37,
   "id": "d8a58026",
   "metadata": {},
   "outputs": [],
   "source": [
    "def nadd(*a):\n",
    "    print(sum(a))\n",
    "    print(type(a))"
   ]
  },
  {
   "cell_type": "code",
   "execution_count": 38,
   "id": "e51993ca",
   "metadata": {},
   "outputs": [
    {
     "name": "stdout",
     "output_type": "stream",
     "text": [
      "0\n",
      "<class 'tuple'>\n"
     ]
    }
   ],
   "source": [
    "nadd()"
   ]
  },
  {
   "cell_type": "code",
   "execution_count": 39,
   "id": "cfcdfded",
   "metadata": {},
   "outputs": [
    {
     "name": "stdout",
     "output_type": "stream",
     "text": [
      "1\n",
      "<class 'tuple'>\n"
     ]
    }
   ],
   "source": [
    "nadd(1)"
   ]
  },
  {
   "cell_type": "code",
   "execution_count": 40,
   "id": "ba4f3690",
   "metadata": {},
   "outputs": [
    {
     "name": "stdout",
     "output_type": "stream",
     "text": [
      "7\n",
      "<class 'tuple'>\n"
     ]
    }
   ],
   "source": [
    "nadd(1,2,4)"
   ]
  },
  {
   "cell_type": "code",
   "execution_count": 41,
   "id": "2437eced",
   "metadata": {},
   "outputs": [
    {
     "name": "stdout",
     "output_type": "stream",
     "text": [
      "7\n",
      "<class 'tuple'>\n"
     ]
    }
   ],
   "source": [
    "nadd(1,0,5,1)"
   ]
  },
  {
   "cell_type": "code",
   "execution_count": 43,
   "id": "555a78aa",
   "metadata": {},
   "outputs": [
    {
     "name": "stdout",
     "output_type": "stream",
     "text": [
      "13\n",
      "<class 'tuple'>\n"
     ]
    }
   ],
   "source": [
    "nadd(12, 0,0,1)"
   ]
  },
  {
   "cell_type": "code",
   "execution_count": 47,
   "id": "52af3844",
   "metadata": {},
   "outputs": [],
   "source": [
    "def mydemo(*num):\n",
    "    for i in num:\n",
    "        if i%2==0:\n",
    "            print(i)"
   ]
  },
  {
   "cell_type": "markdown",
   "id": "62744a8b",
   "metadata": {},
   "source": [
    "mydemo(1,4,2)"
   ]
  },
  {
   "cell_type": "code",
   "execution_count": 48,
   "id": "a838aa41",
   "metadata": {},
   "outputs": [
    {
     "name": "stdout",
     "output_type": "stream",
     "text": [
      "4\n",
      "2\n"
     ]
    }
   ],
   "source": [
    "mydemo(1,4,2)"
   ]
  },
  {
   "cell_type": "code",
   "execution_count": 55,
   "id": "e4816bd3",
   "metadata": {},
   "outputs": [],
   "source": [
    "def myfact(n):\n",
    "    \"\"\"\n",
    "    This is a factorial program\n",
    "    This is the product of n until 1\n",
    "    This is return by Navya\n",
    "    Documentation(hel) must be first line of the function\n",
    "    \"\"\"\n",
    "    f=1\n",
    "    for i in range(1,n+1):\n",
    "       f=f*i\n",
    "    print(\"The factorial of {n} is {f}\")"
   ]
  },
  {
   "cell_type": "code",
   "execution_count": 56,
   "id": "3699d87f",
   "metadata": {},
   "outputs": [
    {
     "name": "stdout",
     "output_type": "stream",
     "text": [
      "The factorial of {n} is {f}\n"
     ]
    }
   ],
   "source": [
    "myfact(5)"
   ]
  },
  {
   "cell_type": "code",
   "execution_count": 57,
   "id": "2d622dd7",
   "metadata": {},
   "outputs": [
    {
     "name": "stdout",
     "output_type": "stream",
     "text": [
      "Help on function myfact in module __main__:\n",
      "\n",
      "myfact(n)\n",
      "    This is a factorial program\n",
      "    This is the product of n until 1\n",
      "    This is return by Navya\n",
      "    Documentation(hel) must be first line of the function\n",
      "\n"
     ]
    }
   ],
   "source": [
    "help(myfact)"
   ]
  },
  {
   "cell_type": "code",
   "execution_count": 59,
   "id": "30e6dc70",
   "metadata": {},
   "outputs": [
    {
     "ename": "TypeError",
     "evalue": "myfact() missing 1 required positional argument: 'n'",
     "output_type": "error",
     "traceback": [
      "\u001b[1;31m---------------------------------------------------------------------------\u001b[0m",
      "\u001b[1;31mTypeError\u001b[0m                                 Traceback (most recent call last)",
      "Input \u001b[1;32mIn [59]\u001b[0m, in \u001b[0;36m<cell line: 1>\u001b[1;34m()\u001b[0m\n\u001b[1;32m----> 1\u001b[0m \u001b[43mmyfact\u001b[49m\u001b[43m(\u001b[49m\u001b[43m)\u001b[49m\n",
      "\u001b[1;31mTypeError\u001b[0m: myfact() missing 1 required positional argument: 'n'"
     ]
    }
   ],
   "source": [
    "myfact() "
   ]
  },
  {
   "cell_type": "code",
   "execution_count": 60,
   "id": "a4705c8f",
   "metadata": {},
   "outputs": [],
   "source": [
    "#default parameter in Python function"
   ]
  },
  {
   "cell_type": "code",
   "execution_count": 61,
   "id": "e695b84c",
   "metadata": {},
   "outputs": [],
   "source": [
    "def hello(a=1,b=2):\n",
    "    print(a+b)"
   ]
  },
  {
   "cell_type": "code",
   "execution_count": 62,
   "id": "0df7344b",
   "metadata": {},
   "outputs": [
    {
     "name": "stdout",
     "output_type": "stream",
     "text": [
      "3\n"
     ]
    }
   ],
   "source": [
    "hello()"
   ]
  },
  {
   "cell_type": "code",
   "execution_count": 63,
   "id": "d02e57ab",
   "metadata": {},
   "outputs": [
    {
     "name": "stdout",
     "output_type": "stream",
     "text": [
      "600\n"
     ]
    }
   ],
   "source": [
    "hello(100,500)"
   ]
  },
  {
   "cell_type": "code",
   "execution_count": 64,
   "id": "b0fa70af",
   "metadata": {},
   "outputs": [],
   "source": [
    "def demo(a,b,c,d=\"hello\"):\n",
    "    pass"
   ]
  },
  {
   "cell_type": "code",
   "execution_count": 67,
   "id": "561e276c",
   "metadata": {},
   "outputs": [
    {
     "ename": "TypeError",
     "evalue": "demo() missing 1 required positional argument: 'c'",
     "output_type": "error",
     "traceback": [
      "\u001b[1;31m---------------------------------------------------------------------------\u001b[0m",
      "\u001b[1;31mTypeError\u001b[0m                                 Traceback (most recent call last)",
      "Input \u001b[1;32mIn [67]\u001b[0m, in \u001b[0;36m<cell line: 1>\u001b[1;34m()\u001b[0m\n\u001b[1;32m----> 1\u001b[0m \u001b[43mdemo\u001b[49m\u001b[43m(\u001b[49m\u001b[38;5;241;43m10\u001b[39;49m\u001b[43m,\u001b[49m\u001b[38;5;241;43m20\u001b[39;49m\u001b[43m)\u001b[49m\n",
      "\u001b[1;31mTypeError\u001b[0m: demo() missing 1 required positional argument: 'c'"
     ]
    }
   ],
   "source": [
    "demo(10,20)"
   ]
  },
  {
   "cell_type": "code",
   "execution_count": 69,
   "id": "cff22933",
   "metadata": {},
   "outputs": [
    {
     "ename": "SyntaxError",
     "evalue": "non-default argument follows default argument (3574726788.py, line 1)",
     "output_type": "error",
     "traceback": [
      "\u001b[1;36m  Input \u001b[1;32mIn [69]\u001b[1;36m\u001b[0m\n\u001b[1;33m    def ademo(a=1,b,c=2):\u001b[0m\n\u001b[1;37m                    ^\u001b[0m\n\u001b[1;31mSyntaxError\u001b[0m\u001b[1;31m:\u001b[0m non-default argument follows default argument\n"
     ]
    }
   ],
   "source": [
    "def ademo(a=1,b,c=2):\n",
    "    pass"
   ]
  },
  {
   "cell_type": "code",
   "execution_count": 73,
   "id": "f90328f8",
   "metadata": {},
   "outputs": [],
   "source": [
    "def cdemo(a=1,b=2,c=1,d=2):\n",
    "    pass\n",
    "# default parameters should follow non-default parameter\n",
    "#default parameters in the middle is not allowed"
   ]
  },
  {
   "cell_type": "code",
   "execution_count": 74,
   "id": "2d3de72b",
   "metadata": {},
   "outputs": [],
   "source": [
    "#checking the return type "
   ]
  },
  {
   "cell_type": "code",
   "execution_count": 76,
   "id": "ec768e32",
   "metadata": {},
   "outputs": [
    {
     "name": "stdout",
     "output_type": "stream",
     "text": [
      "this is my first demo function\n",
      "this is user defined function\n",
      "None\n"
     ]
    }
   ],
   "source": [
    "print(myfun())"
   ]
  },
  {
   "cell_type": "code",
   "execution_count": 81,
   "id": "08e810d3",
   "metadata": {},
   "outputs": [],
   "source": [
    "def myreturn(a,b):\n",
    "    return a+b, a-b, a*b, a/b"
   ]
  },
  {
   "cell_type": "code",
   "execution_count": 82,
   "id": "28c99f6c",
   "metadata": {},
   "outputs": [
    {
     "data": {
      "text/plain": [
       "(15, 9, 36, 4.0)"
      ]
     },
     "execution_count": 82,
     "metadata": {},
     "output_type": "execute_result"
    }
   ],
   "source": [
    "myreturn(12,3)"
   ]
  },
  {
   "cell_type": "code",
   "execution_count": 83,
   "id": "52fd8cd3",
   "metadata": {},
   "outputs": [
    {
     "name": "stdout",
     "output_type": "stream",
     "text": [
      "(15, 9, 36, 4.0)\n"
     ]
    }
   ],
   "source": [
    "print(myreturn(12,3))"
   ]
  },
  {
   "cell_type": "code",
   "execution_count": 84,
   "id": "175287d7",
   "metadata": {},
   "outputs": [],
   "source": [
    "c=myreturn(10,20)"
   ]
  },
  {
   "cell_type": "code",
   "execution_count": 88,
   "id": "883e5158",
   "metadata": {},
   "outputs": [
    {
     "name": "stdout",
     "output_type": "stream",
     "text": [
      "(30, -10, 200, 0.5)\n"
     ]
    }
   ],
   "source": [
    "print(c)"
   ]
  },
  {
   "cell_type": "code",
   "execution_count": 86,
   "id": "1e214e13",
   "metadata": {},
   "outputs": [
    {
     "name": "stdout",
     "output_type": "stream",
     "text": [
      "this is my first demo function\n",
      "this is user defined function\n"
     ]
    }
   ],
   "source": [
    "d=myfun()"
   ]
  },
  {
   "cell_type": "code",
   "execution_count": 87,
   "id": "808017e9",
   "metadata": {},
   "outputs": [
    {
     "name": "stdout",
     "output_type": "stream",
     "text": [
      "None\n"
     ]
    }
   ],
   "source": [
    "print(d)"
   ]
  },
  {
   "cell_type": "code",
   "execution_count": 95,
   "id": "0a2f7ff3",
   "metadata": {},
   "outputs": [],
   "source": [
    "#unpacking the return values\n",
    "add, sub, mul, div=myreturn(100, 40)"
   ]
  },
  {
   "cell_type": "code",
   "execution_count": 90,
   "id": "27498766",
   "metadata": {},
   "outputs": [
    {
     "data": {
      "text/plain": [
       "140"
      ]
     },
     "execution_count": 90,
     "metadata": {},
     "output_type": "execute_result"
    }
   ],
   "source": [
    "add"
   ]
  },
  {
   "cell_type": "code",
   "execution_count": 91,
   "id": "b5177fe9",
   "metadata": {},
   "outputs": [
    {
     "data": {
      "text/plain": [
       "60"
      ]
     },
     "execution_count": 91,
     "metadata": {},
     "output_type": "execute_result"
    }
   ],
   "source": [
    "sub"
   ]
  },
  {
   "cell_type": "code",
   "execution_count": 92,
   "id": "0aef6e27",
   "metadata": {},
   "outputs": [
    {
     "data": {
      "text/plain": [
       "4000"
      ]
     },
     "execution_count": 92,
     "metadata": {},
     "output_type": "execute_result"
    }
   ],
   "source": [
    "mul"
   ]
  },
  {
   "cell_type": "code",
   "execution_count": 94,
   "id": "6226e6f4",
   "metadata": {},
   "outputs": [
    {
     "data": {
      "text/plain": [
       "2.5"
      ]
     },
     "execution_count": 94,
     "metadata": {},
     "output_type": "execute_result"
    }
   ],
   "source": [
    "div"
   ]
  },
  {
   "cell_type": "code",
   "execution_count": 96,
   "id": "51e03700",
   "metadata": {},
   "outputs": [],
   "source": [
    "a1, a2, a3=[\"manoj\", \"Abhi\", \"Ravi\"]"
   ]
  },
  {
   "cell_type": "code",
   "execution_count": 97,
   "id": "8c928755",
   "metadata": {},
   "outputs": [
    {
     "name": "stdout",
     "output_type": "stream",
     "text": [
      "manoj\n"
     ]
    }
   ],
   "source": [
    "print(a1)"
   ]
  },
  {
   "cell_type": "code",
   "execution_count": 98,
   "id": "316f3a41",
   "metadata": {},
   "outputs": [
    {
     "name": "stdout",
     "output_type": "stream",
     "text": [
      "manoj Abhi Ravi\n"
     ]
    }
   ],
   "source": [
    "print(a1,a2,a3)"
   ]
  },
  {
   "cell_type": "code",
   "execution_count": 100,
   "id": "b8ba2a14",
   "metadata": {},
   "outputs": [
    {
     "data": {
      "text/plain": [
       "tuple"
      ]
     },
     "execution_count": 100,
     "metadata": {},
     "output_type": "execute_result"
    }
   ],
   "source": [
    "type(myreturn(1,2))"
   ]
  },
  {
   "cell_type": "code",
   "execution_count": 101,
   "id": "9ab21bd8",
   "metadata": {},
   "outputs": [],
   "source": [
    "#create a function for checking weither the number is even and prime"
   ]
  },
  {
   "cell_type": "code",
   "execution_count": 126,
   "id": "4965cf99",
   "metadata": {},
   "outputs": [],
   "source": [
    "def ep(num):\n",
    "    eflag,pflag=\"it is even\", \"it is prime number\"\n",
    "    #eflag=True if num%2==0 else eflag=False\n",
    "    if num%2==1:\n",
    "        eflag=\"it is odd\"\n",
    "    \n",
    "    for i in range(2, num):\n",
    "        if num%i==0:\n",
    "            pflag=\"it is not a prime\"\n",
    "            break\n",
    "    return eflag, pflag"
   ]
  },
  {
   "cell_type": "code",
   "execution_count": 127,
   "id": "a8d46230",
   "metadata": {},
   "outputs": [
    {
     "name": "stdout",
     "output_type": "stream",
     "text": [
      "It is even\n"
     ]
    }
   ],
   "source": [
    "if ep(34)[0]:\n",
    "    print(\"It is even\")\n",
    "else:\n",
    "    print(\"Odd\")    "
   ]
  },
  {
   "cell_type": "code",
   "execution_count": 128,
   "id": "6ac4e9ae",
   "metadata": {},
   "outputs": [
    {
     "data": {
      "text/plain": [
       "('it is even', 'it is not a prime')"
      ]
     },
     "execution_count": 128,
     "metadata": {},
     "output_type": "execute_result"
    }
   ],
   "source": [
    "ep(4)"
   ]
  },
  {
   "cell_type": "code",
   "execution_count": 129,
   "id": "9697acd9",
   "metadata": {},
   "outputs": [],
   "source": [
    "#Arbitary functions"
   ]
  },
  {
   "cell_type": "code",
   "execution_count": 131,
   "id": "cdcbdee6",
   "metadata": {},
   "outputs": [
    {
     "name": "stdout",
     "output_type": "stream",
     "text": [
      "{'name': 'Navya'}\n"
     ]
    }
   ],
   "source": [
    "def star(**name):\n",
    "    print(name)\n",
    "star(name=\"Navya\")"
   ]
  },
  {
   "cell_type": "code",
   "execution_count": 136,
   "id": "6802d137",
   "metadata": {},
   "outputs": [],
   "source": [
    "#multiple keys and multiple values\n",
    "def mfun(**name):\n",
    "    print(name[\"id\"], name[\"department\"], name[\"company\"])\n",
    "    \n",
    "    mfun(company=\"Mouritech\", id=\"503248\",department=\"Cloud\")"
   ]
  },
  {
   "cell_type": "code",
   "execution_count": 137,
   "id": "ab719853",
   "metadata": {},
   "outputs": [
    {
     "ename": "SyntaxError",
     "evalue": "invalid syntax (3099998682.py, line 1)",
     "output_type": "error",
     "traceback": [
      "\u001b[1;36m  Input \u001b[1;32mIn [137]\u001b[1;36m\u001b[0m\n\u001b[1;33m    mfun({company=\"Mouritech\", id=\"503248\",department=\"Cloud\"})\u001b[0m\n\u001b[1;37m                 ^\u001b[0m\n\u001b[1;31mSyntaxError\u001b[0m\u001b[1;31m:\u001b[0m invalid syntax\n"
     ]
    }
   ],
   "source": [
    "mfun({company=\"Mouritech\", id=\"503248\",department=\"Cloud\"})"
   ]
  },
  {
   "cell_type": "code",
   "execution_count": 141,
   "id": "23920085",
   "metadata": {},
   "outputs": [
    {
     "data": {
      "text/plain": [
       "[1, 2, 3, 4, 5, 6, 7, 8, 9]"
      ]
     },
     "execution_count": 141,
     "metadata": {},
     "output_type": "execute_result"
    }
   ],
   "source": [
    "a=list(range(1,10))\n",
    "a"
   ]
  },
  {
   "cell_type": "code",
   "execution_count": 158,
   "id": "6735599d",
   "metadata": {},
   "outputs": [
    {
     "data": {
      "text/plain": [
       "0"
      ]
     },
     "execution_count": 158,
     "metadata": {},
     "output_type": "execute_result"
    }
   ],
   "source": [
    "import random\n",
    "random.randrange(0,30,5)"
   ]
  },
  {
   "cell_type": "code",
   "execution_count": 178,
   "id": "f6cb13c8",
   "metadata": {},
   "outputs": [
    {
     "name": "stdout",
     "output_type": "stream",
     "text": [
      "[48, 84, 56, 82, 94, 13, 41, 88, 27, 17, 54, 34, 113, 27]\n"
     ]
    }
   ],
   "source": [
    "b=[]\n",
    "for i in range(1,15):\n",
    "    b.append(random.randint(0,i+100))\n",
    "print(b)"
   ]
  },
  {
   "cell_type": "code",
   "execution_count": 189,
   "id": "d87881b8",
   "metadata": {},
   "outputs": [
    {
     "ename": "IndentationError",
     "evalue": "unindent does not match any outer indentation level (<tokenize>, line 14)",
     "output_type": "error",
     "traceback": [
      "\u001b[1;36m  File \u001b[1;32m<tokenize>:14\u001b[1;36m\u001b[0m\n\u001b[1;33m    sepfun(b)\u001b[0m\n\u001b[1;37m    ^\u001b[0m\n\u001b[1;31mIndentationError\u001b[0m\u001b[1;31m:\u001b[0m unindent does not match any outer indentation level\n"
     ]
    }
   ],
   "source": [
    "def sepfun(a):\n",
    "    if type(a) == list or tuple(a) == tuple:\n",
    "        e=[]\n",
    "        o=[]\n",
    "        for i in a:\n",
    "            if i%2 == 0:\n",
    "                e.append(i)\n",
    "            else:\n",
    "                o.append(i)\n",
    "    else:\n",
    "        return \"Sorry\"\n",
    "    return e,o\n",
    "\n",
    " sepfun(b)      "
   ]
  },
  {
   "cell_type": "code",
   "execution_count": 168,
   "id": "29f9832f",
   "metadata": {},
   "outputs": [
    {
     "ename": "NameError",
     "evalue": "name 'supfun' is not defined",
     "output_type": "error",
     "traceback": [
      "\u001b[1;31m---------------------------------------------------------------------------\u001b[0m",
      "\u001b[1;31mNameError\u001b[0m                                 Traceback (most recent call last)",
      "Input \u001b[1;32mIn [168]\u001b[0m, in \u001b[0;36m<cell line: 1>\u001b[1;34m()\u001b[0m\n\u001b[1;32m----> 1\u001b[0m \u001b[43msupfun\u001b[49m(\u001b[38;5;241m5\u001b[39m)\n",
      "\u001b[1;31mNameError\u001b[0m: name 'supfun' is not defined"
     ]
    }
   ],
   "source": [
    "supfun(5)\n"
   ]
  },
  {
   "cell_type": "code",
   "execution_count": 181,
   "id": "941ad5a3",
   "metadata": {},
   "outputs": [
    {
     "name": "stdout",
     "output_type": "stream",
     "text": [
      "<class 'list'>\n"
     ]
    }
   ],
   "source": [
    "print(type(b))"
   ]
  },
  {
   "cell_type": "code",
   "execution_count": 190,
   "id": "375e2b09",
   "metadata": {},
   "outputs": [
    {
     "data": {
      "text/plain": [
       "list"
      ]
     },
     "execution_count": 190,
     "metadata": {},
     "output_type": "execute_result"
    }
   ],
   "source": [
    "type(b)"
   ]
  },
  {
   "cell_type": "code",
   "execution_count": 192,
   "id": "842bbc60",
   "metadata": {},
   "outputs": [
    {
     "data": {
      "text/plain": [
       "'it is not a number'"
      ]
     },
     "execution_count": 192,
     "metadata": {},
     "output_type": "execute_result"
    }
   ],
   "source": [
    "#checking wether the given input is num or not\n",
    "def checkNum(a):\n",
    "    if str(d).isdigit():\n",
    "        return \"is is a number\"\n",
    "    else:\n",
    "        return \"it is not a number\"\n",
    "checkNum(2)"
   ]
  },
  {
   "cell_type": "code",
   "execution_count": 194,
   "id": "8b662b59",
   "metadata": {},
   "outputs": [],
   "source": [
    "#lamda Expression\n",
    "#Lamba is one line definition function"
   ]
  },
  {
   "cell_type": "code",
   "execution_count": 199,
   "id": "fe35827c",
   "metadata": {},
   "outputs": [],
   "source": [
    "a=10\n",
    "type(a)\n",
    "b = lambda:print(\"This is Lambda\")"
   ]
  },
  {
   "cell_type": "code",
   "execution_count": 200,
   "id": "28128847",
   "metadata": {},
   "outputs": [
    {
     "data": {
      "text/plain": [
       "function"
      ]
     },
     "execution_count": 200,
     "metadata": {},
     "output_type": "execute_result"
    }
   ],
   "source": [
    "type(b)"
   ]
  },
  {
   "cell_type": "code",
   "execution_count": 202,
   "id": "ec91f51a",
   "metadata": {},
   "outputs": [
    {
     "name": "stdout",
     "output_type": "stream",
     "text": [
      "This is Lamda\n"
     ]
    }
   ],
   "source": [
    "b()"
   ]
  },
  {
   "cell_type": "code",
   "execution_count": 207,
   "id": "4fb550b9",
   "metadata": {},
   "outputs": [
    {
     "data": {
      "text/plain": [
       "125"
      ]
     },
     "execution_count": 207,
     "metadata": {},
     "output_type": "execute_result"
    }
   ],
   "source": [
    "c = lambda x:x**3 \n",
    "c(5)"
   ]
  },
  {
   "cell_type": "code",
   "execution_count": 209,
   "id": "48deac8f",
   "metadata": {},
   "outputs": [
    {
     "data": {
      "text/plain": [
       "11"
      ]
     },
     "execution_count": 209,
     "metadata": {},
     "output_type": "execute_result"
    }
   ],
   "source": [
    "d = lambda x,y:x+y\n",
    "d(5,6)"
   ]
  },
  {
   "cell_type": "code",
   "execution_count": 213,
   "id": "10015147",
   "metadata": {},
   "outputs": [
    {
     "name": "stdout",
     "output_type": "stream",
     "text": [
      "Even\n",
      "None\n"
     ]
    }
   ],
   "source": [
    "e = lambda x:print(\"Even\") if x%2 == 0 else print(\"Odd\")\n",
    "print(e(12))"
   ]
  },
  {
   "cell_type": "code",
   "execution_count": 214,
   "id": "98801842",
   "metadata": {},
   "outputs": [],
   "source": [
    "# create a function for checking weither the String is palendrom or not\n",
    "#same program with lanbda\n",
    "#count num of space, uppercase in the given sentence using function?"
   ]
  },
  {
   "cell_type": "code",
   "execution_count": 222,
   "id": "0dbce1cb",
   "metadata": {},
   "outputs": [
    {
     "name": "stdout",
     "output_type": "stream",
     "text": [
      "not a palindrome\n"
     ]
    }
   ],
   "source": [
    "def palinFun(a):\n",
    "    if a.lower()==a.lower()[::-1]:\n",
    "        print(\"palindrome\")\n",
    "    else:\n",
    "        print(\"not a palindrome\")\n",
    "palin(\"Madam \")    "
   ]
  },
  {
   "cell_type": "code",
   "execution_count": 216,
   "id": "a4abc1c6",
   "metadata": {},
   "outputs": [
    {
     "name": "stdout",
     "output_type": "stream",
     "text": [
      "palindrome\n"
     ]
    }
   ],
   "source": [
    "strr = lambda x:print(\"palindrome\") if x.lower()==x.lower()[::-1] else print (\"not palindrome\")\n",
    "strr(\"madam\")"
   ]
  },
  {
   "cell_type": "code",
   "execution_count": 230,
   "id": "f05c7efc",
   "metadata": {},
   "outputs": [
    {
     "ename": "NameError",
     "evalue": "name 'val' is not defined",
     "output_type": "error",
     "traceback": [
      "\u001b[1;31m---------------------------------------------------------------------------\u001b[0m",
      "\u001b[1;31mNameError\u001b[0m                                 Traceback (most recent call last)",
      "Input \u001b[1;32mIn [230]\u001b[0m, in \u001b[0;36m<cell line: 5>\u001b[1;34m()\u001b[0m\n\u001b[0;32m      3\u001b[0m pal \u001b[38;5;241m=\u001b[39m \u001b[38;5;28;01mlambda\u001b[39;00m val:\u001b[38;5;124m\"\u001b[39m\u001b[38;5;124mPalindrome\u001b[39m\u001b[38;5;124m\"\u001b[39m \u001b[38;5;28;01mif\u001b[39;00m val \u001b[38;5;241m==\u001b[39m val[::\u001b[38;5;241m-\u001b[39m\u001b[38;5;241m1\u001b[39m] \u001b[38;5;28;01melse\u001b[39;00m \u001b[38;5;124m\"\u001b[39m\u001b[38;5;124mNo\u001b[39m\u001b[38;5;124m\"\u001b[39m\n\u001b[0;32m      4\u001b[0m pal(\u001b[38;5;124m\"\u001b[39m\u001b[38;5;124mlevel\u001b[39m\u001b[38;5;124m\"\u001b[39m)\n\u001b[1;32m----> 5\u001b[0m \u001b[38;5;28mprint\u001b[39m(\u001b[43mpalfun\u001b[49m\u001b[43m(\u001b[49m\u001b[38;5;124;43m\"\u001b[39;49m\u001b[38;5;124;43mmadam\u001b[39;49m\u001b[38;5;124;43m\"\u001b[39;49m\u001b[43m)\u001b[49m)\n",
      "Input \u001b[1;32mIn [230]\u001b[0m, in \u001b[0;36mpalfun\u001b[1;34m(a)\u001b[0m\n\u001b[0;32m      1\u001b[0m \u001b[38;5;28;01mdef\u001b[39;00m \u001b[38;5;21mpalfun\u001b[39m(a):\n\u001b[1;32m----> 2\u001b[0m     \u001b[38;5;28;01mreturn\u001b[39;00m \u001b[38;5;124m\"\u001b[39m\u001b[38;5;124mPalindrome\u001b[39m\u001b[38;5;124m\"\u001b[39m \u001b[38;5;28;01mif\u001b[39;00m \u001b[43mval\u001b[49m \u001b[38;5;241m==\u001b[39m val[::\u001b[38;5;241m-\u001b[39m\u001b[38;5;241m1\u001b[39m] \u001b[38;5;28;01melse\u001b[39;00m \u001b[38;5;124m\"\u001b[39m\u001b[38;5;124mNo\u001b[39m\u001b[38;5;124m\"\u001b[39m\n",
      "\u001b[1;31mNameError\u001b[0m: name 'val' is not defined"
     ]
    }
   ],
   "source": [
    "def palfun(a):\n",
    "    return \"Palindrome\" if val == val[::-1] else \"No\"\n",
    "pal = lambda val:\"Palindrome\" if val == val[::-1] else \"No\"\n",
    "pal(\"level\")\n",
    "print(palfun(\"madam\"))"
   ]
  },
  {
   "cell_type": "code",
   "execution_count": 234,
   "id": "ef31bcce",
   "metadata": {},
   "outputs": [
    {
     "data": {
      "text/plain": [
       "'aymaR'"
      ]
     },
     "execution_count": 234,
     "metadata": {},
     "output_type": "execute_result"
    }
   ],
   "source": [
    "name = \"Ramya\"\n",
    "\"\".join(list(reversed(name)))"
   ]
  },
  {
   "cell_type": "code",
   "execution_count": 239,
   "id": "28d44adf",
   "metadata": {},
   "outputs": [
    {
     "name": "stdout",
     "output_type": "stream",
     "text": [
      "a\n",
      "y\n",
      "m\n",
      "a\n",
      "R\n"
     ]
    }
   ],
   "source": [
    "for i in reversed(name):\n",
    "    print(i)"
   ]
  },
  {
   "cell_type": "code",
   "execution_count": 241,
   "id": "e77d653c",
   "metadata": {},
   "outputs": [
    {
     "data": {
      "text/plain": [
       "False"
      ]
     },
     "execution_count": 241,
     "metadata": {},
     "output_type": "execute_result"
    }
   ],
   "source": [
    "#all also function\n",
    "all([True, False, True, True, True])"
   ]
  },
  {
   "cell_type": "code",
   "execution_count": 244,
   "id": "6818388c",
   "metadata": {},
   "outputs": [
    {
     "data": {
      "text/plain": [
       "False"
      ]
     },
     "execution_count": 244,
     "metadata": {},
     "output_type": "execute_result"
    }
   ],
   "source": [
    "all([1,0,1,1,1])"
   ]
  },
  {
   "cell_type": "code",
   "execution_count": 245,
   "id": "d1d0c7a1",
   "metadata": {},
   "outputs": [
    {
     "name": "stdout",
     "output_type": "stream",
     "text": [
      "3 2\n"
     ]
    }
   ],
   "source": [
    "def ct(sent):\n",
    "    count,space = 0,0\n",
    "    for i in (sent):\n",
    "        if i.isupper():\n",
    "            count+=1\n",
    "        elif i.isspace():\n",
    "            space+=1\n",
    "        \n",
    "    print(count, space)\n",
    "\n",
    "\n",
    "\n",
    "ct(\"This Is Demo\")"
   ]
  },
  {
   "cell_type": "code",
   "execution_count": 247,
   "id": "a7936c76",
   "metadata": {},
   "outputs": [
    {
     "data": {
      "text/plain": [
       "[('Samyk', 'Something'),\n",
       " ('Navya', 'Coding'),\n",
       " ('Yogesh', 'Digital'),\n",
       " ('Ramya', 'Python'),\n",
       " ('Manoj', 'manoj')]"
      ]
     },
     "execution_count": 247,
     "metadata": {},
     "output_type": "execute_result"
    }
   ],
   "source": [
    "#zipping function\n",
    "name = [\"Samyk\", \"Navya\", \"Yogesh\", \"Ramya\",\"Manoj\"]\n",
    "word = [\"Something\", \"Coding\", \"Digital\", \"Python\", \"manoj\"]\n",
    "list(zip(name, word))"
   ]
  },
  {
   "cell_type": "code",
   "execution_count": 250,
   "id": "a4695b0c",
   "metadata": {},
   "outputs": [
    {
     "data": {
      "text/plain": [
       "[('Samyk', 'Something'),\n",
       " ('Navya', 'Coding'),\n",
       " ('Yogesh', 'Digital'),\n",
       " ('Ramya', 'Python'),\n",
       " ('Manoj', 'manoj')]"
      ]
     },
     "execution_count": 250,
     "metadata": {},
     "output_type": "execute_result"
    }
   ],
   "source": [
    "data = lambda x,y:(x,y)\n",
    "list(map(data,name,word))"
   ]
  },
  {
   "cell_type": "code",
   "execution_count": null,
   "id": "421df820",
   "metadata": {},
   "outputs": [],
   "source": []
  }
 ],
 "metadata": {
  "kernelspec": {
   "display_name": "Python 3 (ipykernel)",
   "language": "python",
   "name": "python3"
  },
  "language_info": {
   "codemirror_mode": {
    "name": "ipython",
    "version": 3
   },
   "file_extension": ".py",
   "mimetype": "text/x-python",
   "name": "python",
   "nbconvert_exporter": "python",
   "pygments_lexer": "ipython3",
   "version": "3.9.12"
  }
 },
 "nbformat": 4,
 "nbformat_minor": 5
}
