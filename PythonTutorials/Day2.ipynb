{
 "cells": [
  {
   "cell_type": "markdown",
   "id": "29a002bd",
   "metadata": {},
   "source": [
    "# Dynamic input"
   ]
  },
  {
   "cell_type": "code",
   "execution_count": 2,
   "id": "328010e3",
   "metadata": {},
   "outputs": [
    {
     "name": "stdout",
     "output_type": "stream",
     "text": [
      "45.96\n"
     ]
    }
   ],
   "source": [
    "z=input()"
   ]
  },
  {
   "cell_type": "code",
   "execution_count": 3,
   "id": "2427cf5f",
   "metadata": {},
   "outputs": [
    {
     "data": {
      "text/plain": [
       "'45.96'"
      ]
     },
     "execution_count": 3,
     "metadata": {},
     "output_type": "execute_result"
    }
   ],
   "source": [
    "z"
   ]
  },
  {
   "cell_type": "code",
   "execution_count": 4,
   "id": "789af76c",
   "metadata": {},
   "outputs": [],
   "source": [
    "#python by default takes string as input"
   ]
  },
  {
   "cell_type": "code",
   "execution_count": 5,
   "id": "1902cf54",
   "metadata": {},
   "outputs": [
    {
     "name": "stdout",
     "output_type": "stream",
     "text": [
      "100\n"
     ]
    }
   ],
   "source": [
    "y = int(input())"
   ]
  },
  {
   "cell_type": "code",
   "execution_count": 6,
   "id": "6ae420a2",
   "metadata": {},
   "outputs": [
    {
     "data": {
      "text/plain": [
       "100"
      ]
     },
     "execution_count": 6,
     "metadata": {},
     "output_type": "execute_result"
    }
   ],
   "source": [
    "y"
   ]
  },
  {
   "cell_type": "code",
   "execution_count": null,
   "id": "e5921796",
   "metadata": {},
   "outputs": [],
   "source": [
    "name=input(\"Enter the value: \")\n",
    "age=float(input(\"Enter the age: \"))\n",
    "print(f\"Enter the name is {name} and enter age is {age}\")"
   ]
  },
  {
   "cell_type": "code",
   "execution_count": null,
   "id": "aa796c8d",
   "metadata": {},
   "outputs": [],
   "source": [
    "name, age"
   ]
  },
  {
   "cell_type": "code",
   "execution_count": 19,
   "id": "9de9d901",
   "metadata": {},
   "outputs": [],
   "source": [
    "# In Ramya last 3 letters should be printed mya\n",
    "# Number of words in a sentence\n"
   ]
  },
  {
   "cell_type": "code",
   "execution_count": 66,
   "id": "35995fdc",
   "metadata": {},
   "outputs": [],
   "source": [
    "a=\"Ramya\""
   ]
  },
  {
   "cell_type": "code",
   "execution_count": 67,
   "id": "74e7e77a",
   "metadata": {},
   "outputs": [],
   "source": [
    "x=slice(5,4)"
   ]
  },
  {
   "cell_type": "code",
   "execution_count": 69,
   "id": "963deafe",
   "metadata": {},
   "outputs": [
    {
     "name": "stdout",
     "output_type": "stream",
     "text": [
      "\n"
     ]
    }
   ],
   "source": [
    "print(a[x])"
   ]
  },
  {
   "cell_type": "code",
   "execution_count": 40,
   "id": "eb264c6f",
   "metadata": {},
   "outputs": [],
   "source": [
    "a=\"Navya\""
   ]
  },
  {
   "cell_type": "code",
   "execution_count": 65,
   "id": "9fbffaeb",
   "metadata": {},
   "outputs": [
    {
     "data": {
      "text/plain": [
       "('v', 'y', 'a')"
      ]
     },
     "execution_count": 65,
     "metadata": {},
     "output_type": "execute_result"
    }
   ],
   "source": [
    "a[-3], a[-2],a[-1]"
   ]
  },
  {
   "cell_type": "code",
   "execution_count": 81,
   "id": "c1ddb4f1",
   "metadata": {},
   "outputs": [
    {
     "data": {
      "text/plain": [
       "30"
      ]
     },
     "execution_count": 81,
     "metadata": {},
     "output_type": "execute_result"
    }
   ],
   "source": [
    "f2 = open(\"ramya.txt\", \"w\")\n",
    "f2.write(\" This is My first file program\")"
   ]
  },
  {
   "cell_type": "code",
   "execution_count": 101,
   "id": "8cba5545",
   "metadata": {},
   "outputs": [
    {
     "ename": "NameError",
     "evalue": "name 'write' is not defined",
     "output_type": "error",
     "traceback": [
      "\u001b[1;31m---------------------------------------------------------------------------\u001b[0m",
      "\u001b[1;31mNameError\u001b[0m                                 Traceback (most recent call last)",
      "Input \u001b[1;32mIn [101]\u001b[0m, in \u001b[0;36m<cell line: 1>\u001b[1;34m()\u001b[0m\n\u001b[1;32m----> 1\u001b[0m \u001b[38;5;28mprint\u001b[39m(\u001b[43mwrite\u001b[49m(\u001b[38;5;28minput\u001b[39m(\u001b[38;5;124m\"\u001b[39m\u001b[38;5;124mEnter a sentence\u001b[39m\u001b[38;5;124m\"\u001b[39m)))\n",
      "\u001b[1;31mNameError\u001b[0m: name 'write' is not defined"
     ]
    }
   ],
   "source": [
    "print(write(input(\"Enter a sentence\")))"
   ]
  },
  {
   "cell_type": "code",
   "execution_count": 96,
   "id": "0accec2b",
   "metadata": {},
   "outputs": [
    {
     "name": "stdout",
     "output_type": "stream",
     "text": [
      "Enter Input:gch  hbjxn ghcj\n",
      "hbjxn\n"
     ]
    }
   ],
   "source": [
    "print((input(\"Enter Input:\").split())[1])"
   ]
  },
  {
   "cell_type": "code",
   "execution_count": null,
   "id": "2c6b4f33",
   "metadata": {},
   "outputs": [],
   "source": [
    "countofWords=len(\"This is sentence\".split())\n",
    "print(\"count the given sentence:\",countofWords )"
   ]
  },
  {
   "cell_type": "code",
   "execution_count": 99,
   "id": "21422e5a",
   "metadata": {},
   "outputs": [],
   "source": [
    "countofWordsletters=len(\"This is sentence\".split())"
   ]
  },
  {
   "cell_type": "code",
   "execution_count": 102,
   "id": "9dbb66da",
   "metadata": {},
   "outputs": [
    {
     "name": "stdout",
     "output_type": "stream",
     "text": [
      "Enter the value:vvv ffvfv\n"
     ]
    },
    {
     "ename": "AttributeError",
     "evalue": "'str' object has no attribute 'write'",
     "output_type": "error",
     "traceback": [
      "\u001b[1;31m---------------------------------------------------------------------------\u001b[0m",
      "\u001b[1;31mAttributeError\u001b[0m                            Traceback (most recent call last)",
      "Input \u001b[1;32mIn [102]\u001b[0m, in \u001b[0;36m<cell line: 2>\u001b[1;34m()\u001b[0m\n\u001b[0;32m      1\u001b[0m words \u001b[38;5;241m=\u001b[39m \u001b[38;5;28minput\u001b[39m(\u001b[38;5;124m\"\u001b[39m\u001b[38;5;124mEnter the value:\u001b[39m\u001b[38;5;124m\"\u001b[39m)\n\u001b[1;32m----> 2\u001b[0m \u001b[43mwords\u001b[49m\u001b[38;5;241;43m.\u001b[39;49m\u001b[43mwrite\u001b[49m()\n",
      "\u001b[1;31mAttributeError\u001b[0m: 'str' object has no attribute 'write'"
     ]
    }
   ],
   "source": [
    "words = input(\"Enter the value:\")\n",
    "words.write()"
   ]
  },
  {
   "cell_type": "code",
   "execution_count": 119,
   "id": "2069f2a1",
   "metadata": {},
   "outputs": [
    {
     "name": "stdout",
     "output_type": "stream",
     "text": [
      "this is the one that obj\n",
      "4\n",
      "one\n"
     ]
    }
   ],
   "source": [
    "myInput = input()\n",
    "oplist = myInput.split()\n",
    "mWord=\"\"\n",
    "if len(oplist)%2:\n",
    "    mWord = oplist[len(oplist)//2]\n",
    "else:\n",
    "    print(((len(oplist)//2) + 1))\n",
    "    mWord = oplist[(len(oplist)//2)]\n",
    "print(mWord)"
   ]
  },
  {
   "cell_type": "code",
   "execution_count": 104,
   "id": "0de297a7",
   "metadata": {},
   "outputs": [
    {
     "data": {
      "text/plain": [
       "1"
      ]
     },
     "execution_count": 104,
     "metadata": {},
     "output_type": "execute_result"
    }
   ],
   "source": [
    "5%2"
   ]
  },
  {
   "cell_type": "code",
   "execution_count": 116,
   "id": "f470eec6",
   "metadata": {},
   "outputs": [
    {
     "data": {
      "text/plain": [
       "0"
      ]
     },
     "execution_count": 116,
     "metadata": {},
     "output_type": "execute_result"
    }
   ],
   "source": [
    "6%2"
   ]
  },
  {
   "cell_type": "code",
   "execution_count": 114,
   "id": "20099194",
   "metadata": {},
   "outputs": [
    {
     "data": {
      "text/plain": [
       "2"
      ]
     },
     "execution_count": 114,
     "metadata": {},
     "output_type": "execute_result"
    }
   ],
   "source": [
    "4//2"
   ]
  },
  {
   "cell_type": "code",
   "execution_count": 108,
   "id": "cf2ee408",
   "metadata": {},
   "outputs": [
    {
     "data": {
      "text/plain": [
       "3.142857142857143"
      ]
     },
     "execution_count": 108,
     "metadata": {},
     "output_type": "execute_result"
    }
   ],
   "source": [
    "22/7"
   ]
  },
  {
   "cell_type": "code",
   "execution_count": 109,
   "id": "e4943e9e",
   "metadata": {},
   "outputs": [
    {
     "data": {
      "text/plain": [
       "3"
      ]
     },
     "execution_count": 109,
     "metadata": {},
     "output_type": "execute_result"
    }
   ],
   "source": [
    "22//7"
   ]
  },
  {
   "cell_type": "code",
   "execution_count": 1,
   "id": "3e51e5bd",
   "metadata": {},
   "outputs": [
    {
     "name": "stdout",
     "output_type": "stream",
     "text": [
      "5\n"
     ]
    }
   ],
   "source": [
    "mylist=[1,2,3,4,5]\n",
    "print(mylist[-1])"
   ]
  },
  {
   "cell_type": "code",
   "execution_count": 3,
   "id": "7a904670",
   "metadata": {},
   "outputs": [
    {
     "name": "stdout",
     "output_type": "stream",
     "text": [
      "3 2\n"
     ]
    }
   ],
   "source": [
    "def swap(x,y):\n",
    "    x,y=y,x\n",
    "    return x,y\n",
    "x=2\n",
    "y=3\n",
    "x,y=swap(x,y)\n",
    "print(x, y)"
   ]
  },
  {
   "cell_type": "code",
   "execution_count": 4,
   "id": "b6e67d7e",
   "metadata": {},
   "outputs": [
    {
     "name": "stdout",
     "output_type": "stream",
     "text": [
      "None\n"
     ]
    }
   ],
   "source": [
    "points = [2,4,1,3]\n",
    "rank = points.sort()\n",
    "print(rank)"
   ]
  },
  {
   "cell_type": "code",
   "execution_count": 5,
   "id": "f08f7d81",
   "metadata": {},
   "outputs": [
    {
     "data": {
      "text/plain": [
       "['A', 'B', 'C']"
      ]
     },
     "execution_count": 5,
     "metadata": {},
     "output_type": "execute_result"
    }
   ],
   "source": [
    "a = {'B':5,'A':9,'C':7}\n",
    "sorted(a)"
   ]
  },
  {
   "cell_type": "code",
   "execution_count": 32,
   "id": "9a7a2a5e",
   "metadata": {},
   "outputs": [
    {
     "name": "stdout",
     "output_type": "stream",
     "text": [
      "32 2\n",
      "[]\n"
     ]
    }
   ],
   "source": [
    "L1=[32,3,54,8,100]\n",
    "L2 =[2]\n",
    "L3=[]\n",
    "for (x,y) in zip(L1, L2):\n",
    "    print(x, y)\n",
    "    if x>10 and(y<5):\n",
    "#         L3 = L3 + (x+y)\n",
    "        print(L3)"
   ]
  },
  {
   "cell_type": "code",
   "execution_count": 9,
   "id": "bdeb906e",
   "metadata": {},
   "outputs": [],
   "source": [
    "x=1 <<2"
   ]
  },
  {
   "cell_type": "code",
   "execution_count": 10,
   "id": "711c9c2e",
   "metadata": {},
   "outputs": [
    {
     "ename": "SyntaxError",
     "evalue": "invalid syntax (3570539996.py, line 1)",
     "output_type": "error",
     "traceback": [
      "\u001b[1;36m  Input \u001b[1;32mIn [10]\u001b[1;36m\u001b[0m\n\u001b[1;33m    1st =[2,]*3\u001b[0m\n\u001b[1;37m     ^\u001b[0m\n\u001b[1;31mSyntaxError\u001b[0m\u001b[1;31m:\u001b[0m invalid syntax\n"
     ]
    }
   ],
   "source": [
    "1st =[2,]*3\n",
    "print(1st)"
   ]
  },
  {
   "cell_type": "code",
   "execution_count": 11,
   "id": "c9442c6c",
   "metadata": {},
   "outputs": [
    {
     "name": "stdout",
     "output_type": "stream",
     "text": [
      "1\n"
     ]
    }
   ],
   "source": [
    "print(\"xyyzxyzxzxyy\".count('yy',2))"
   ]
  },
  {
   "cell_type": "code",
   "execution_count": 15,
   "id": "4bcd8b2d",
   "metadata": {},
   "outputs": [
    {
     "data": {
      "text/plain": [
       "\"a=H,bO,c=['E', 'L']\""
      ]
     },
     "execution_count": 15,
     "metadata": {},
     "output_type": "execute_result"
    }
   ],
   "source": [
    "I=list('HELLO')\n",
    "p=I[0],I[-1],I[1:3]\n",
    "'a={0},b{1},c={2}'.format(*p)"
   ]
  },
  {
   "cell_type": "code",
   "execution_count": 20,
   "id": "14e8ea4f",
   "metadata": {},
   "outputs": [
    {
     "data": {
      "text/plain": [
       "'0b1111111111111111'"
      ]
     },
     "execution_count": 20,
     "metadata": {},
     "output_type": "execute_result"
    }
   ],
   "source": [
    "bin((2**16)-1)"
   ]
  },
  {
   "cell_type": "code",
   "execution_count": 21,
   "id": "cac43253",
   "metadata": {},
   "outputs": [
    {
     "name": "stdout",
     "output_type": "stream",
     "text": [
      "0b1111111111111111\n"
     ]
    }
   ],
   "source": [
    "print(format(bin((2**16)-1)))"
   ]
  },
  {
   "cell_type": "code",
   "execution_count": 23,
   "id": "fd8f8ab1",
   "metadata": {},
   "outputs": [
    {
     "name": "stdout",
     "output_type": "stream",
     "text": [
      "34.000000\n"
     ]
    }
   ],
   "source": [
    "x=34\n",
    "print(\"%f\"%x)"
   ]
  },
  {
   "cell_type": "markdown",
   "id": "07031653",
   "metadata": {},
   "source": [
    "s1={3,4}\n",
    "s2={1,2}\n",
    "s3=set()\n",
    "i=0\n",
    "j=0\n",
    "for i in s1:\n",
    "for j in s2:\n",
    "s3.add((i,j))\n",
    "i+=1\n",
    "j+=1\n",
    "print(s3"
   ]
  },
  {
   "cell_type": "code",
   "execution_count": 25,
   "id": "b739ce7d",
   "metadata": {},
   "outputs": [
    {
     "ename": "IndentationError",
     "evalue": "unexpected indent (2443982454.py, line 8)",
     "output_type": "error",
     "traceback": [
      "\u001b[1;36m  Input \u001b[1;32mIn [25]\u001b[1;36m\u001b[0m\n\u001b[1;33m    i+=1 j+=1\u001b[0m\n\u001b[1;37m    ^\u001b[0m\n\u001b[1;31mIndentationError\u001b[0m\u001b[1;31m:\u001b[0m unexpected indent\n"
     ]
    }
   ],
   "source": [
    "s1={3,4} \n",
    "s2={1,2}\n",
    "s3=set()\n",
    "i=0 \n",
    "j=0 \n",
    "for i in s1: \n",
    "    for j in s2: s3.add((i,j)) \n",
    "        i+=1 j+=1 \n",
    "        print(s3)"
   ]
  },
  {
   "cell_type": "code",
   "execution_count": 27,
   "id": "120e8941",
   "metadata": {},
   "outputs": [
    {
     "data": {
      "text/plain": [
       "'0b1000'"
      ]
     },
     "execution_count": 27,
     "metadata": {},
     "output_type": "execute_result"
    }
   ],
   "source": [
    "bin(0x8)"
   ]
  },
  {
   "cell_type": "code",
   "execution_count": 36,
   "id": "4d751e6d",
   "metadata": {},
   "outputs": [
    {
     "data": {
      "text/plain": [
       "[88, 3, [4, 5]]"
      ]
     },
     "execution_count": 36,
     "metadata": {},
     "output_type": "execute_result"
    }
   ],
   "source": [
    "I=[2,3,[4,5]]\n",
    "I2=I.copy()\n",
    "I2[0]=88\n",
    "I2"
   ]
  },
  {
   "cell_type": "code",
   "execution_count": 38,
   "id": "e6ddc42e",
   "metadata": {},
   "outputs": [
    {
     "name": "stdout",
     "output_type": "stream",
     "text": [
      "100\n"
     ]
    }
   ],
   "source": [
    "def fun(n):\n",
    "    if(n>100):\n",
    "        return n-5\n",
    "    return fun(fun(n+11));\n",
    "print(fun(45))"
   ]
  },
  {
   "cell_type": "code",
   "execution_count": 40,
   "id": "83ecb6bf",
   "metadata": {},
   "outputs": [
    {
     "name": "stdout",
     "output_type": "stream",
     "text": [
      "<map object at 0x000001D42F486130>\n"
     ]
    }
   ],
   "source": [
    "I=[-2,4]\n",
    "m = map(lambda x:x*2,I)\n",
    "print(m)"
   ]
  },
  {
   "cell_type": "code",
   "execution_count": 43,
   "id": "ab8b7d73",
   "metadata": {},
   "outputs": [
    {
     "data": {
      "text/plain": [
       "[4,\n",
       " 6,\n",
       " 8,\n",
       " 10,\n",
       " 12,\n",
       " 14,\n",
       " 16,\n",
       " 18,\n",
       " 20,\n",
       " 22,\n",
       " 24,\n",
       " 26,\n",
       " 28,\n",
       " 30,\n",
       " 32,\n",
       " 34,\n",
       " 36,\n",
       " 38,\n",
       " 40,\n",
       " 42,\n",
       " 44,\n",
       " 46,\n",
       " 48,\n",
       " 6,\n",
       " 9,\n",
       " 12,\n",
       " 15,\n",
       " 18,\n",
       " 21,\n",
       " 24,\n",
       " 27,\n",
       " 30,\n",
       " 33,\n",
       " 36,\n",
       " 39,\n",
       " 42,\n",
       " 45,\n",
       " 48,\n",
       " 8,\n",
       " 12,\n",
       " 16,\n",
       " 20,\n",
       " 24,\n",
       " 28,\n",
       " 32,\n",
       " 36,\n",
       " 40,\n",
       " 44,\n",
       " 48,\n",
       " 10,\n",
       " 15,\n",
       " 20,\n",
       " 25,\n",
       " 30,\n",
       " 35,\n",
       " 40,\n",
       " 45,\n",
       " 12,\n",
       " 18,\n",
       " 24,\n",
       " 30,\n",
       " 36,\n",
       " 42,\n",
       " 48,\n",
       " 14,\n",
       " 21,\n",
       " 28,\n",
       " 35,\n",
       " 42,\n",
       " 49]"
      ]
     },
     "execution_count": 43,
     "metadata": {},
     "output_type": "execute_result"
    }
   ],
   "source": [
    "[j for i in range(2,8) for j in range(i*2,50,i)]"
   ]
  },
  {
   "cell_type": "code",
   "execution_count": 46,
   "id": "5f40e9d0",
   "metadata": {},
   "outputs": [
    {
     "name": "stdout",
     "output_type": "stream",
     "text": [
      "[['a'], ['b'], ['c'], ['d']]\n"
     ]
    }
   ],
   "source": [
    "x='abcd'\n",
    "print(list(map(list,x)))"
   ]
  },
  {
   "cell_type": "code",
   "execution_count": 48,
   "id": "9151ade4",
   "metadata": {},
   "outputs": [
    {
     "ename": "TypeError",
     "evalue": "unhashable type: 'slice'",
     "output_type": "error",
     "traceback": [
      "\u001b[1;31m---------------------------------------------------------------------------\u001b[0m",
      "\u001b[1;31mTypeError\u001b[0m                                 Traceback (most recent call last)",
      "Input \u001b[1;32mIn [48]\u001b[0m, in \u001b[0;36m<cell line: 1>\u001b[1;34m()\u001b[0m\n\u001b[1;32m----> 1\u001b[0m a\u001b[38;5;241m=\u001b[39m(\u001b[38;5;241m1\u001b[39m,\u001b[38;5;241m2\u001b[39m,\u001b[38;5;241m3\u001b[39m,\u001b[38;5;241m4\u001b[39m), \u001b[43ma\u001b[49m\u001b[43m[\u001b[49m\u001b[38;5;241;43m1\u001b[39;49m\u001b[43m:\u001b[49m\u001b[38;5;241;43m-\u001b[39;49m\u001b[38;5;241;43m1\u001b[39;49m\u001b[43m]\u001b[49m\n",
      "\u001b[1;31mTypeError\u001b[0m: unhashable type: 'slice'"
     ]
    }
   ],
   "source": [
    "if a=(1,2,3,4), a[1:-1]"
   ]
  },
  {
   "cell_type": "code",
   "execution_count": 49,
   "id": "a2b471e6",
   "metadata": {},
   "outputs": [],
   "source": [
    "a=(1,2,3,4)\n",
    "del a"
   ]
  },
  {
   "cell_type": "code",
   "execution_count": 62,
   "id": "76587eb0",
   "metadata": {},
   "outputs": [
    {
     "name": "stdout",
     "output_type": "stream",
     "text": [
      "17\n"
     ]
    }
   ],
   "source": [
    "def test(i,j):\n",
    "    if(i==0):\n",
    "        return j\n",
    "    else:\n",
    "        return test(i-1,i+j)\n",
    "print(test(4,7))"
   ]
  },
  {
   "cell_type": "code",
   "execution_count": 65,
   "id": "e7e74482",
   "metadata": {},
   "outputs": [
    {
     "name": "stdout",
     "output_type": "stream",
     "text": [
      "0112"
     ]
    }
   ],
   "source": [
    "def a(n):\n",
    "    if n ==0:\n",
    "        return 0\n",
    "    elif n ==1:\n",
    "        return 1\n",
    "    else:\n",
    "        return a(n-1)+a(n-2)\n",
    "for i in range(0,4):\n",
    "        print(a(i),end=\"\")"
   ]
  },
  {
   "cell_type": "code",
   "execution_count": 66,
   "id": "aa21a063",
   "metadata": {},
   "outputs": [
    {
     "data": {
      "text/plain": [
       "17"
      ]
     },
     "execution_count": 66,
     "metadata": {},
     "output_type": "execute_result"
    }
   ],
   "source": [
    "test(4,7)"
   ]
  },
  {
   "cell_type": "code",
   "execution_count": null,
   "id": "dad6cf57",
   "metadata": {},
   "outputs": [],
   "source": []
  }
 ],
 "metadata": {
  "kernelspec": {
   "display_name": "Python 3 (ipykernel)",
   "language": "python",
   "name": "python3"
  },
  "language_info": {
   "codemirror_mode": {
    "name": "ipython",
    "version": 3
   },
   "file_extension": ".py",
   "mimetype": "text/x-python",
   "name": "python",
   "nbconvert_exporter": "python",
   "pygments_lexer": "ipython3",
   "version": "3.9.12"
  }
 },
 "nbformat": 4,
 "nbformat_minor": 5
}
