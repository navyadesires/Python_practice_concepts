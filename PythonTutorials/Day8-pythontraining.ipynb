{
 "cells": [
  {
   "cell_type": "markdown",
   "id": "4db1b67d",
   "metadata": {},
   "source": [
    "# File Handling in Python"
   ]
  },
  {
   "cell_type": "markdown",
   "id": "46929c38",
   "metadata": {},
   "source": [
    " file is a set of data used for reading writing and executing explicit operation on file-open,rename...."
   ]
  },
  {
   "cell_type": "code",
   "execution_count": 2,
   "id": "7672b4ac",
   "metadata": {},
   "outputs": [
    {
     "ename": "FileNotFoundError",
     "evalue": "[Errno 2] No such file or directory: 'Ramya.txt'",
     "output_type": "error",
     "traceback": [
      "\u001b[1;31m---------------------------------------------------------------------------\u001b[0m",
      "\u001b[1;31mFileNotFoundError\u001b[0m                         Traceback (most recent call last)",
      "Input \u001b[1;32mIn [2]\u001b[0m, in \u001b[0;36m<cell line: 1>\u001b[1;34m()\u001b[0m\n\u001b[1;32m----> 1\u001b[0m f1 \u001b[38;5;241m=\u001b[39m \u001b[38;5;28;43mopen\u001b[39;49m\u001b[43m(\u001b[49m\u001b[38;5;124;43m\"\u001b[39;49m\u001b[38;5;124;43mRamya.txt\u001b[39;49m\u001b[38;5;124;43m\"\u001b[39;49m\u001b[43m)\u001b[49m\n",
      "\u001b[1;31mFileNotFoundError\u001b[0m: [Errno 2] No such file or directory: 'Ramya.txt'"
     ]
    }
   ],
   "source": [
    "f1 = open(\"Ramya.txt\")"
   ]
  },
  {
   "cell_type": "markdown",
   "id": "bbca684a",
   "metadata": {},
   "source": [
    "### Above cell,since there is no Ramya,txt available, we are getting error. "
   ]
  },
  {
   "cell_type": "code",
   "execution_count": 24,
   "id": "c16da967",
   "metadata": {},
   "outputs": [
    {
     "data": {
      "text/plain": [
       "17"
      ]
     },
     "execution_count": 24,
     "metadata": {},
     "output_type": "execute_result"
    }
   ],
   "source": [
    "f2 = open(\"ramya.txt\", \"w\")\n",
    "f2.write(\" This is My first file program\")\n",
    "f2.write(\"\\nThis is new line\")"
   ]
  },
  {
   "cell_type": "code",
   "execution_count": 25,
   "id": "f580b795",
   "metadata": {},
   "outputs": [],
   "source": [
    "f2 = open(\"ramya.txt\", \"w\")\n",
    "f2.write(\"\\nThis is new line\")\n",
    "f2.close()"
   ]
  },
  {
   "cell_type": "code",
   "execution_count": 26,
   "id": "7fcbf4d4",
   "metadata": {},
   "outputs": [],
   "source": [
    "#write mode always overide the existing data"
   ]
  },
  {
   "cell_type": "code",
   "execution_count": 27,
   "id": "655c2cee",
   "metadata": {},
   "outputs": [],
   "source": [
    "# to avoid override we use \"a\" which appends data to existing file\n",
    "f2 = open(\"ramya.txt\", \"a\")\n",
    "f2.write(\"\\nThis is new sentence\")\n",
    "f2.close()"
   ]
  },
  {
   "cell_type": "code",
   "execution_count": 28,
   "id": "62031c2c",
   "metadata": {},
   "outputs": [
    {
     "name": "stdout",
     "output_type": "stream",
     "text": [
      "\n",
      "This is new linefile program\n",
      "This is new line\n",
      "This is new sentence\n"
     ]
    }
   ],
   "source": [
    "# to read the file content we use read function\n",
    "f3= open(\"ramya.txt\")\n",
    "print(f3.read())\n",
    "f3.close()"
   ]
  },
  {
   "cell_type": "code",
   "execution_count": 29,
   "id": "aaf45da9",
   "metadata": {},
   "outputs": [
    {
     "name": "stdout",
     "output_type": "stream",
     "text": [
      "['\\n', 'This is new linefile program\\n', 'This is new line\\n', 'This is new sentence']\n"
     ]
    }
   ],
   "source": [
    "#read every line as list item\n",
    "f3 =open(\"ramya.txt\", \"r\")\n",
    "print(f3.readlines())\n",
    "f3.close()"
   ]
  },
  {
   "cell_type": "code",
   "execution_count": 30,
   "id": "02ca8bcf",
   "metadata": {},
   "outputs": [
    {
     "name": "stdout",
     "output_type": "stream",
     "text": [
      "Tu jo roota to kaun hansega\n",
      "Tu jo chhoota toh kaun rahega\n",
      "Tu chup hai toh yeh darr lagta hai\n",
      "Apna mujhko ko ab kaun kahega\n"
     ]
    }
   ],
   "source": [
    "song = open(r\"C:\\Users\\ramyatr\\Music\\hinditext.txt\", \"r\", encoding=\"utf-8\")\n",
    "print(song.read())\n",
    "song.close()"
   ]
  },
  {
   "cell_type": "code",
   "execution_count": 31,
   "id": "f7032d92",
   "metadata": {},
   "outputs": [
    {
     "name": "stdout",
     "output_type": "stream",
     "text": [
      "['Tu jo roota to kaun hansega\\n', 'Tu jo chhoota toh kaun rahega\\n', 'Tu chup hai toh yeh darr lagta hai\\n', 'Apna mujhko ko ab kaun kahega']\n"
     ]
    }
   ],
   "source": [
    "song = open(r\"C:\\Users\\ramyatr\\Music\\hinditext.txt\", \"r\", encoding=\"utf-8\")\n",
    "print(song.readlines())\n",
    "song.close()"
   ]
  },
  {
   "cell_type": "code",
   "execution_count": 30,
   "id": "98c65810",
   "metadata": {},
   "outputs": [
    {
     "name": "stdout",
     "output_type": "stream",
     "text": [
      "Tu jo roota to kaun hansega\n",
      "\n",
      "Tu jo chhoota toh kaun rahega\n",
      "Tu chup hai toh yeh darr lagta hai\n",
      "Apna mujhko ko ab kaun kahega\n"
     ]
    }
   ],
   "source": [
    "song = open(r\"C:\\Users\\ramyatr\\Music\\hinditext.txt\", \"r\", encoding=\"utf-8\")\n",
    "print(song.readline())# function to read one line\n",
    "print(song.read())#This read will read the content from next line onwards, till readline() has completed\n",
    "song.close()"
   ]
  },
  {
   "cell_type": "code",
   "execution_count": 33,
   "id": "951bca4c",
   "metadata": {},
   "outputs": [
    {
     "name": "stdout",
     "output_type": "stream",
     "text": [
      "Tu jo\n"
     ]
    }
   ],
   "source": [
    "song = open(r\"C:\\Users\\ramyatr\\Music\\hinditext.txt\", \"r\", encoding=\"utf-8\")\n",
    "print(song.read(5))\n",
    "song.close()"
   ]
  },
  {
   "cell_type": "code",
   "execution_count": 34,
   "id": "679b71a3",
   "metadata": {},
   "outputs": [],
   "source": [
    "#example of writing telugu song\n",
    "#triple quote to accept multi line sentence as one sentence(to accept new line)\n",
    "rrr = open(\"telugulyrics.txt\",\"w\", encoding=\"utf-8\")\n",
    "rrr.write(\"\"\"గిర గిర గిర తిరగలి లాగా… తిరిగి అరిగిపోయినా, దినుసే నలగా లేదులే\n",
    "హొయ్ హొయ్ హొయ్ హొయ్…\n",
    "అలుపెరగక తనవెనకాలే అలసి సొలసి పోయినా… మనసే కరగా లేదులే…\n",
    "హొయ్ హొయ్ హొయ్ హొయ్…\n",
    "చినదేమో తిరిగే చూడదే… ప్రేమంటే అసలే పడదే, హోయ్…\"\"\")\n",
    "rrr.close()"
   ]
  },
  {
   "cell_type": "code",
   "execution_count": 2,
   "id": "34ed7671",
   "metadata": {},
   "outputs": [
    {
     "name": "stdout",
     "output_type": "stream",
     "text": [
      "గిర గిర గిర తిరగలి లాగా… తిరిగి అరిగిపోయినా, దినుసే నలగా లేదులే\n",
      "హొయ్ హొయ్ హొయ్ హొయ్…\n",
      "అలుపెరగక తనవెనకాలే అలసి సొలసి పోయినా… మనసే కరగా లేదులే…\n",
      "హొయ్ హొయ్ హొయ్ హొయ్…\n",
      "చినదేమో తిరిగే చూడదే… ప్రేమంటే అసలే పడదే, హోయ్…\n"
     ]
    }
   ],
   "source": [
    "ramya= open(\"telugulyrics.txt\", encoding=\"utf-8\") #by default mode is r\n",
    "print(ramya.read())\n",
    "ramya.close()"
   ]
  },
  {
   "cell_type": "code",
   "execution_count": 39,
   "id": "1b857a43",
   "metadata": {},
   "outputs": [
    {
     "name": "stdout",
     "output_type": "stream",
     "text": [
      "\n",
      "-----\n",
      " -                    Ramya\n",
      " -\n",
      "\n"
     ]
    }
   ],
   "source": [
    "print(\"\"\"\n",
    "-----\n",
    " -                    Ramya\n",
    " -\n",
    "\"\"\")"
   ]
  },
  {
   "cell_type": "code",
   "execution_count": 40,
   "id": "ddbc28a3",
   "metadata": {},
   "outputs": [],
   "source": [
    "# Write a program to generate even in even file odd number is odd file"
   ]
  },
  {
   "cell_type": "code",
   "execution_count": 37,
   "id": "679b8135",
   "metadata": {},
   "outputs": [],
   "source": [
    "even = open(\"even.txt\", \"w\")\n",
    "odd = open(\"odd.txt\", \"w\")\n",
    "for i in range(1,100):\n",
    "    if i%2==0:\n",
    "        even.write(str(i)+\"\")\n",
    "    else:\n",
    "        odd.write(str(i)+\"\")\n",
    "    \n",
    "even.close()\n",
    "odd.close()\n",
    "# to write content in file, the writing characters should of type string"
   ]
  },
  {
   "cell_type": "code",
   "execution_count": 38,
   "id": "bb30a9c1",
   "metadata": {
    "scrolled": false
   },
   "outputs": [
    {
     "name": "stdout",
     "output_type": "stream",
     "text": [
      "56734\n"
     ]
    }
   ],
   "source": [
    "num = int(input())\n",
    "file = open(\"file.txt\", \"w\")\n",
    "file.write(\"f{num} is even number\") if num%2== 0 else file.write(f\"{num} is odd number\")\n",
    "file.write(f\"\\n{num} reverse is {str(num)[::-1]}\")\n",
    "file.close()"
   ]
  },
  {
   "cell_type": "code",
   "execution_count": null,
   "id": "4f0f6b02",
   "metadata": {},
   "outputs": [],
   "source": [
    "# binary file in python (reading, writing)"
   ]
  },
  {
   "cell_type": "code",
   "execution_count": 57,
   "id": "9a6ddfd6",
   "metadata": {},
   "outputs": [],
   "source": [
    "f4 = open(\"file\", \"wb\") # file.bin or file are same, which is defined by the mode\n",
    "f4.write(b\"this is a binary file demo 1\") # b before \"\" to save string in binary file\n",
    "f4.close()"
   ]
  },
  {
   "cell_type": "code",
   "execution_count": 58,
   "id": "9987ed85",
   "metadata": {},
   "outputs": [
    {
     "name": "stdout",
     "output_type": "stream",
     "text": [
      "b'this is a binary file demo 1'\n"
     ]
    }
   ],
   "source": [
    "f5 = open(\"file\",\"rb\")\n",
    "print(f5.read())\n",
    "f5.close()"
   ]
  },
  {
   "cell_type": "code",
   "execution_count": 59,
   "id": "b8af25c8",
   "metadata": {},
   "outputs": [
    {
     "name": "stdout",
     "output_type": "stream",
     "text": [
      "this is a binary file demo 1\n"
     ]
    }
   ],
   "source": [
    "f5= open(\"file\", \"rb\")\n",
    "print(f5.read().decode()) # decode to convert byte format to normal format\n",
    "f5.close()"
   ]
  },
  {
   "cell_type": "code",
   "execution_count": 3,
   "id": "154f125f",
   "metadata": {},
   "outputs": [
    {
     "name": "stdout",
     "output_type": "stream",
     "text": [
      "గిర గిర గిర తిరగలి లాగా… తిరిగి అరిగిపోయినా, దినుసే నలగా లేదులే\n",
      "హొయ్ హొయ్ హొయ్ హొయ్…\n",
      "అలుపెరగక తనవెనకాలే అలసి సొలసి పోయినా… మనసే కరగా లేదులే…\n",
      "హొయ్ హొయ్ హొయ్ హొయ్…\n",
      "చినదేమో తిరిగే చూడదే… ప్రేమంటే అసలే పడదే, హోయ్…\n"
     ]
    }
   ],
   "source": [
    "f6 = open(\"telugulyrics.txt\", \"r+\", encoding=\"utf-8\")\n",
    "print(f6.read())\n",
    "f6.close()"
   ]
  },
  {
   "cell_type": "code",
   "execution_count": 6,
   "id": "3e756aef",
   "metadata": {},
   "outputs": [],
   "source": [
    "f6 = open(\"telugulyrics.txt\", \"r+\", encoding=\"utf-8\")\n",
    "f6.write(\"song deleted by ramya tr\")\n",
    "f6.close()"
   ]
  },
  {
   "cell_type": "code",
   "execution_count": 7,
   "id": "4cfb5fac",
   "metadata": {},
   "outputs": [],
   "source": [
    "f6 = open(\"telugulyrics.txt\", \"r+\", encoding=\"utf-8\")\n",
    "f6.write(\"అలుపెరగక తనవెనకాలే అలసి సొలసి పోయినా\")\n",
    "f6.close()"
   ]
  },
  {
   "cell_type": "code",
   "execution_count": 8,
   "id": "ed18cf4a",
   "metadata": {},
   "outputs": [
    {
     "name": "stdout",
     "output_type": "stream",
     "text": [
      "This is file writing. \n",
      "This is new topic\n",
      "purpose of the operating file\n",
      "\n"
     ]
    }
   ],
   "source": [
    "f7 = open(\"ramya.txt\", \"r+\")\n",
    "print(f7.read())\n",
    "f7.close()"
   ]
  },
  {
   "cell_type": "code",
   "execution_count": 9,
   "id": "a129b8de",
   "metadata": {},
   "outputs": [],
   "source": [
    "f6 = open(\"ramya.txt\", \"r+\")\n",
    "f6.write(\"additional english by ramya\")\n",
    "f6.close()"
   ]
  },
  {
   "cell_type": "code",
   "execution_count": 31,
   "id": "383b92bd",
   "metadata": {},
   "outputs": [],
   "source": [
    "# Note: r+ works well only with language english, regional language it may give error until extra precaution is taken "
   ]
  },
  {
   "cell_type": "code",
   "execution_count": 32,
   "id": "4c120294",
   "metadata": {},
   "outputs": [],
   "source": [
    "# with operator close the file automatically "
   ]
  },
  {
   "cell_type": "code",
   "execution_count": 11,
   "id": "965b751d",
   "metadata": {},
   "outputs": [
    {
     "name": "stdout",
     "output_type": "stream",
     "text": [
      "à°",
      "à°²à±à°ªà±à°°à°à° à°¤à°¨à°µà±à°¨à°à°¾à°²à± à°",
      "à°²à°¸à°¿ à°¸à±à°²à°¸à°¿ à°ªà±à°¯à°¿à°¨à°¾°ªà±à°¯à°¿à°¨à°¾, à°¦à°¿à°¨à±à°¸à± à°¨à°²à°à°¾ à°²à±à°¦à±à°²à±\n",
      "à°¹à±à°¯à± à°¹à±à°¯à± à°¹à±à°¯à± à°¹à±à°¯à±â¦\n",
      "à°",
      "à°²à±à°ªà±à°°à°à° à°¤à°¨à°µà±à°¨à°à°¾à°²à± à°",
      "à°²à°¸à°¿ à°¸à±à°²à°¸à°¿ à°ªà±à°¯à°¿à°¨à°¾â¦ à°®à°¨à°¸à± à°à°°à°à°¾ à°²à±à°¦à±à°²à±â¦\n",
      "à°¹à±à°¯à± à°¹à±à°¯à± à°¹à±à°¯à± à°¹à±à°¯à±â¦\n",
      "à°à°¿à°¨à°¦à±à°®à± à°¤à°¿à°°à°¿à°à± à°à±à°¡à°¦à±â¦ à°ªà±à°°à±à°®à°à°à± à°",
      "à°¸à°²à± à°ªà°¡à°¦à±, à°¹à±à°¯à±â¦\n"
     ]
    }
   ],
   "source": [
    "with open(\"telugulyrics.txt\", encoding=\"latin-1\") as f9:\n",
    "    print(f9.read())"
   ]
  },
  {
   "cell_type": "code",
   "execution_count": 40,
   "id": "d312f0e7",
   "metadata": {},
   "outputs": [],
   "source": [
    "with open(\"demo.txt\",\"w\") as demo:\n",
    "    demo.write(\"\\nIt is useing git operator\")"
   ]
  },
  {
   "cell_type": "code",
   "execution_count": 41,
   "id": "45e56fca",
   "metadata": {},
   "outputs": [],
   "source": [
    "#wap to reverse the content of given file \n"
   ]
  },
  {
   "cell_type": "code",
   "execution_count": 43,
   "id": "fb3abbbf",
   "metadata": {},
   "outputs": [
    {
     "name": "stdout",
     "output_type": "stream",
     "text": [
      "ecnetnes wen si sihT \n",
      "ecnetnes wen si sihT \n",
      "eniaymar yb hsilgne lanoitidda\n"
     ]
    }
   ],
   "source": [
    "with open(\"ramya.txt\") as f:\n",
    "    print(f.read()[::-1])"
   ]
  },
  {
   "cell_type": "code",
   "execution_count": 44,
   "id": "09b91c29",
   "metadata": {},
   "outputs": [],
   "source": [
    "# Reverse the content line by line "
   ]
  },
  {
   "cell_type": "code",
   "execution_count": 47,
   "id": "7ac21620",
   "metadata": {
    "scrolled": true
   },
   "outputs": [
    {
     "name": "stdout",
     "output_type": "stream",
     "text": [
      "\n",
      "eniaymar yb hsilgne lanoitidda\n",
      "ecnetnes wen si sihT ecnetnes wen si sihT "
     ]
    }
   ],
   "source": [
    "with open(\"ramya.txt\") as f:\n",
    "    for i in f.readlines():\n",
    "        print(i[::-1], end=\"\")"
   ]
  },
  {
   "cell_type": "code",
   "execution_count": 48,
   "id": "17b4b7ec",
   "metadata": {},
   "outputs": [],
   "source": [
    "# Get First word of every line"
   ]
  },
  {
   "cell_type": "code",
   "execution_count": 62,
   "id": "a12bf0ab",
   "metadata": {},
   "outputs": [
    {
     "name": "stdout",
     "output_type": "stream",
     "text": [
      "[]\n",
      "['This', 'is', 'a', 'fresh', 'line', 'by', 'Ramya', 'This', 'is', 'new', 'sentence']\n",
      "['This', 'is', 'new', 'sentence']\n"
     ]
    }
   ],
   "source": [
    "with open (\"ramya.txt\") as f:\n",
    "    for i in f.readlines():\n",
    "        print(i.split())"
   ]
  },
  {
   "cell_type": "code",
   "execution_count": 61,
   "id": "6ff2db71",
   "metadata": {},
   "outputs": [],
   "source": [
    "with open(\"ramya.txt\", \"r+\") as f:\n",
    "    f.write(\"\\n This is a fresh line by Ramya\")"
   ]
  },
  {
   "cell_type": "code",
   "execution_count": 64,
   "id": "2be506ef",
   "metadata": {},
   "outputs": [],
   "source": [
    "demo =['This is file writing. \\n', 'This is new topic\\n', 'purpose of the operating file\\n']"
   ]
  },
  {
   "cell_type": "code",
   "execution_count": 65,
   "id": "f83b6aab",
   "metadata": {},
   "outputs": [],
   "source": [
    "with open(\"ramya.txt\", \"w\") as  f:\n",
    "    f.writelines(demo)"
   ]
  },
  {
   "cell_type": "code",
   "execution_count": 71,
   "id": "a6a1eb7b",
   "metadata": {},
   "outputs": [
    {
     "name": "stdout",
     "output_type": "stream",
     "text": [
      "0\n",
      "This is file writing. \n",
      "This is new topic\n",
      "purpose of the operating file\n",
      "\n",
      "74\n"
     ]
    }
   ],
   "source": [
    "# find the position of curson in the file\n",
    "with open(\"ramya.txt\") as f:\n",
    "    f.read(0)\n",
    "    print(f.tell())\n",
    "    print(f.read())\n",
    "    print(f.tell())"
   ]
  },
  {
   "cell_type": "code",
   "execution_count": 74,
   "id": "e3f718fe",
   "metadata": {},
   "outputs": [
    {
     "name": "stdout",
     "output_type": "stream",
     "text": [
      "is file writing\n"
     ]
    }
   ],
   "source": [
    "with open(\"ramya.txt\") as f:\n",
    "    f.seek(5)\n",
    "    print(f.read(15))"
   ]
  },
  {
   "cell_type": "code",
   "execution_count": 12,
   "id": "d50a2bf9",
   "metadata": {},
   "outputs": [],
   "source": [
    "# concate two files and store it in third file \n",
    "first = open(\"even.txt\")\n",
    "second = open('odd.txt')\n",
    "third = open('combo.txt','w')\n",
    "third.write(first.read())\n",
    "third.write('\\n')\n",
    "third.write(second.read())\n",
    "first.close()\n",
    "second.close()\n",
    "third.close()"
   ]
  },
  {
   "cell_type": "code",
   "execution_count": null,
   "id": "f701bd20",
   "metadata": {},
   "outputs": [],
   "source": []
  }
 ],
 "metadata": {
  "kernelspec": {
   "display_name": "Python 3 (ipykernel)",
   "language": "python",
   "name": "python3"
  },
  "language_info": {
   "codemirror_mode": {
    "name": "ipython",
    "version": 3
   },
   "file_extension": ".py",
   "mimetype": "text/x-python",
   "name": "python",
   "nbconvert_exporter": "python",
   "pygments_lexer": "ipython3",
   "version": "3.9.12"
  }
 },
 "nbformat": 4,
 "nbformat_minor": 5
}
