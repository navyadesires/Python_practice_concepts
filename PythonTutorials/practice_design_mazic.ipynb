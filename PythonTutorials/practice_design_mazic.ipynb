{
 "cells": [
  {
   "cell_type": "code",
   "execution_count": 6,
   "id": "af685a98",
   "metadata": {},
   "outputs": [],
   "source": [
    "from turtle import *\n",
    "color(\"red\")\n",
    "begin_fill()\n",
    "pensize(4)\n",
    "left(50)\n",
    "forward(133)\n",
    "circle(50,200)\n",
    "right(140)\n",
    "circle(50,200)\n",
    "forward(133)"
   ]
  },
  {
   "cell_type": "code",
   "execution_count": null,
   "id": "af9f7607",
   "metadata": {},
   "outputs": [],
   "source": []
  },
  {
   "cell_type": "code",
   "execution_count": 5,
   "id": "79e5df04",
   "metadata": {},
   "outputs": [],
   "source": [
    "from turtle import *\n",
    "width(10)\n",
    "begin_fill()\n",
    "left(160)\n",
    "circle(100, 100)\n",
    "circle(200, 60)\n",
    "circle(40,90)\n",
    "circle(-40, 100)\n",
    "circle(40,100)\n",
    "circle(200, 30)\n",
    "left(80)\n",
    "circle(-70,150)\n",
    "left(80)\n",
    "#circle(70,120)\n",
    "circle(70,145)"
   ]
  },
  {
   "cell_type": "code",
   "execution_count": null,
   "id": "891f6c72",
   "metadata": {},
   "outputs": [],
   "source": []
  }
 ],
 "metadata": {
  "kernelspec": {
   "display_name": "Python 3 (ipykernel)",
   "language": "python",
   "name": "python3"
  },
  "language_info": {
   "codemirror_mode": {
    "name": "ipython",
    "version": 3
   },
   "file_extension": ".py",
   "mimetype": "text/x-python",
   "name": "python",
   "nbconvert_exporter": "python",
   "pygments_lexer": "ipython3",
   "version": "3.9.12"
  }
 },
 "nbformat": 4,
 "nbformat_minor": 5
}
